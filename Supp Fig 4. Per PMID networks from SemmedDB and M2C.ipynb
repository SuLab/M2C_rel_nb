{
 "cells": [
  {
   "cell_type": "markdown",
   "metadata": {},
   "source": [
    "# Per PMID comparison of SemmedDB, M2C, and both relationships"
   ]
  },
  {
   "cell_type": "markdown",
   "metadata": {},
   "source": [
    "This notebook creates individual networks for each PMID to display relationships pulled from Mark2Cure, SemmedDB, or both."
   ]
  },
  {
   "cell_type": "markdown",
   "metadata": {},
   "source": [
    "## Import modules and data"
   ]
  },
  {
   "cell_type": "code",
   "execution_count": 1,
   "metadata": {
    "collapsed": true
   },
   "outputs": [],
   "source": [
    "import pandas\n",
    "import matplotlib\n",
    "from matplotlib import pyplot as mplot\n",
    "import networkx as nx\n",
    "##Note, this needs networkx 2.2.3 to work\n",
    "from pandas import read_csv"
   ]
  },
  {
   "cell_type": "markdown",
   "metadata": {},
   "source": [
    "Import the relationship annotations data and semmedDB data from the SemmedDB comparison"
   ]
  },
  {
   "cell_type": "code",
   "execution_count": 2,
   "metadata": {
    "collapsed": false
   },
   "outputs": [
    {
     "name": "stdout",
     "output_type": "stream",
     "text": [
      "  SUBJECT_NAME      PREDICATE           OBJECT_NAME     PMID SUBJECT_CUI  \\\n",
      "0     Alacrima  COEXISTS_WITH  Multisystem disorder  4075537    C0344505   \n",
      "1     Alacrima  COEXISTS_WITH  Multisystem disorder  4075537    C0344505   \n",
      "\n",
      "  SUBJECT_SEMTYPE OBJECT_CUI OBJECT_SEMTYPE  PREDICATION_ID  SENTENCE_ID  \\\n",
      "0            cgab   C0559758           dsyn        11447727     21333667   \n",
      "1            cgab   C0559758           dsyn        11447727     21333667   \n",
      "\n",
      "   SUBJECT_NOVELTY  OBJECT_NOVELTY SUBJECT_M2C_TYPE OBJECT_M2C_TYPE  \\\n",
      "0                1               0          disease         disease   \n",
      "1                1               0          disease         disease   \n",
      "\n",
      "  SUBJECT_ID OBJECT_ID  \n",
      "0    C562827   D004194  \n",
      "1    C562827   D019578  \n"
     ]
    }
   ],
   "source": [
    "savepath = 'data/'\n",
    "exppath = 'exports/'\n",
    "constrained_semmed_mesh = pandas.read_csv(exppath+'constrained_semmed_mesh.txt', delimiter='\\t', header=0)\n",
    "majority_result = pandas.read_csv(exppath+'majority_result.txt', delimiter='\\t', header=0)\n",
    "M2C_semmed_all_merge = pandas.read_csv(exppath+'M2C_semmed_all_merge.txt', delimiter='\\t', header=0)\n",
    "\n",
    "### drop unneed ex-index columns\n",
    "constrained_semmed_mesh.drop('Unnamed: 0', axis=1, inplace=True)\n",
    "majority_result.drop('Unnamed: 0', axis=1, inplace=True)\n",
    "M2C_semmed_all_merge.drop('Unnamed: 0', axis=1, inplace=True)\n",
    "\n",
    "print(constrained_semmed_mesh.head(n=2))"
   ]
  },
  {
   "cell_type": "code",
   "execution_count": 3,
   "metadata": {
    "collapsed": true
   },
   "outputs": [],
   "source": [
    "constrained_pmids = constrained_semmed_mesh['PMID'].unique().tolist()"
   ]
  },
  {
   "cell_type": "code",
   "execution_count": 5,
   "metadata": {
    "collapsed": false
   },
   "outputs": [
    {
     "ename": "ValueError",
     "evalue": "need more than 0 values to unpack",
     "output_type": "error",
     "traceback": [
      "\u001b[0;31m---------------------------------------------------------------------------\u001b[0m",
      "\u001b[0;31mValueError\u001b[0m                                Traceback (most recent call last)",
      "\u001b[0;32m<ipython-input-5-dfbbe23a2646>\u001b[0m in \u001b[0;36m<module>\u001b[0;34m()\u001b[0m\n\u001b[1;32m     89\u001b[0m                 \u001b[0mordered_colors\u001b[0m \u001b[1;33m=\u001b[0m \u001b[0mordered_nodes\u001b[0m\u001b[1;33m\u001b[0m\u001b[0m\n\u001b[1;32m     90\u001b[0m \u001b[1;33m\u001b[0m\u001b[0m\n\u001b[0;32m---> 91\u001b[0;31m             \u001b[0medges\u001b[0m\u001b[1;33m,\u001b[0m \u001b[0mecolors\u001b[0m \u001b[1;33m=\u001b[0m \u001b[0mzip\u001b[0m\u001b[1;33m(\u001b[0m\u001b[1;33m*\u001b[0m\u001b[0mnx\u001b[0m\u001b[1;33m.\u001b[0m\u001b[0mget_edge_attributes\u001b[0m\u001b[1;33m(\u001b[0m\u001b[0mG\u001b[0m\u001b[1;33m,\u001b[0m\u001b[1;34m'relcolor'\u001b[0m\u001b[1;33m)\u001b[0m\u001b[1;33m.\u001b[0m\u001b[0mitems\u001b[0m\u001b[1;33m(\u001b[0m\u001b[1;33m)\u001b[0m\u001b[1;33m)\u001b[0m\u001b[1;33m\u001b[0m\u001b[0m\n\u001b[0m\u001b[1;32m     92\u001b[0m \u001b[1;33m\u001b[0m\u001b[0m\n\u001b[1;32m     93\u001b[0m             \u001b[0mmplot\u001b[0m\u001b[1;33m.\u001b[0m\u001b[0msubplot2grid\u001b[0m\u001b[1;33m(\u001b[0m\u001b[1;33m(\u001b[0m\u001b[1;36m8\u001b[0m\u001b[1;33m,\u001b[0m \u001b[1;36m5\u001b[0m\u001b[1;33m)\u001b[0m\u001b[1;33m,\u001b[0m \u001b[1;33m(\u001b[0m\u001b[0mxrow\u001b[0m\u001b[1;33m,\u001b[0m \u001b[0mycol\u001b[0m\u001b[1;33m)\u001b[0m\u001b[1;33m)\u001b[0m\u001b[1;33m\u001b[0m\u001b[0m\n",
      "\u001b[0;31mValueError\u001b[0m: need more than 0 values to unpack"
     ]
    }
   ],
   "source": [
    "edge_colors = {'m2c_only_edge': '#666666', 'sem_only_edge':'#cccccc','both_edge':'#333333','c_1_broken':'#ffff99'}\n",
    "only_m2c_colors = {'c':'#ff00ff','d':'#31a6ff','g':'#00ff00'}\n",
    "only_sem_colors = {'c':'#ffccff','d':'#c6e2ff','g':'#d3ffce'}\n",
    "both_colors = {'c':'#990099','d':'#3b5998','g':'#003300'}\n",
    "\n",
    "f = mplot.figure(figsize=(20,40))\n",
    "i=0\n",
    "while i<len(constrained_pmids):\n",
    "    xrow = 0\n",
    "    while xrow < 8:\n",
    "        ycol = 0\n",
    "        while ycol < 5:\n",
    "            ##Color the Edges\n",
    "            tmpdf = M2C_semmed_all_merge.loc[M2C_semmed_all_merge['PMID']==constrained_pmids[i]].copy()\n",
    "\n",
    "            only_m2c_edges = tmpdf[['refid1','refid2','evtype']].loc[(tmpdf['SUBJECT_SEMTYPE']=='not found')&(tmpdf['OBJECT_SEMTYPE']=='not found')]\n",
    "            only_m2c_edges.rename(columns={'refid1':'from','refid2':'to','evtype':'relation'}, inplace=True)\n",
    "            only_m2c_edges['relcolor']= edge_colors['m2c_only_edge']\n",
    "            only_m2c_edges['relcolor'].loc[(only_m2c_edges['relation']=='c_1_broken')|(only_m2c_edges['relation']=='c_2_broken')] = edge_colors['c_1_broken']\n",
    "\n",
    "            only_sem_edges = tmpdf[['SUBJECT_ID','OBJECT_ID','PREDICATE']].loc[(tmpdf['refid1']=='not found')&\n",
    "                                                                                        (tmpdf['refid2']=='not found')]\n",
    "            only_sem_edges.rename(columns={'SUBJECT_ID':'from','OBJECT_ID':'to','PREDICATE':'relation'}, inplace=True)\n",
    "            only_sem_edges['relcolor']= edge_colors['sem_only_edge']\n",
    "\n",
    "            both_edges = tmpdf[['SUBJECT_ID','OBJECT_ID','PREDICATE']].loc[(tmpdf['refid1']!='not found')&\n",
    "                                                                                    (tmpdf['refid2']!='not found')&\n",
    "                                                                                    (tmpdf['SUBJECT_ID']!='not found')&\n",
    "                                                                                    (tmpdf['OBJECT_ID']!='not found')]\n",
    "            both_edges.rename(columns={'SUBJECT_ID':'from','OBJECT_ID':'to','PREDICATE':'relation'}, inplace=True)\n",
    "            both_edges['relcolor']= edge_colors['both_edge']\n",
    "\n",
    "            tmprels = [only_m2c_edges, only_sem_edges, both_edges]\n",
    "            tmpset = []\n",
    "            for eachreltable in tmprels:\n",
    "                tmpset.append(eachreltable)\n",
    "            reltable = pandas.concat(tmpset)\n",
    "            reltable.drop_duplicates(subset=['from','to','relation'],keep='first',inplace=True)\n",
    "\n",
    "            ##Color the Nodes\n",
    "            m2c_n1 = tmpdf[['refid1','refid1_type']].loc[tmpdf['SUBJECT_SEMTYPE']=='not found']\n",
    "            m2c_n1.rename(columns={'refid1':'node', 'refid1_type':'color'}, inplace=True)\n",
    "            m2c_n2 = tmpdf[['refid2','refid2_type']].loc[tmpdf['OBJECT_SEMTYPE']=='not found']\n",
    "            m2c_n2.rename(columns={'refid2':'node','refid2_type':'color'}, inplace=True)\n",
    "            m2c_node = pandas.concat((m2c_n1,m2c_n2))\n",
    "            m2c_node.drop_duplicates(subset='node',keep='first',inplace=True)\n",
    "\n",
    "            sem_n1 = tmpdf[['SUBJECT_ID','SUBJECT_M2C_TYPE']].loc[tmpdf['refid1']=='not found']\n",
    "            sem_n1.rename(columns={'SUBJECT_ID':'node', 'SUBJECT_M2C_TYPE':'color'}, inplace=True)\n",
    "            sem_n2 = tmpdf[['OBJECT_ID','OBJECT_M2C_TYPE']].loc[tmpdf['refid2']=='not found']\n",
    "            sem_n2.rename(columns={'OBJECT_ID':'node','OBJECT_M2C_TYPE':'color'}, inplace=True)\n",
    "            sem_node = pandas.concat((sem_n1,sem_n2))\n",
    "            sem_node.drop_duplicates(subset='node',keep='first',inplace=True)\n",
    "\n",
    "            both_n1 = tmpdf[['SUBJECT_ID','SUBJECT_M2C_TYPE']].loc[(tmpdf['refid1']!='not found')&(tmpdf['SUBJECT_SEMTYPE']!='not found')]\n",
    "            both_n1.rename(columns={'SUBJECT_ID':'node', 'SUBJECT_M2C_TYPE':'color'}, inplace=True)\n",
    "            both_n2 = tmpdf[['OBJECT_ID','OBJECT_M2C_TYPE']].loc[(tmpdf['refid2']!='not found')&(tmpdf['OBJECT_SEMTYPE']!='not found')]\n",
    "            both_n2.rename(columns={'OBJECT_ID':'node', 'OBJECT_M2C_TYPE':'color'}, inplace=True)\n",
    "            both_node = pandas.concat((both_n1,both_n2))\n",
    "            both_node.drop_duplicates(subset='node',keep='first',inplace=True)\n",
    "\n",
    "            both_check = m2c_node.loc[m2c_node['node'].isin(sem_node['node'].tolist())]\n",
    "            only_m2c_node = m2c_node.loc[~m2c_node['node'].isin(sem_node['node'].tolist())]\n",
    "            only_sem_node = sem_node.loc[~sem_node['node'].isin(m2c_node['node'].tolist())]\n",
    "\n",
    "            only_m2c_node.color.replace(only_m2c_colors, inplace=True)\n",
    "            only_sem_node.color.replace(only_sem_colors, inplace=True)\n",
    "            both_node.color.replace(both_colors, inplace=True)\n",
    "            both_check.color.replace(both_colors, inplace=True)\n",
    "\n",
    "            nodelist = [only_m2c_node,only_sem_node,both_node,both_check]\n",
    "            nodeset = []\n",
    "            for eachnodedf in nodelist:\n",
    "                if len(eachnodedf)>0:\n",
    "                     nodeset.append(eachnodedf)\n",
    "            try:\n",
    "                node_color_df = pandas.concat(nodeset)\n",
    "            except:\n",
    "                node_color_df_flag=False\n",
    "\n",
    "            # Build your graph\n",
    "            G=nx.from_pandas_edgelist(reltable, 'from', 'to', edge_attr=True, create_using=nx.MultiDiGraph() )\n",
    "\n",
    "            # The order of the node for networkX is the following order:\n",
    "            ordered_nodes = pandas.DataFrame(list(G.nodes())).rename(columns={0:'node'})\n",
    "            ordered_colors = ordered_nodes.merge(node_color_df,on='node',how='left')\n",
    "\n",
    "            edges, ecolors = zip(*nx.get_edge_attributes(G,'relcolor').items())\n",
    "                \n",
    "            mplot.subplot2grid((8, 5), (xrow, ycol))\n",
    "            nx.draw_circular(G, with_labels=True, node_color=ordered_colors['color'], node_size=800, \n",
    "                                            cmap=mplot.cm.Set1, edgelist = edges, edge_color = ecolors, \n",
    "                                            width=5.0, edge_cmap=mplot.cm.Set2, arrows=True)\n",
    "            #print(xrow,ycol,constrained_pmids[i])\n",
    "            ycol = ycol+1\n",
    "            i = i+1\n",
    "        xrow = xrow+1  \n",
    "mplot.show()    \n",
    "\n",
    "        \n"
   ]
  },
  {
   "cell_type": "code",
   "execution_count": 6,
   "metadata": {
    "collapsed": false
   },
   "outputs": [
    {
     "data": {
      "text/plain": [
       "<Figure size 2000x4000 with 0 Axes>"
      ]
     },
     "metadata": {},
     "output_type": "display_data"
    },
    {
     "data": {
      "text/plain": [
       "<Figure size 2000x4000 with 0 Axes>"
      ]
     },
     "metadata": {},
     "output_type": "display_data"
    },
    {
     "data": {
      "image/png": "[encoded data removed]",
      "text/plain": [
       "<Figure size 600x400 with 1 Axes>"
      ]
     },
     "metadata": {},
     "output_type": "display_data"
    }
   ],
   "source": [
    "##Legend\n",
    "edge_colors = {'m2c_only_edge': '#666666', 'sem_only_edge':'#cccccc','both_edge':'#333333','c_1_broken':'#ffff99'}\n",
    "only_m2c_colors = {'c':'#ff00ff','d':'#31a6ff','g':'#00ff00'}\n",
    "only_sem_colors = {'c':'#ffccff','d':'#c6e2ff','g':'#d3ffce'}\n",
    "both_colors = {'c':'#990099','d':'#3b5998','g':'#003300'}\n",
    "\n",
    "from matplotlib.lines import Line2D\n",
    "\n",
    "legend_elements = [Line2D([0], [0], color='#666666', lw=4, label='m2c_only_edge'),\n",
    "                   Line2D([0], [0], color='#cccccc', lw=4, label='sem_only_edge'),\n",
    "                   Line2D([0], [0], color='#333333', lw=4, label='both_edge'),\n",
    "                   Line2D([0], [0], color='#ffff99', lw=4, label='concept1 broken'),\n",
    "                   Line2D([0], [0], marker='o', label='m2c_only_chem', markerfacecolor='#ff00ff', markersize=15),\n",
    "                   Line2D([0], [0], marker='o', label='m2c_only_gene', markerfacecolor='#00ff00', markersize=15),\n",
    "                   Line2D([0], [0], marker='o', label='m2c_only_disease', markerfacecolor='#31a6ff', markersize=15),\n",
    "                   Line2D([0], [0], marker='o', label='semmed_only_chem', markerfacecolor='#ffccff', markersize=15),\n",
    "                   Line2D([0], [0], marker='o', label='semmed_only_gene', markerfacecolor='#d3ffce', markersize=15),\n",
    "                   Line2D([0], [0], marker='o', label='semmed_only_disease', markerfacecolor='#c6e2ff', markersize=15),\n",
    "                   Line2D([0], [0], marker='o', label='chem_in_both', markerfacecolor='#990099', markersize=15),\n",
    "                   Line2D([0], [0], marker='o', label='gene_in_both', markerfacecolor='#003300', markersize=15),\n",
    "                   Line2D([0], [0], marker='o', label='disease_in_both', markerfacecolor='#3b5998', markersize=15)]\n",
    "\n",
    "# Create the figure\n",
    "fig, ax = mplot.subplots()\n",
    "ax.legend(handles=legend_elements, loc='upper left')\n",
    "mplot.axis('off')\n",
    "mplot.show()\n"
   ]
  },
  {
   "cell_type": "code",
   "execution_count": null,
   "metadata": {
    "collapsed": true
   },
   "outputs": [],
   "source": []
  }
 ],
 "metadata": {
  "kernelspec": {
   "display_name": "Python 3",
   "language": "python",
   "name": "python3"
  },
  "language_info": {
   "codemirror_mode": {
    "name": "ipython",
    "version": 3
   },
   "file_extension": ".py",
   "mimetype": "text/x-python",
   "name": "python",
   "nbconvert_exporter": "python",
   "pygments_lexer": "ipython3",
   "version": "3.4.5"
  }
 },
 "nbformat": 4,
 "nbformat_minor": 1
}
