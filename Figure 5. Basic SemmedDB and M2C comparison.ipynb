{
 "cells": [
  {
   "cell_type": "markdown",
   "metadata": {},
   "source": [
    "# Comparison of SemmedDB and Mark2Cure concept pair (and relationship) types"
   ]
  },
  {
   "cell_type": "markdown",
   "metadata": {},
   "source": [
    "This notebook compares the concept pairings in SemmedDB and Mark2Cure (for only completed Mark2Cure concept pairs in which a majority of users determined that 1. neither concepts in the pair are broken, and 2. there is some sort of relationship between the concepts. Info on SemmedDB semantic types can be found at: https://metamap.nlm.nih.gov/SemanticTypesAndGroups.shtml"
   ]
  },
  {
   "cell_type": "markdown",
   "metadata": {},
   "source": [
    "## Import modules and data"
   ]
  },
  {
   "cell_type": "code",
   "execution_count": 1,
   "metadata": {
    "collapsed": true
   },
   "outputs": [],
   "source": [
    "import pandas\n",
    "import matplotlib\n",
    "from matplotlib import pyplot as mplot\n",
    "from pandas import read_csv"
   ]
  },
  {
   "cell_type": "markdown",
   "metadata": {},
   "source": [
    "Import the merged semmedDb and Mark2Cure data"
   ]
  },
  {
   "cell_type": "code",
   "execution_count": 2,
   "metadata": {
    "collapsed": false
   },
   "outputs": [
    {
     "name": "stdout",
     "output_type": "stream",
     "text": [
      "  SUBJECT_NAME    PREDICATE    OBJECT_NAME     PMID SUBJECT_CUI  \\\n",
      "0     Membrane  LOCATION_OF  Cytochromes b  3305576    C0596901   \n",
      "1  granulocyte      PART_OF          Human  3305576    C0018183   \n",
      "\n",
      "  SUBJECT_SEMTYPE OBJECT_CUI OBJECT_SEMTYPE  PREDICATION_ID  SENTENCE_ID  \\\n",
      "0            celc   C0010744           aapp         7613702     15005034   \n",
      "1            cell   C0020114           humn         7613765     15005153   \n",
      "\n",
      "   SUBJECT_NOVELTY  OBJECT_NOVELTY SUBJECT_M2C_TYPE OBJECT_M2C_TYPE  \\\n",
      "0                1               1             celc            gene   \n",
      "1                1               1             cell            humn   \n",
      "\n",
      "  SUBJECT_ID OBJECT_ID  \n",
      "0   notfound   D045303  \n",
      "1    D006098  notfound  \n"
     ]
    }
   ],
   "source": [
    "savepath = 'data/'\n",
    "exppath = 'results/'\n",
    "\n",
    "### Import the merged results of SemmedDB and Mark2Cure\n",
    "semmed_merged = pandas.read_csv(exppath+'semmed_merged.txt',delimiter='\\t',header=0)\n",
    "semmed_merged.drop('Unnamed: 0',axis=1, inplace=True)\n",
    "\n",
    "### Import the Semmed relationships where both subject and object are in M2C\n",
    "constrained_semmed_mesh = pandas.read_csv(exppath+'constrained_semmed_mesh.txt',delimiter='\\t',header=0)\n",
    "constrained_semmed_mesh.drop('Unnamed: 0',axis=1, inplace=True)\n",
    "\n",
    "### Import the Mark2Cure Majority-ruled results\n",
    "majority_result = pandas.read_csv(exppath+'majority_result.txt',delimiter='\\t',header=0)\n",
    "majority_result.drop('Unnamed: 0',axis=1, inplace=True)\n",
    "\n",
    "print(semmed_merged.head(n=2))"
   ]
  },
  {
   "cell_type": "markdown",
   "metadata": {},
   "source": [
    "### Codes for semantic types of interest. \n",
    "Disease code types were based on those selected for the NCBI disease corpus."
   ]
  },
  {
   "cell_type": "code",
   "execution_count": 3,
   "metadata": {
    "collapsed": true
   },
   "outputs": [],
   "source": [
    "## disease codes based on the ones selected for disease corpus\n",
    "disease_codes = {\n",
    "    'acab':'T020|Acquired Abnormality',\n",
    "    'anab':'T190|Anatomical Abnormality',\n",
    "    'cgab':'T019|Congenital Abnormality',\n",
    "    'comd':'T049|Cell or Molecular Dysfunction',\n",
    "    'dsyn':'T047|Disease or Syndrome',\n",
    "    'emod':'T050|Experimental Model of Disease',\n",
    "    'inpo':'T037|Injury or Poisoning',\n",
    "    'mobd':'T048|Mental or Behavioral Dysfunction',\n",
    "    'neop':'T191|Neoplastic Process',\n",
    "    'patf':'T046|Pathologic Function',\n",
    "    'sosy':'T184|Sign or Symptom',\n",
    "    'fndg':'T033|Finding'\n",
    "}\n",
    "\n",
    "gene_codes = {\n",
    "    'aapp':'T116|Amino Acid, Peptide, or Protein',\n",
    "    'enzy':'T126|Enzyme',\n",
    "    'gngm':'T028|Gene or Genome'\n",
    "}\n",
    "\n",
    "treatment_codes = {\n",
    "    'chem':'T103|Chemical',\n",
    "    'chvf':'T120|Chemical Viewed Functionally',\n",
    "    'chvs':'T104|Chemical Viewed Structurally',\n",
    "    'clnd':'T200|Clinical Drug',\n",
    "    'drdd':'T203|Drug Delivery Device',\n",
    "    'eico':'T111|Eicosanoid',\n",
    "    'hops':'T131|Hazardous or Poisonous Substance',\n",
    "    'horm':'T125|Hormone',\n",
    "    'inch':'T197|Inorganic Chemical',\n",
    "    'medd':'T074|Medical Device',\n",
    "    'phsu':'T121|Pharmacologic Substance',\n",
    "    'sbst':'T167|Substance',\n",
    "    'shro':'T095|Self-help or Relief Organization ',\n",
    "    'topp':'T061|Therapeutic or Preventive Procedure ',\n",
    "    'nsba':'T124|Neuroreactive Substance or Biogenic Amine',\n",
    "    'vita':'T127|Vitamin',\n",
    "    'bacs':'T123|Biologically Active Substance', \n",
    "    'carb':'T118|Carbohydrate', \n",
    "    'orch':'T109|Organic Chemical'\n",
    "}"
   ]
  },
  {
   "cell_type": "code",
   "execution_count": 4,
   "metadata": {
    "collapsed": false
   },
   "outputs": [
    {
     "name": "stdout",
     "output_type": "stream",
     "text": [
      "['neop', 'emod', 'dsyn', 'cgab', 'anab', 'mobd', 'inpo', 'patf', 'acab', 'sosy', 'fndg', 'comd', 'aapp', 'gngm', 'enzy', 'orch', 'clnd', 'inch', 'hops', 'carb', 'chvf', 'phsu', 'nsba', 'vita', 'sbst', 'chem', 'medd', 'shro', 'topp', 'drdd', 'bacs', 'horm', 'eico', 'chvs']\n"
     ]
    }
   ],
   "source": [
    "semantic_types = list(disease_codes.keys())+list(gene_codes.keys())+list(treatment_codes.keys())\n",
    "print(semantic_types)"
   ]
  },
  {
   "cell_type": "markdown",
   "metadata": {},
   "source": [
    "## Analyze the concepts & relations in common and different between Mark2Cure and SemmedDB"
   ]
  },
  {
   "cell_type": "markdown",
   "metadata": {},
   "source": [
    "The mappings between SemmedDB and Mark2Cure will be based on the identifiers for the concept. Since we don't bother converting UMLS IDs to MeSH IDs for concepts that are outside of the Mark2Cure semantic type (eg- cell lines, species, etc) and because concepts outside the Mark2Cure semantic type should not map to Mark2Cure concepts, we reduce the number of SemmedDB annotations to analyze by filtering for only annotations where the SemmedDB concepts are within the Mark2Cure semantic types (eg- genes, treatments, diseases)\n",
    "\n",
    "Since SemmedDB tokenizes at the sentence level, it's possible for a concept pair in Mark2Cure to be spread across different annotations in SemmedDB. To ensure that we don't lose those, we'll need to look at the appearance of individual members of a concept pair in each pmid, and not just the entire concept pair.\n",
    "\n",
    "To do that, we first pull the pmids from the SemmedDB annotations where BOTH concepts appear in Mark2Cure.  Then we use the pmids to pull the relationships that Mark2Cure annotators completed."
   ]
  },
  {
   "cell_type": "code",
   "execution_count": 5,
   "metadata": {
    "collapsed": false
   },
   "outputs": [
    {
     "name": "stdout",
     "output_type": "stream",
     "text": [
      "Number of PMIDs which have semmed relations where both concepts are in M2C:  55\n",
      "Number of relationships in PMIDs, with SEMMED relationships on concepts in M2C:  402\n"
     ]
    }
   ],
   "source": [
    "## Pull the pmids from the semmed db relations where both concepts appear in Mark2Cure\n",
    "constrained_pmids = constrained_semmed_mesh['PMID'].unique().tolist()\n",
    "print('Number of PMIDs which have semmed relations where both concepts are in M2C: ',len(constrained_pmids))\n",
    "## Use the pmids to pull the relationships that Mark2Cure annotators completed\n",
    "m2c_semmed_subset = majority_result.loc[majority_result['pmid'].isin(constrained_pmids)]\n",
    "print('Number of relationships in PMIDs, with SEMMED relationships on concepts in M2C: ',len(m2c_semmed_subset))\n",
    "\n",
    "#print(m2c_semmed_subset.head(n=2))\n",
    "#print(constrained_pmids)"
   ]
  },
  {
   "cell_type": "markdown",
   "metadata": {},
   "source": [
    "Filter the SemmedDB (with MeshIDs) merged/mapped result by Mark2Cure semantic type.  Do an outer merge of the new filtered SemmedDB with Mesh IDs with the Mark2Cure annotations that have been constrained by PMIDs where M2C and Semmed have concepts in common in order to get the union. This will allow us to identify the concept pairs that are unique to SemmedDB, unique to Mark2Cure, or overlap between the two."
   ]
  },
  {
   "cell_type": "code",
   "execution_count": 6,
   "metadata": {
    "collapsed": false
   },
   "outputs": [
    {
     "name": "stdout",
     "output_type": "stream",
     "text": [
      "unfiltered:  1555\n",
      "filtered:  260\n",
      "657\n"
     ]
    }
   ],
   "source": [
    "test_pmid_set =[8006362, 10420116, 16098009]\n",
    "print('unfiltered: ',len(semmed_merged))\n",
    "filtered_semmed_mesh = semmed_merged.loc[semmed_merged['PMID'].isin(constrained_pmids)&\n",
    "                                        (semmed_merged['SUBJECT_SEMTYPE'].isin(semantic_types))&\n",
    "                                        (semmed_merged['OBJECT_SEMTYPE'].isin(semantic_types))].copy()\n",
    "filtered_semmed_mesh['concept_pair'] = filtered_semmed_mesh['SUBJECT_ID'].astype(str).str.cat(filtered_semmed_mesh['OBJECT_ID'].astype(str),sep='_x_')\n",
    "filtered_semmed_mesh.replace({'SUBJECT_M2C_TYPE':{'gene':'g', 'disease':'d','treatment':'c'},\n",
    "                              'OBJECT_M2C_TYPE':{'gene':'g', 'disease':'d','treatment':'c'}}, inplace=True)\n",
    "filtered_semmed_mesh['reltype'] = filtered_semmed_mesh['SUBJECT_M2C_TYPE'].astype(str).str.cat(filtered_semmed_mesh['OBJECT_M2C_TYPE'].astype(str),sep='_')\n",
    "filtered_semmed_mesh.drop('SENTENCE_ID', axis=1, inplace=True)\n",
    "print('filtered: ',len(filtered_semmed_mesh))\n",
    "#print(filtered_semmed_mesh.head(n=2))\n",
    "m2c_tmp = m2c_semmed_subset.copy()\n",
    "#m2c_tmp = majority_result.copy()\n",
    "m2c_tmp.rename(columns={'pmid':'PMID'}, inplace=True)\n",
    "m2c_tmp.drop(['user_count','relation_count','test_completions'],axis=1,inplace=True)\n",
    "#print(m2c_tmp.head(n=2))\n",
    "\n",
    "M2C_semmed_all_merge = m2c_tmp.merge(filtered_semmed_mesh, on=('PMID','reltype','concept_pair'), how='outer').fillna('not found')\n",
    "M2C_semmed_all_merge['PMID']=M2C_semmed_all_merge['PMID'].astype(int)\n",
    "M2C_semmed_all_merge.sort_values(['PMID','concept_pair'],ascending=[True,True],inplace=True)\n",
    "#print(M2C_semmed_all_merge.loc[M2C_semmed_merge['OBJECT_CUI']!='not found'].head(n=2))\n",
    "print(len(M2C_semmed_all_merge))\n",
    "#M2C_semmed_all_merge.to_csv(exppath+'M2C_semmed_all_merge.txt',sep='\\t',header=True)"
   ]
  },
  {
   "cell_type": "markdown",
   "metadata": {},
   "source": [
    "Discard concept pairs that users marked as broken and 'not related', prior to summarizing and generating the plots"
   ]
  },
  {
   "cell_type": "code",
   "execution_count": 7,
   "metadata": {
    "collapsed": false
   },
   "outputs": [
    {
     "name": "stdout",
     "output_type": "stream",
     "text": [
      "relations left after broken concepts removed:  600\n",
      "relations left after unrelated concepts removed:  566\n"
     ]
    }
   ],
   "source": [
    "#print(M2C_semmed_all_merge.head(n=2))\n",
    "#### Drop the annotations users marked as broken\n",
    "M2C_semmed_merge_nb = M2C_semmed_all_merge.loc[(M2C_semmed_all_merge['evtype']!='c_1_broken')&(M2C_semmed_all_merge['evtype']!='c_1_broken')]\n",
    "print('relations left after broken concepts removed: ',len(M2C_semmed_merge_nb))\n",
    "#print(M2C_semmed_merge_nb.head(n=2))\n",
    "\n",
    "M2C_semmed_merge = M2C_semmed_merge_nb.loc[~M2C_semmed_merge_nb['evtype'].str.contains('no relation')]\n",
    "print('relations left after unrelated concepts removed: ',len(M2C_semmed_merge))\n",
    "#print(M2C_semmed_merge.head(n=2))"
   ]
  },
  {
   "cell_type": "markdown",
   "metadata": {},
   "source": [
    "## Visualize the results"
   ]
  },
  {
   "cell_type": "markdown",
   "metadata": {},
   "source": [
    "Create a heatmap to compare the relationships in Mark2Cure vs SemmedDB where each row is a PMID and the columns are the number of relationships in semmeddb that are g-g, g-d (or d-g), g-c(or c-g), d-d, c-c, c-d (or d-c). Do the same for M2C, number of relations that are g-d, g-c, or c-d, and the relations in common between Mark2Cure and SemmedDB.\n",
    "\n",
    "To start, format the results for ease of analysis and plotting"
   ]
  },
  {
   "cell_type": "code",
   "execution_count": 8,
   "metadata": {
    "collapsed": false
   },
   "outputs": [
    {
     "name": "stderr",
     "output_type": "stream",
     "text": [
      "C:\\Users\\ginger\\Anaconda3\\envs\\py3bioc\\lib\\site-packages\\ipykernel\\__main__.py:1: SettingWithCopyWarning: \n",
      "A value is trying to be set on a copy of a slice from a DataFrame.\n",
      "Try using .loc[row_indexer,col_indexer] = value instead\n",
      "\n",
      "See the caveats in the documentation: http://pandas.pydata.org/pandas-docs/stable/indexing.html#indexing-view-versus-copy\n",
      "  if __name__ == '__main__':\n",
      "C:\\Users\\ginger\\Anaconda3\\envs\\py3bioc\\lib\\site-packages\\pandas\\core\\indexing.py:477: SettingWithCopyWarning: \n",
      "A value is trying to be set on a copy of a slice from a DataFrame.\n",
      "Try using .loc[row_indexer,col_indexer] = value instead\n",
      "\n",
      "See the caveats in the documentation: http://pandas.pydata.org/pandas-docs/stable/indexing.html#indexing-view-versus-copy\n",
      "  self.obj[item] = s\n"
     ]
    }
   ],
   "source": [
    "M2C_semmed_merge['reltype_cat'] = 'missing_data'\n",
    "M2C_semmed_merge.loc[(M2C_semmed_merge['refid1']=='not found')&(M2C_semmed_merge['refid2']=='not found'),'reltype_cat']='semmed_only'\n",
    "M2C_semmed_merge.loc[(M2C_semmed_merge['refid1']!='not found')&(M2C_semmed_merge['refid2']=='not found'),'reltype_cat']='semmed_only'\n",
    "M2C_semmed_merge.loc[(M2C_semmed_merge['refid1']=='not found')&(M2C_semmed_merge['refid2']!='not found'),'reltype_cat']='semmed_only'\n",
    "M2C_semmed_merge.loc[(M2C_semmed_merge['SUBJECT_M2C_TYPE']=='not found')&(M2C_semmed_merge['OBJECT_M2C_TYPE']=='not found'),'reltype_cat']='M2C_only'\n",
    "M2C_semmed_merge.loc[(M2C_semmed_merge['SUBJECT_M2C_TYPE']!='not found')&(M2C_semmed_merge['OBJECT_M2C_TYPE']=='not found'),'reltype_cat']='M2C_only'\n",
    "M2C_semmed_merge.loc[(M2C_semmed_merge['SUBJECT_M2C_TYPE']=='not found')&(M2C_semmed_merge['OBJECT_M2C_TYPE']!='not found'),'reltype_cat']='M2C_only'\n",
    "M2C_semmed_merge.loc[(M2C_semmed_merge['SUBJECT_M2C_TYPE']!='not found')&(M2C_semmed_merge['OBJECT_M2C_TYPE']!='not found')&\n",
    "                     (M2C_semmed_merge['refid1']!='not found')&(M2C_semmed_merge['refid2']!='not found'),'reltype_cat']='both'\n"
   ]
  },
  {
   "cell_type": "markdown",
   "metadata": {},
   "source": [
    "Get the counts of each relationship type per PMID"
   ]
  },
  {
   "cell_type": "code",
   "execution_count": 9,
   "metadata": {
    "collapsed": false
   },
   "outputs": [],
   "source": [
    "relation_type_counts = M2C_semmed_merge.groupby(['PMID','reltype','reltype_cat']).size().reset_index(name = 'counts')\n",
    "\n",
    "#print(relation_type_counts.head(n=10))\n",
    "#print(relation_type_counts.loc[relation_type_counts['reltype_cat']=='both'])"
   ]
  },
  {
   "cell_type": "markdown",
   "metadata": {},
   "source": [
    "Rearrange the dataframe to be categorical by PMID"
   ]
  },
  {
   "cell_type": "code",
   "execution_count": 9,
   "metadata": {
    "collapsed": false
   },
   "outputs": [],
   "source": [
    "semmed_table = []\n",
    "m2c_table = []\n",
    "both_table = []\n",
    "#for eachpmid in (8006362,10420116,11404002):\n",
    "for eachpmid in relation_type_counts['PMID'].unique().tolist():\n",
    "    tmpdf = relation_type_counts.loc[relation_type_counts['PMID']==eachpmid]\n",
    "    tmpsemdict = {'PMID':eachpmid,'c_c':0,'g_g':0,'d_d':0,'c_g':0,'g_c':0,'g_d':0,'d_g':0,'c_d':0,'d_c':0}\n",
    "    tmpm2cdict = {'PMID':eachpmid,'c_g':0,'g_c':0,'g_d':0,'d_g':0,'c_d':0,'d_c':0}\n",
    "    tmpbothdict = {'PMID':eachpmid,'c_g':0,'g_c':0,'g_d':0,'d_g':0,'c_d':0,'d_c':0}\n",
    "    if len(tmpdf.loc[tmpdf['reltype_cat']=='M2C_only'])!=0: ## if there are m2c only entries\n",
    "        m2ctypes = tmpdf.loc[tmpdf['reltype_cat']=='M2C_only']\n",
    "        for eachm2ctype in m2ctypes['reltype'].tolist():\n",
    "            tmpm2cdict[eachm2ctype] = m2ctypes['counts'].loc[m2ctypes['reltype']==eachm2ctype].iloc[0]\n",
    "        m2c_table.append(tmpm2cdict)\n",
    "    else:\n",
    "        m2c_table.append(tmpm2cdict)\n",
    "    if len(tmpdf.loc[tmpdf['reltype_cat']=='semmed_only'])!=0: ##there are semmed only entries\n",
    "        semtypes = tmpdf.loc[tmpdf['reltype_cat']=='semmed_only']\n",
    "        for eachsemtype in semtypes['reltype'].tolist():\n",
    "            tmpsemdict[eachsemtype] = semtypes['counts'].loc[semtypes['reltype']==eachsemtype].iloc[0]\n",
    "        semmed_table.append(tmpsemdict)\n",
    "    else:\n",
    "        semmed_table.append(tmpsemdict)\n",
    "    if len(tmpdf.loc[tmpdf['reltype_cat']=='both'])!=0: ## relationship exists in both M2C and semmed db\n",
    "        bothtypes = tmpdf.loc[tmpdf['reltype_cat']=='both']\n",
    "        for eachbothtype in bothtypes['reltype'].tolist():                     \n",
    "            tmpbothdict[eachbothtype] = bothtypes['counts'].loc[bothtypes['reltype']==eachbothtype].iloc[0]\n",
    "        both_table.append(tmpbothdict)\n",
    "    else:\n",
    "        both_table.append(tmpbothdict)     \n"
   ]
  },
  {
   "cell_type": "code",
   "execution_count": 10,
   "metadata": {
    "collapsed": true
   },
   "outputs": [],
   "source": [
    "####Check point: Confirm the M2C Maximum:\n",
    "#print(pandas.DataFrame(m2c_table))\n",
    "#print(relation_type_counts.loc[relation_type_counts['PMID']==22538409])\n",
    "#print(M2C_semmed_merge.loc[M2C_semmed_merge['PMID']==22538409])"
   ]
  },
  {
   "cell_type": "markdown",
   "metadata": {},
   "source": [
    "For ease of plotting split the SemmedDB-specific concept pairs from the M2C-specific concept pairs and the concept pairs in common"
   ]
  },
  {
   "cell_type": "code",
   "execution_count": null,
   "metadata": {
    "collapsed": true
   },
   "outputs": [],
   "source": [
    "semmed_hm_df = pandas.DataFrame(semmed_table)\n",
    "m2c_hm_df = pandas.DataFrame(m2c_table)\n",
    "both_hm_df = pandas.DataFrame(both_table)"
   ]
  },
  {
   "cell_type": "markdown",
   "metadata": {},
   "source": [
    "Because it is possible for the concept pairs to be arranged in two directions in SemmedDB, reduce the directionalities of the heterogeneous concept type (heterotype) relationships for ease of comparison."
   ]
  },
  {
   "cell_type": "code",
   "execution_count": 11,
   "metadata": {
    "collapsed": false
   },
   "outputs": [
    {
     "name": "stdout",
     "output_type": "stream",
     "text": [
      "      PMID  c_g  g_d  c_d\n",
      "0  4075537    0    0    0\n",
      "1  8006362    0    0    0\n",
      "      PMID  c_g  g_d  c_d\n",
      "0  4075537    0    6    0\n",
      "1  8006362    0    0    0\n"
     ]
    }
   ],
   "source": [
    "m2c_hm_df['g_c_c_g'] = m2c_hm_df['g_c']+m2c_hm_df['c_g']\n",
    "m2c_hm_df['g_d_d_g'] = m2c_hm_df['g_d']+m2c_hm_df['d_g']\n",
    "m2c_hm_df['d_c_c_d'] = m2c_hm_df['d_c']+m2c_hm_df['c_d']\n",
    "m2c_hm_df.drop(['g_c','g_d','c_g','d_g','d_c','c_d'],axis=1,inplace=True)\n",
    "m2c_hm_df.rename(columns = {'g_c_c_g':'c_g','g_d_d_g':'g_d','d_c_c_d':'c_d'}, inplace=True)\n",
    "\n",
    "semmed_hm_df['g_c_c_g'] = semmed_hm_df['g_c']+semmed_hm_df['c_g']\n",
    "semmed_hm_df['g_d_d_g'] = semmed_hm_df['g_d']+semmed_hm_df['d_g']\n",
    "semmed_hm_df['d_c_c_d'] = semmed_hm_df['d_c']+semmed_hm_df['c_d']\n",
    "semmed_hm_df.drop(['g_c','g_d','c_g','d_g','d_c','c_d'],axis=1,inplace=True)\n",
    "semmed_hm_df.rename(columns = {'g_c_c_g':'c_g','g_d_d_g':'g_d','d_c_c_d':'c_d'}, inplace=True)\n",
    "\n",
    "both_hm_df['g_c_c_g'] = both_hm_df['g_c']+both_hm_df['c_g']\n",
    "both_hm_df['g_d_d_g'] = both_hm_df['g_d']+both_hm_df['d_g']\n",
    "both_hm_df['d_c_c_d'] = both_hm_df['d_c']+both_hm_df['c_d']\n",
    "both_hm_df.drop(['g_c','g_d','c_g','d_g','d_c','c_d'],axis=1,inplace=True)\n",
    "both_hm_df.rename(columns = {'g_c_c_g':'c_g','g_d_d_g':'g_d','d_c_c_d':'c_d'}, inplace=True)\n",
    "\n",
    "semmed_hom_df = semmed_hm_df[['PMID','c_c','d_d','g_g']].copy()\n",
    "semmed_het_df = semmed_hm_df[['PMID','c_g','g_d','c_d']].copy()\n",
    "\n",
    "print(both_hm_df.head(n=2))\n",
    "print(m2c_hm_df.head(n=2))"
   ]
  },
  {
   "cell_type": "markdown",
   "metadata": {},
   "source": [
    "The heatmap intensity will depend on the maximum of the maximum number of each relationship type per pmid per data source, so determine the absolute max value"
   ]
  },
  {
   "cell_type": "code",
   "execution_count": 12,
   "metadata": {
    "collapsed": false
   },
   "outputs": [
    {
     "name": "stdout",
     "output_type": "stream",
     "text": [
      "20\n"
     ]
    }
   ],
   "source": [
    "#### maximum values for setting the alphas in the heatmap\n",
    "semmed_max = (semmed_hm_df[['c_c','g_g','d_d','c_g','g_d','c_d']].max()).max()\n",
    "m2c_max = (m2c_hm_df[['c_g','g_d','c_d']].max()).max()\n",
    "both_max = (both_hm_df[['c_g','g_d','c_d']].max()).max()\n",
    "absolute_max = max(semmed_max,m2c_max,both_max)\n",
    "print(absolute_max)"
   ]
  },
  {
   "cell_type": "code",
   "execution_count": 13,
   "metadata": {
    "collapsed": false
   },
   "outputs": [
    {
     "name": "stdout",
     "output_type": "stream",
     "text": [
      "      PMID  c_g  g_d  c_d\n",
      "0  4075537    0    6    0\n",
      "1  8006362    0    0    0\n"
     ]
    }
   ],
   "source": [
    "print(m2c_hm_df.head(n=2))"
   ]
  },
  {
   "cell_type": "markdown",
   "metadata": {},
   "source": [
    "Generate the heatmap"
   ]
  },
  {
   "cell_type": "code",
   "execution_count": 14,
   "metadata": {
    "collapsed": false,
    "scrolled": false
   },
   "outputs": [
    {
     "name": "stderr",
     "output_type": "stream",
     "text": [
      "C:\\Users\\ginger\\Anaconda3\\envs\\py3bioc\\lib\\site-packages\\IPython\\html.py:14: ShimWarning: The `IPython.html` package has been deprecated. You should import from `notebook` instead. `IPython.html.widgets` has moved to `ipywidgets`.\n",
      "  \"`IPython.html.widgets` has moved to `ipywidgets`.\", ShimWarning)\n"
     ]
    },
    {
     "data": {
      "image/png": "[encoded data removed]",
      "text/plain": [
       "<Figure size 1500x1500 with 5 Axes>"
      ]
     },
     "metadata": {},
     "output_type": "display_data"
    }
   ],
   "source": [
    "import seaborn as sns; sns.set()\n",
    "\n",
    "f = mplot.figure(figsize=(15,15))\n",
    "\n",
    "\n",
    "ax = mplot.subplot(1,4,1)\n",
    "ax = sns.heatmap(semmed_hom_df.set_index('PMID'), vmin=0, vmax=20, yticklabels=True, cbar=False)\n",
    "ax.yaxis.set_visible(True)\n",
    "mplot.title('Semmed relations (homotype)')\n",
    "\n",
    "ax2 = mplot.subplot(1,4,2)\n",
    "ax2 = sns.heatmap(semmed_het_df.set_index('PMID'), vmin=0, vmax=20, yticklabels=False, cbar=False)\n",
    "ax2.yaxis.set_visible(False)\n",
    "mplot.title('Semmed relations (heterotype)')\n",
    "\n",
    "ax3 = mplot.subplot(1,4,3)\n",
    "ax3 = sns.heatmap(both_hm_df.set_index('PMID'), vmin=0, vmax=20, yticklabels=False, cbar=False)\n",
    "ax3.yaxis.set_visible(False)\n",
    "mplot.title('both relations')\n",
    "\n",
    "ax4 = mplot.subplot(1,4,4)\n",
    "ax4 = sns.heatmap(m2c_hm_df.set_index('PMID'), vmin=0, vmax=20, yticklabels=False,cbar=True)\n",
    "ax4.yaxis.set_visible(False)\n",
    "mplot.title('M2C relations')\n",
    "\n",
    "\n",
    "\n",
    "f.subplots_adjust(wspace=0.01)\n",
    "mplot.show(f)\n",
    "\n"
   ]
  },
  {
   "cell_type": "markdown",
   "metadata": {},
   "source": [
    "### Aggregate and Transform the heatmap into a simplified plot to display the difference between M2C & SemmedDB\n",
    "Aggregate the number of homotype relationships and heterotype relationships per PMID and calculate the total number of relationships per pmid for SemmedDB-specific concept pairs and Mark2Cure-specific concept pairs. Plot the ratio of homotype relationships to pmids vs the number of total relationships to pmids. Same with the number of heterotype relationship to pmids vs total relationships to pmids. \n",
    "\n",
    "First, deal with the unmapped concepts since obtaining counts using 'groupby' and size will not be accurate if grouping by concepts with no identifier."
   ]
  },
  {
   "cell_type": "code",
   "execution_count": null,
   "metadata": {
    "collapsed": true
   },
   "outputs": [],
   "source": [
    "constrained_results = M2C_semmed_merge.loc[M2C_semmed_merge['PMID'].isin(constrained_pmids)].copy()\n",
    "#print(constrained_results)\n",
    "\n",
    "### For each pmid, count number of refid1 != not found & reltype = c, g, d\n",
    "### Also count number of OBJECT_CUI != not found & SUBJECT_M2C_TYPE OBJECT_M2C_TYPE = c, g, d\n",
    "### Also count total number of entries  = total total\n",
    "\n",
    "M2C_constrained_df = constrained_results.loc[constrained_results['evtype']!='not found'].copy()\n",
    "semmed_constrained_df = constrained_results.loc[constrained_results['PREDICATION_ID']!='not found'].copy()\n",
    "overlap_constrained_df = constrained_results.loc[((constrained_results['refid1']!='not found')&\n",
    "                                                 ((constrained_results['refid1']==constrained_results['SUBJECT_ID'])|\n",
    "                                                 (constrained_results['refid1']==constrained_results['OBJECT_ID'])))|\n",
    "                                                 ((constrained_results['refid2']!='not found')&\n",
    "                                                 ((constrained_results['refid2']==constrained_results['SUBJECT_ID'])|\n",
    "                                                 (constrained_results['refid2']==constrained_results['OBJECT_ID'])))\n",
    "                                                ].copy()"
   ]
  },
  {
   "cell_type": "markdown",
   "metadata": {},
   "source": [
    "Next, pull the number of unique identifiers for each type per PMID in M2C"
   ]
  },
  {
   "cell_type": "code",
   "execution_count": null,
   "metadata": {
    "collapsed": true
   },
   "outputs": [],
   "source": [
    "refid1grp = M2C_constrained_df.groupby(['PMID','refid1','refid1_type']).size().reset_index(name='refid1_count')\n",
    "refid2grp = M2C_constrained_df.groupby(['PMID','refid2','refid2_type']).size().reset_index(name='refid2_count')\n",
    "gtmp1 = refid1grp.loc[refid1grp['refid1_type']=='g'].copy()\n",
    "gtmp2 = refid2grp.loc[refid2grp['refid2_type']=='g'].copy()\n",
    "gtmp2.rename(columns={'refid2':'refid1','refid2_type':'refid1_type','refid2_count':'refid1_count'},inplace=True)\n",
    "gtmp3 = pandas.concat((gtmp1,gtmp2))"
   ]
  },
  {
   "cell_type": "markdown",
   "metadata": {},
   "source": [
    "Count the number of unique identifiers for each type per PMID in M2C and count the number of unique M2C relationships"
   ]
  },
  {
   "cell_type": "code",
   "execution_count": null,
   "metadata": {
    "collapsed": true
   },
   "outputs": [],
   "source": [
    "M2C_unique_drugs = refid1grp.loc[refid1grp['refid1_type']=='c'].groupby(['PMID','refid1_type']).size().reset_index(name='M2C_c_count')\n",
    "M2C_unique_disease = refid2grp.loc[refid2grp['refid2_type']=='d'].groupby(['PMID','refid2_type']).size().reset_index(name='M2C_d_count')\n",
    "M2C_unique_genes = gtmp3.loc[gtmp3['refid1_type']=='g'].groupby(['PMID','refid1_type']).size().reset_index(name='M2C_g_count')\n",
    "\n",
    "##first, get the number of results per unique cpmids\n",
    "M2C_cpmids_count = M2C_constrained_df.groupby(['PMID','concept_pair']).size().reset_index(name='M2C_cpmid_count')\n",
    "##next, get the number of unique cpmids per PMID\n",
    "M2C_reltype_count = M2C_cpmids_count.groupby(['PMID']).size().reset_index(name='M2C_cpmid_count')\n",
    "#print(M2C_reltype_count)"
   ]
  },
  {
   "cell_type": "markdown",
   "metadata": {},
   "source": [
    "Do the same with SemmedDB results, but note that relationships can be any direction and within same type"
   ]
  },
  {
   "cell_type": "code",
   "execution_count": null,
   "metadata": {
    "collapsed": true
   },
   "outputs": [],
   "source": [
    "semmed1grp = semmed_constrained_df.groupby(['PMID','SUBJECT_CUI','SUBJECT_M2C_TYPE']).size().reset_index(name='refid1_count')\n",
    "semmed2grp = semmed_constrained_df.groupby(['PMID','OBJECT_CUI','OBJECT_M2C_TYPE']).size().reset_index(name='refid2_count')\n",
    "semmed3grp = semmed2grp.copy().rename(columns={'OBJECT_CUI':'SUBJECT_CUI','OBJECT_M2C_TYPE':'SUBJECT_M2C_TYPE','refid2_count':'refid1_count'})\n",
    "semmed_all = pandas.concat((semmed1grp,semmed3grp))\n",
    "semmed_unique_cuis = semmed_all.groupby(['PMID','SUBJECT_CUI','SUBJECT_M2C_TYPE']).size().reset_index(name='counts')\n",
    "semmed_unique_type_counts = semmed_unique_cuis.groupby(['PMID','SUBJECT_M2C_TYPE']).size().reset_index(name='type_counts')\n",
    "semmed_unique_drugs = semmed_unique_type_counts.loc[semmed_unique_type_counts['SUBJECT_M2C_TYPE']=='c']\n",
    "semmed_unique_disease = semmed_unique_type_counts.loc[semmed_unique_type_counts['SUBJECT_M2C_TYPE']=='d']\n",
    "semmed_unique_gene = semmed_unique_type_counts.loc[semmed_unique_type_counts['SUBJECT_M2C_TYPE']=='g']\n",
    "\n",
    "##first, get the number of results per unique cpmids\n",
    "semmed_all_rels_count = semmed_constrained_df.groupby(['PMID','SUBJECT_CUI',\n",
    "                                                       'OBJECT_CUI','SUBJECT_M2C_TYPE',\n",
    "                                                       'OBJECT_M2C_TYPE']).size().reset_index(name='semmed_cpmid_count')\n",
    "##next, get the number of unique cpmids per PMID\n",
    "semmed_cps_count = semmed_all_rels_count.groupby(['PMID']).size().reset_index(name='semmed_rels_count')\n",
    "##Get the number of unique concept typed pairings (and the counts per pairing)\n",
    "semmed_reltype_count = semmed_all_rels_count.groupby(['PMID','SUBJECT_M2C_TYPE','OBJECT_M2C_TYPE']).size().reset_index(name='semmed_reltype_count')\n",
    "semmed_homoreltype = semmed_reltype_count.loc[semmed_reltype_count['SUBJECT_M2C_TYPE']==semmed_reltype_count['OBJECT_M2C_TYPE']]\n",
    "semmed_hetreltype = semmed_reltype_count.loc[semmed_reltype_count['SUBJECT_M2C_TYPE']!=semmed_reltype_count['OBJECT_M2C_TYPE']]\n",
    "##Get the total number of counts per type of pairing\n",
    "semmed_homoreltype_count = semmed_homoreltype.groupby(['PMID']).semmed_reltype_count.sum().reset_index(name='semmed_homtype_count')\n",
    "semmed_hetreltype_count = semmed_hetreltype.groupby(['PMID']).semmed_reltype_count.sum().reset_index(name='semmed_hettype_count')\n"
   ]
  },
  {
   "cell_type": "markdown",
   "metadata": {},
   "source": [
    "Do the same with the concepts that overlap in M2C and semmeddb"
   ]
  },
  {
   "cell_type": "code",
   "execution_count": 15,
   "metadata": {
    "collapsed": false
   },
   "outputs": [
    {
     "name": "stdout",
     "output_type": "stream",
     "text": [
      "       PMID refid1_type  M2C_g_count\n",
      "0   4075537           g            1\n",
      "1  10068747           g            1\n"
     ]
    }
   ],
   "source": [
    "overlap1grp = overlap_constrained_df.groupby(['PMID','SUBJECT_CUI','SUBJECT_M2C_TYPE']).size().reset_index(name='refid1_count')\n",
    "overlap2grp = overlap_constrained_df.groupby(['PMID','OBJECT_CUI','OBJECT_M2C_TYPE']).size().reset_index(name='refid2_count')\n",
    "overlap3grp = overlap2grp.copy().rename(columns={'OBJECT_CUI':'SUBJECT_CUI','OBJECT_M2C_TYPE':'SUBJECT_M2C_TYPE','refid2_count':'refid1_count'})\n",
    "overlap_all = pandas.concat((overlap1grp,overlap3grp))\n",
    "overlap_unique_cuis = overlap_all.groupby(['PMID','SUBJECT_CUI','SUBJECT_M2C_TYPE']).size().reset_index(name='counts')\n",
    "overlap_unique_type_counts = overlap_unique_cuis.groupby(['PMID','SUBJECT_M2C_TYPE']).size().reset_index(name='type_counts')\n",
    "overlap_unique_drugs = overlap_unique_type_counts.loc[overlap_unique_type_counts['SUBJECT_M2C_TYPE']=='c']\n",
    "overlap_unique_disease = overlap_unique_type_counts.loc[overlap_unique_type_counts['SUBJECT_M2C_TYPE']=='d']\n",
    "overlap_unique_gene = overlap_unique_type_counts.loc[overlap_unique_type_counts['SUBJECT_M2C_TYPE']=='g']\n",
    "\n",
    "print(M2C_unique_genes.head(n=2))"
   ]
  },
  {
   "cell_type": "markdown",
   "metadata": {},
   "source": [
    "Clean up the results by dropping unnecessary columns to make it easier to visualize"
   ]
  },
  {
   "cell_type": "code",
   "execution_count": 16,
   "metadata": {
    "collapsed": false
   },
   "outputs": [
    {
     "name": "stderr",
     "output_type": "stream",
     "text": [
      "C:\\Users\\ginger\\Anaconda3\\envs\\py3bioc\\lib\\site-packages\\pandas\\core\\frame.py:2834: SettingWithCopyWarning: \n",
      "A value is trying to be set on a copy of a slice from a DataFrame\n",
      "\n",
      "See the caveats in the documentation: http://pandas.pydata.org/pandas-docs/stable/indexing.html#indexing-view-versus-copy\n",
      "  **kwargs)\n",
      "C:\\Users\\ginger\\Anaconda3\\envs\\py3bioc\\lib\\site-packages\\ipykernel\\__main__.py:6: SettingWithCopyWarning: \n",
      "A value is trying to be set on a copy of a slice from a DataFrame\n",
      "\n",
      "See the caveats in the documentation: http://pandas.pydata.org/pandas-docs/stable/indexing.html#indexing-view-versus-copy\n",
      "C:\\Users\\ginger\\Anaconda3\\envs\\py3bioc\\lib\\site-packages\\ipykernel\\__main__.py:8: SettingWithCopyWarning: \n",
      "A value is trying to be set on a copy of a slice from a DataFrame\n",
      "\n",
      "See the caveats in the documentation: http://pandas.pydata.org/pandas-docs/stable/indexing.html#indexing-view-versus-copy\n",
      "C:\\Users\\ginger\\Anaconda3\\envs\\py3bioc\\lib\\site-packages\\ipykernel\\__main__.py:10: SettingWithCopyWarning: \n",
      "A value is trying to be set on a copy of a slice from a DataFrame\n",
      "\n",
      "See the caveats in the documentation: http://pandas.pydata.org/pandas-docs/stable/indexing.html#indexing-view-versus-copy\n"
     ]
    },
    {
     "name": "stdout",
     "output_type": "stream",
     "text": [
      "       PMID  M2C_c_count\n",
      "0  21615270            1\n",
      "1  24279733            1\n"
     ]
    },
    {
     "name": "stderr",
     "output_type": "stream",
     "text": [
      "C:\\Users\\ginger\\Anaconda3\\envs\\py3bioc\\lib\\site-packages\\ipykernel\\__main__.py:12: SettingWithCopyWarning: \n",
      "A value is trying to be set on a copy of a slice from a DataFrame\n",
      "\n",
      "See the caveats in the documentation: http://pandas.pydata.org/pandas-docs/stable/indexing.html#indexing-view-versus-copy\n",
      "C:\\Users\\ginger\\Anaconda3\\envs\\py3bioc\\lib\\site-packages\\ipykernel\\__main__.py:14: SettingWithCopyWarning: \n",
      "A value is trying to be set on a copy of a slice from a DataFrame\n",
      "\n",
      "See the caveats in the documentation: http://pandas.pydata.org/pandas-docs/stable/indexing.html#indexing-view-versus-copy\n",
      "C:\\Users\\ginger\\Anaconda3\\envs\\py3bioc\\lib\\site-packages\\ipykernel\\__main__.py:16: SettingWithCopyWarning: \n",
      "A value is trying to be set on a copy of a slice from a DataFrame\n",
      "\n",
      "See the caveats in the documentation: http://pandas.pydata.org/pandas-docs/stable/indexing.html#indexing-view-versus-copy\n"
     ]
    }
   ],
   "source": [
    "M2C_unique_drugs.drop('refid1_type',axis=1,inplace=True)\n",
    "M2C_unique_disease.drop('refid2_type',axis=1,inplace=True)\n",
    "M2C_unique_genes.drop('refid1_type',axis=1,inplace=True)\n",
    "semmed_unique_drugs.rename(columns={'type_counts':'semmed_c_counts'},inplace=True)\n",
    "semmed_unique_drugs.drop('SUBJECT_M2C_TYPE',axis=1,inplace=True)\n",
    "semmed_unique_disease.rename(columns={'type_counts':'semmed_d_counts'},inplace=True)\n",
    "semmed_unique_disease.drop('SUBJECT_M2C_TYPE',axis=1,inplace=True)\n",
    "semmed_unique_gene.rename(columns={'type_counts':'semmed_g_counts'},inplace=True)\n",
    "semmed_unique_gene.drop('SUBJECT_M2C_TYPE',axis=1,inplace=True)\n",
    "overlap_unique_drugs.rename(columns={'type_counts':'overlap_c_counts'},inplace=True)\n",
    "overlap_unique_drugs.drop('SUBJECT_M2C_TYPE',axis=1,inplace=True)\n",
    "overlap_unique_disease.rename(columns={'type_counts':'overlap_d_counts'},inplace=True)\n",
    "overlap_unique_disease.drop('SUBJECT_M2C_TYPE',axis=1,inplace=True)\n",
    "overlap_unique_gene.rename(columns={'type_counts':'overlap_g_counts'},inplace=True)\n",
    "overlap_unique_gene.drop('SUBJECT_M2C_TYPE',axis=1,inplace=True)\n",
    "print(M2C_unique_drugs.head(n=2))"
   ]
  },
  {
   "cell_type": "markdown",
   "metadata": {},
   "source": [
    "Merge all the results into a single table for ease of calculation and comparison"
   ]
  },
  {
   "cell_type": "code",
   "execution_count": 17,
   "metadata": {
    "collapsed": false
   },
   "outputs": [
    {
     "name": "stdout",
     "output_type": "stream",
     "text": [
      "       PMID  M2C_c_count  M2C_d_count  M2C_g_count  semmed_c_counts  \\\n",
      "0  21615270          1.0          1.0          0.0              1.0   \n",
      "1  24279733          1.0          3.0          0.0              3.0   \n",
      "\n",
      "   semmed_d_counts  semmed_g_counts  overlap_c_counts  overlap_d_counts  \\\n",
      "0              4.0              1.0               0.0               0.0   \n",
      "1              2.0              1.0               0.0               0.0   \n",
      "\n",
      "   overlap_g_counts    ...      semmed_rels_count  semmed_homtype_count  \\\n",
      "0               0.0    ...                      5                   3.0   \n",
      "1               0.0    ...                      4                   2.0   \n",
      "\n",
      "   semmed_hettype_count  g_total  c_total  d_total  overlaps_cps_total  \\\n",
      "0                   2.0      1.0      2.0      5.0                 0.0   \n",
      "1                   2.0      1.0      4.0      5.0                 0.0   \n",
      "\n",
      "   M2C_cps_total  sem_cps_total  cps_total  \n",
      "0            2.0            6.0        8.0  \n",
      "1            4.0            6.0       10.0  \n",
      "\n",
      "[2 rows x 21 columns]\n"
     ]
    }
   ],
   "source": [
    "summary_comparison_df= M2C_unique_drugs.merge(\n",
    "    M2C_unique_disease.merge(\n",
    "        M2C_unique_genes.merge(\n",
    "            semmed_unique_drugs.merge(\n",
    "                semmed_unique_disease.merge(\n",
    "                    semmed_unique_gene.merge(\n",
    "                        overlap_unique_drugs.merge(\n",
    "                            overlap_unique_disease.merge(\n",
    "                                overlap_unique_gene.merge(\n",
    "                                    M2C_reltype_count.merge(\n",
    "                                        semmed_cps_count.merge(\n",
    "                                            semmed_homoreltype_count.merge(\n",
    "                                                semmed_hetreltype_count,on='PMID',how='outer').fillna(0),\n",
    "                                            on='PMID',how='outer').fillna(0),\n",
    "                                        on='PMID',how='outer').fillna(0),\n",
    "                                    on='PMID',how='outer').fillna(0),\n",
    "                                on='PMID',how='outer').fillna(0),\n",
    "                            on='PMID',how='outer').fillna(0),\n",
    "                        on='PMID',how='outer').fillna(0),\n",
    "                    on='PMID',how='outer').fillna(0),\n",
    "                on='PMID',how='outer').fillna(0),\n",
    "            on='PMID',how='outer').fillna(0),\n",
    "        on='PMID',how='outer').fillna(0),\n",
    "    on='PMID',how='outer').fillna(0)\n",
    "\n",
    "summary_comparison_df['PMID'] = summary_comparison_df['PMID'].astype(int)\n",
    "summary_comparison_df['g_total'] = summary_comparison_df['M2C_g_count']+summary_comparison_df['semmed_g_counts']-summary_comparison_df['overlap_g_counts']\n",
    "summary_comparison_df['c_total'] = summary_comparison_df['M2C_c_count']+summary_comparison_df['semmed_c_counts']-summary_comparison_df['overlap_c_counts']\n",
    "summary_comparison_df['d_total'] = summary_comparison_df['M2C_d_count']+summary_comparison_df['semmed_d_counts']-summary_comparison_df['overlap_d_counts']\n",
    "summary_comparison_df['overlaps_cps_total'] = summary_comparison_df['overlap_g_counts']+summary_comparison_df['overlap_c_counts']+summary_comparison_df['overlap_d_counts']\n",
    "summary_comparison_df['M2C_cps_total'] = summary_comparison_df['M2C_g_count']+summary_comparison_df['M2C_d_count']+summary_comparison_df['M2C_c_count']-summary_comparison_df['overlaps_cps_total']\n",
    "summary_comparison_df['sem_cps_total'] = summary_comparison_df['semmed_g_counts']+summary_comparison_df['semmed_d_counts']+summary_comparison_df['semmed_c_counts']-summary_comparison_df['overlaps_cps_total']\n",
    "summary_comparison_df['cps_total'] = summary_comparison_df['M2C_cps_total']+summary_comparison_df['sem_cps_total']\n",
    "\n",
    "print(summary_comparison_df.head(n=2))"
   ]
  },
  {
   "cell_type": "markdown",
   "metadata": {},
   "source": [
    "Calculate the relationship ratios"
   ]
  },
  {
   "cell_type": "code",
   "execution_count": 18,
   "metadata": {
    "collapsed": false
   },
   "outputs": [
    {
     "name": "stdout",
     "output_type": "stream",
     "text": [
      "       PMID  M2C_cpmid_count  semmed_rels_count  semmed_homtype_count  \\\n",
      "0  21615270              1.0                  5                   3.0   \n",
      "1  24279733              3.0                  4                   2.0   \n",
      "\n",
      "   semmed_hettype_count  hom_rels  het_rels  M2C_het_rels  \n",
      "0                   2.0       0.6       0.4             1  \n",
      "1                   2.0       0.5       0.5             1  \n"
     ]
    }
   ],
   "source": [
    "rel_ratio_df = summary_comparison_df[['PMID','M2C_cpmid_count','semmed_rels_count','semmed_homtype_count','semmed_hettype_count']].copy()\n",
    "rel_ratio_df['hom_rels'] = rel_ratio_df['semmed_homtype_count']/rel_ratio_df['semmed_rels_count']\n",
    "rel_ratio_df['het_rels'] = rel_ratio_df['semmed_hettype_count']/rel_ratio_df['semmed_rels_count']\n",
    "rel_ratio_df['M2C_het_rels'] = 1\n",
    "print(rel_ratio_df.head(n=2))"
   ]
  },
  {
   "cell_type": "markdown",
   "metadata": {},
   "source": [
    "Plot the results"
   ]
  },
  {
   "cell_type": "code",
   "execution_count": 19,
   "metadata": {
    "collapsed": false
   },
   "outputs": [
    {
     "data": {
      "image/png": "[encoded data removed]",
      "text/plain": [
       "<Figure size 500x300 with 1 Axes>"
      ]
     },
     "metadata": {},
     "output_type": "display_data"
    },
    {
     "data": {
      "image/png": "[encoded data removed]",
      "text/plain": [
       "<Figure size 500x300 with 1 Axes>"
      ]
     },
     "metadata": {},
     "output_type": "display_data"
    }
   ],
   "source": [
    "fig, ax = mplot.subplots(figsize=(5,3))\n",
    "ax.scatter(rel_ratio_df['semmed_rels_count'],rel_ratio_df['semmed_homtype_count'],c='red',alpha=0.3, label='Semmed Same CP Type Relations')\n",
    "ax.scatter(rel_ratio_df['semmed_rels_count'],rel_ratio_df['semmed_hettype_count'],c='blue',alpha=0.3, label='Semmed Diff CP Type Relations')\n",
    "#ax.scatter(rel_ratio_df['M2C_cpmid_count'],rel_ratio_df['M2C_cpmid_count'],c='green',alpha=0.3, label='M2C Diff Type Relations')\n",
    "mplot.xlabel(\"relationships/pmid\")\n",
    "mplot.ylabel(\"relationship type/pmid\")\n",
    "ax.legend()\n",
    "ax.grid(True)\n",
    "\n",
    "mplot.show()\n",
    "fig, ax = mplot.subplots(figsize=(5,3))\n",
    "mplot.scatter(rel_ratio_df['M2C_cpmid_count'],rel_ratio_df['M2C_cpmid_count'],c='blue',alpha=0.3, label='M2C Diff CP Type Relations')\n",
    "mplot.legend()\n",
    "mplot.grid(True)\n",
    "mplot.xlabel(\"relationships/pmid\")\n",
    "mplot.ylabel(\"relationship type/pmid\")\n",
    "mplot.show()"
   ]
  }
 ],
 "metadata": {
  "kernelspec": {
   "display_name": "Python 3",
   "language": "python",
   "name": "python3"
  },
  "language_info": {
   "codemirror_mode": {
    "name": "ipython",
    "version": 3
   },
   "file_extension": ".py",
   "mimetype": "text/x-python",
   "name": "python",
   "nbconvert_exporter": "python",
   "pygments_lexer": "ipython3",
   "version": "3.4.5"
  }
 },
 "nbformat": 4,
 "nbformat_minor": 1
}
