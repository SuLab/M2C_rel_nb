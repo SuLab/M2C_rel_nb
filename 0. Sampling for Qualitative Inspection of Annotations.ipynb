{
 "cells": [
  {
   "cell_type": "markdown",
   "metadata": {},
   "source": [
    "# Qualitative Inspection for Missing Relationship types"
   ]
  },
  {
   "cell_type": "markdown",
   "metadata": {},
   "source": [
    "This notebook covers the sampling of non-specific relationship annotations for qualitative inspection"
   ]
  },
  {
   "cell_type": "markdown",
   "metadata": {
    "collapsed": true
   },
   "source": [
    "## Import modules and load data"
   ]
  },
  {
   "cell_type": "code",
   "execution_count": 2,
   "metadata": {
    "collapsed": false
   },
   "outputs": [],
   "source": [
    "import pandas\n",
    "import m2c_rel_basic\n",
    "import relationship_dictionaries\n",
    "import random\n",
    "import matplotlib\n",
    "from matplotlib import pyplot as mplot\n",
    "from pandas import read_csv"
   ]
  },
  {
   "cell_type": "markdown",
   "metadata": {},
   "source": [
    "Import the relationship annotations data for only completed concept pairs"
   ]
  },
  {
   "cell_type": "code",
   "execution_count": 3,
   "metadata": {
    "collapsed": false
   },
   "outputs": [],
   "source": [
    "savepath = 'data/'\n",
    "exppath = 'results/'\n",
    "#print(al_data_imported.head(2))\n",
    "all_completed_anns = read_csv(exppath+'all_completed_anns.txt', delimiter='\\t', header=0)\n",
    "all_completed_anns.drop(\"Unnamed: 0\",axis=1,inplace=True)"
   ]
  },
  {
   "cell_type": "markdown",
   "metadata": {},
   "source": [
    "Import the dictionaries for translating hashed responses"
   ]
  },
  {
   "cell_type": "code",
   "execution_count": 4,
   "metadata": {
    "collapsed": false
   },
   "outputs": [],
   "source": [
    "rel_hash_dict,redundant_response_dict,abbreviated_rels_dict,abbreviated_rels_dict_4_hash,concept_broken_dict,concept_not_broken_dict = relationship_dictionaries.load_RE_dictionaries()"
   ]
  },
  {
   "cell_type": "markdown",
   "metadata": {},
   "source": [
    "## Sample the user annotations for qualitative inspection\n",
    "Based on our k vs accuracy evaluations, we know that diminishing returns on accuracy is reached at a k of 6.  Therefore, we will evaluate all per-pmid concept pairs that were marked as having an unspecified relationship by at least 6 useres. We will also segment out per-pmid concept pairs that were marked as having no relationship for a different qualitative analysis.\n",
    "\n",
    "Note that treating redundant responses such as 'other relation, relation unclear' the same as 'relates to' does not increase the number of per-pmid concept pairs that were marked by at least six users; hence, they are treated distinctly below."
   ]
  },
  {
   "cell_type": "code",
   "execution_count": 10,
   "metadata": {
    "collapsed": false
   },
   "outputs": [],
   "source": [
    "### Slice user annotation dataframe based on the response.\n",
    "relation_unclear = all_completed_anns.loc[all_completed_anns['evtype'].astype(str).str.contains('other relation, or relation unclear')]\n",
    "no_relations = all_completed_anns.loc[all_completed_anns['evtype'].astype(str).str.contains('has no relation')]\n",
    "has_relation = all_completed_anns.loc[all_completed_anns['evtype'].astype(str).str.contains('relates to')]\n",
    "cannot_determine = all_completed_anns.loc[all_completed_anns['evtype'].astype(str).str.contains('cannot be determined')]\n",
    "\n",
    "### Obtain counts for each concept pair per pmid (cpmid).\n",
    "### Pull results in which at least 6 users agreed\n",
    "\n",
    "unclear_per_cpmid = relation_unclear.groupby(['concept_pair','pmid','reltype']).size().reset_index(name='counts')\n",
    "unclear_per_cpmid.sort_values('counts', ascending=False,inplace=True)\n",
    "at_least_6_unclear = unclear_per_cpmid.loc[unclear_per_cpmid['counts']>5]\n",
    "\n",
    "relates_per_cpmid = has_relation.groupby(['concept_pair','pmid','reltype']).size().reset_index(name='counts')\n",
    "relates_per_cpmid.sort_values('counts', ascending=False,inplace=True)\n",
    "at_least_6_relates = relates_per_cpmid.loc[relates_per_cpmid['counts']>5]\n",
    "\n",
    "norel_per_cpmid = no_relations.groupby(['concept_pair','pmid','reltype']).size().reset_index(name='counts')\n",
    "norel_per_cpmid.sort_values('counts', ascending=False,inplace=True)\n",
    "at_least_6_norel = norel_per_cpmid.loc[norel_per_cpmid['counts']>5]\n",
    "\n",
    "cannot_deter_per_cpmid = cannot_determine.groupby(['concept_pair','pmid','reltype']).size().reset_index(name='counts')\n",
    "cannot_deter_per_cpmid.sort_values('counts', ascending=False,inplace=True)\n",
    "at_least_6_cannot_tell = cannot_deter_per_cpmid.loc[cannot_deter_per_cpmid['counts']>5]\n"
   ]
  },
  {
   "cell_type": "markdown",
   "metadata": {
    "collapsed": true
   },
   "source": [
    "### Dealing with per-pmid concept pairs which were annotated as having an unspecified relationship by less than six users."
   ]
  },
  {
   "cell_type": "code",
   "execution_count": 21,
   "metadata": {
    "collapsed": false
   },
   "outputs": [
    {
     "name": "stdout",
     "output_type": "stream",
     "text": [
      "          concept_pair      pmid reltype                       cpmid  counts\n",
      "251     8086_x_D010523  18628786     g_d     18628786_8086_x_D010523       1\n",
      "365  C404789_x_D004403  10858229     c_d  10858229_C404789_x_D004403       1\n"
     ]
    }
   ],
   "source": [
    "## Translate/map and standardize responses\n",
    "all_completed_anns.replace({'evtype':redundant_response_dict}, inplace=True)\n",
    "\n",
    "no_rel_unclear = all_completed_anns.loc[all_completed_anns['evtype'].astype(str).str.contains('no relation')]\n",
    "relates_to = all_completed_anns.loc[all_completed_anns['evtype'].astype(str).str.contains('relates to')]\n",
    "\n",
    "no_rel_unclear_cpmid = no_rel_unclear.groupby(['concept_pair','pmid','reltype','cpmid']).size().reset_index(name='counts')\n",
    "no_rel_unclear_cpmid.sort_values('counts', ascending=False,inplace=True)\n",
    "relates_cpmid = relates_to.groupby(['concept_pair','pmid','reltype','cpmid']).size().reset_index(name='counts')\n",
    "relates_cpmid.sort_values('counts', ascending=False,inplace=True)\n",
    "\n",
    "## Subset the relationship annotations by the count and response.\n",
    "under_6 = relates_cpmid.loc[relates_cpmid['counts']<=5]\n",
    "#under_6 = no_rel_unclear_cpmid.loc[no_rel_unclear_cpmid['counts']<=5]\n",
    "\n",
    "max_k=5\n",
    "\n",
    "i=1\n",
    "sample_table = pandas.DataFrame(columns=['concept_pair','pmid','reltype','cpmid','counts'])\n",
    "while i<=max_k:\n",
    "    sampling_list = under_6['cpmid'].loc[under_6['counts']==i].tolist()\n",
    "    try:\n",
    "        samples_per_iteration = 25\n",
    "        sampling_set = random.sample(sampling_list, samples_per_iteration)\n",
    "    except:\n",
    "        samples_per_iteration = 20\n",
    "        sampling_set = random.sample(sampling_list, samples_per_iteration)        \n",
    "    for eachcpmid in sampling_set:\n",
    "        tmp_table = under_6.loc[under_6['cpmid']==eachcpmid]\n",
    "        sample_table = pandas.concat((sample_table,tmp_table))\n",
    "    i=i+1\n",
    "\n",
    "sample_table['pmid'] = sample_table['pmid'].astype(int)\n",
    "sample_table['counts'] = sample_table['counts'].astype(int)\n",
    "\n",
    "print(sample_table.head(n=2))"
   ]
  },
  {
   "cell_type": "markdown",
   "metadata": {},
   "source": [
    "## Export out the samples for qualitative inspection"
   ]
  },
  {
   "cell_type": "code",
   "execution_count": null,
   "metadata": {
    "collapsed": true
   },
   "outputs": [],
   "source": [
    "#at_least_6.to_csv(exppath+'relation_unclear_min_6.txt', sep='\\t', header=True)\n",
    "#at_least_6_norel.to_csv(exppath+'no_rel_min_6.txt', sep='\\t', header=True)\n",
    "#at_least_6_relates.to_csv(exppath+'relates_min_6.txt', sep='\\t', header=True)\n",
    "#sample_table.to_csv(exppath+'relates_under_6.txt', sep='\\t', header=True)\n",
    "#sample_table.to_csv(exppath+'unrelated_under_6.txt', sep='\\t', header=True)"
   ]
  }
 ],
 "metadata": {
  "kernelspec": {
   "display_name": "Python 3",
   "language": "python",
   "name": "python3"
  },
  "language_info": {
   "codemirror_mode": {
    "name": "ipython",
    "version": 3
   },
   "file_extension": ".py",
   "mimetype": "text/x-python",
   "name": "python",
   "nbconvert_exporter": "python",
   "pygments_lexer": "ipython3",
   "version": "3.4.5"
  }
 },
 "nbformat": 4,
 "nbformat_minor": 1
}
