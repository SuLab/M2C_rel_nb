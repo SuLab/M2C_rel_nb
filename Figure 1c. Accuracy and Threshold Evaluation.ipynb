{
 "cells": [
  {
   "cell_type": "markdown",
   "metadata": {},
   "source": [
    "# Evaluation of Relationship Annotation Accuracy Based on a QC'd Sample"
   ]
  },
  {
   "cell_type": "markdown",
   "metadata": {},
   "source": [
    "This notebook covers the evaluation of user annotations in comparison of the randomly sampled set of completed tasks that have been manually annotated.  "
   ]
  },
  {
   "cell_type": "markdown",
   "metadata": {
    "collapsed": true
   },
   "source": [
    "## Import modules and load data"
   ]
  },
  {
   "cell_type": "code",
   "execution_count": 1,
   "metadata": {
    "collapsed": false
   },
   "outputs": [],
   "source": [
    "import pandas\n",
    "import m2c_rel_basic\n",
    "import relationship_dictionaries\n",
    "import random\n",
    "import matplotlib\n",
    "from matplotlib import pyplot as mplot\n",
    "from pandas import read_csv"
   ]
  },
  {
   "cell_type": "markdown",
   "metadata": {},
   "source": [
    "Import the relationship annotations data for only completed concept pairs"
   ]
  },
  {
   "cell_type": "code",
   "execution_count": 2,
   "metadata": {
    "collapsed": false
   },
   "outputs": [],
   "source": [
    "savepath = 'data/'\n",
    "exppath = 'results/'\n",
    "all_completed_anns = read_csv(exppath+'all_completed_anns.txt', delimiter='\\t', header=0)\n",
    "all_completed_anns.drop(\"Unnamed: 0\",axis=1,inplace=True)"
   ]
  },
  {
   "cell_type": "markdown",
   "metadata": {},
   "source": [
    "Import the Quality Curated Sample Annotations"
   ]
  },
  {
   "cell_type": "code",
   "execution_count": 3,
   "metadata": {
    "collapsed": false
   },
   "outputs": [],
   "source": [
    "esample_df = m2c_rel_basic.get_QC_data(savepath)"
   ]
  },
  {
   "cell_type": "markdown",
   "metadata": {},
   "source": [
    "Import the dictionaries for translating hashed responses"
   ]
  },
  {
   "cell_type": "code",
   "execution_count": 4,
   "metadata": {
    "collapsed": false
   },
   "outputs": [],
   "source": [
    "rel_hash_dict,redundant_response_dict,abbreviated_rels_dict,abbreviated_rels_dict_4_hash,concept_broken_dict,concept_not_broken_dict = relationship_dictionaries.load_RE_dictionaries()"
   ]
  },
  {
   "cell_type": "markdown",
   "metadata": {},
   "source": [
    "## Analyze the user annotations relative to the quality curated annotations"
   ]
  },
  {
   "cell_type": "markdown",
   "metadata": {},
   "source": [
    "pull the annotations marked 'broken' during QC'ing into a set"
   ]
  },
  {
   "cell_type": "code",
   "execution_count": 5,
   "metadata": {
    "collapsed": true
   },
   "outputs": [],
   "source": [
    "expert_broken = esample_df.loc[esample_df['conclusion']=='concept_broken']"
   ]
  },
  {
   "cell_type": "markdown",
   "metadata": {},
   "source": [
    "pull the cpmids (concept pair pmid hashed identifiers) that were QC'd into a set"
   ]
  },
  {
   "cell_type": "code",
   "execution_count": 6,
   "metadata": {
    "collapsed": true
   },
   "outputs": [],
   "source": [
    "expert_cpmids = set(esample_df['cpmid'].tolist())"
   ]
  },
  {
   "cell_type": "markdown",
   "metadata": {},
   "source": [
    "Get the cpmids from the set of annotations that were QC'd and use the cpmids from the QC'd set to pull all user annotations for the same cpmids"
   ]
  },
  {
   "cell_type": "code",
   "execution_count": 7,
   "metadata": {
    "collapsed": true
   },
   "outputs": [],
   "source": [
    "test_set_cpmids = set(expert_cpmids)\n",
    "total_ref_set = all_completed_anns.loc[all_completed_anns['cpmid'].isin(test_set_cpmids)].copy()"
   ]
  },
  {
   "cell_type": "markdown",
   "metadata": {},
   "source": [
    "Abbreviate the user responses for ease of viewing"
   ]
  },
  {
   "cell_type": "code",
   "execution_count": 8,
   "metadata": {
    "collapsed": true
   },
   "outputs": [],
   "source": [
    "total_ref_set['evtype'].replace(abbreviated_rels_dict_4_hash, inplace=True)"
   ]
  },
  {
   "cell_type": "markdown",
   "metadata": {},
   "source": [
    "Remove distinction between C1 broken and C2 broken since it's technically possible for both to be true AND because it's not important to distinguish it in this analysis"
   ]
  },
  {
   "cell_type": "code",
   "execution_count": 9,
   "metadata": {
    "collapsed": false
   },
   "outputs": [
    {
     "name": "stdout",
     "output_type": "stream",
     "text": [
      "   kind             ann_date  user_id         evtype reltype      pmid  \\\n",
      "8    re  2016-05-24 06:54:49      364  g_unrelated_d     g_d  11353896   \n",
      "14   re  2016-05-24 07:23:43      364   g_mutation_d     g_d  16970037   \n",
      "\n",
      "        concept_created      concept_updated refid1   refid2    concept_pair  \\\n",
      "8   2015-05-21 17:54:48  2015-05-21 17:54:48   4158  D004931  4158_x_D004931   \n",
      "14  2015-05-21 17:54:44  2015-05-21 17:54:44   8086  D009461  8086_x_D009461   \n",
      "\n",
      "   refid1_type refid2_type  user_count  relation_count  test_completions  \\\n",
      "8            g           d        29.0            14.0               1.0   \n",
      "14           g           d        27.0            19.0               3.0   \n",
      "\n",
      "    true_responses  response_ratio                    cpmid  \n",
      "8             28.0        0.500000  11353896_4158_x_D004931  \n",
      "14            24.0        0.791667  16970037_8086_x_D009461  \n"
     ]
    }
   ],
   "source": [
    "total_ref_set['evtype'].replace(concept_broken_dict, inplace=True)\n",
    "esample_df['conclusion'].replace(concept_broken_dict, inplace=True)\n",
    "print(total_ref_set.head(2))"
   ]
  },
  {
   "cell_type": "markdown",
   "metadata": {},
   "source": [
    "### Randomly subsample the user annotations to determine how voting threshold (k) relates to agreement with the quality-checked results."
   ]
  },
  {
   "cell_type": "markdown",
   "metadata": {},
   "source": [
    "Sample the responses and put the results into a dataframe, 10 iterations per k per cpmid. repeat the sampling 5 times to stabilize the results\n",
    "\n",
    "Note that this is the slowest part of the notebook; hence, a print statement has been left in so you know it's working"
   ]
  },
  {
   "cell_type": "code",
   "execution_count": 11,
   "metadata": {
    "collapsed": false
   },
   "outputs": [
    {
     "name": "stdout",
     "output_type": "stream",
     "text": [
      "repetition: 0\n",
      "repetition: 1\n",
      "repetition: 2\n",
      "repetition: 3\n",
      "repetition: 4\n",
      "                        cpmid expert_match?  iteration  k majority?  \\\n",
      "0   8006362_D005227_x_D000326           yes          0  1       yes   \n",
      "1     16970037_8086_x_D009422           yes          0  1       yes   \n",
      "2  12882516_C097320_x_D000544            no          0  1       yes   \n",
      "3     21626165_8086_x_D012021            no          0  1       yes   \n",
      "4     16938764_8086_x_D004931           yes          0  1       yes   \n",
      "\n",
      "   repetition        response result_selection tie?  \n",
      "0           0  concept_broken      single_vote   no  \n",
      "1           0    g_mutation_d      single_vote   no  \n",
      "2           0     c_related_d      single_vote   no  \n",
      "3           0   g_unrelated_d      single_vote   no  \n",
      "4           0    g_mutation_d      single_vote   no  \n"
     ]
    }
   ],
   "source": [
    "\n",
    "k=1\n",
    "majority_response=[]\n",
    "j=0\n",
    "\n",
    "while j<5:\n",
    "    i=0\n",
    "    print('repetition:',j)\n",
    "    while i<10:\n",
    "        k=1\n",
    "        while k<16:\n",
    "            for each_cpmid in test_set_cpmids:\n",
    "                result_dict = {}\n",
    "                result_dict['repetition'] = j\n",
    "                result_dict['iteration'] = i\n",
    "                result_dict['cpmid'] = each_cpmid\n",
    "                result_dict['k'] = k\n",
    "                tmp_df = total_ref_set.loc[total_ref_set['cpmid']==each_cpmid]\n",
    "                user_set = set(tmp_df['user_id'].tolist())\n",
    "                if k<=len(user_set):\n",
    "                    user_sample = random.sample(user_set, k)\n",
    "                    ref_sample = tmp_df.loc[tmp_df['user_id'].isin(user_sample)]\n",
    "                    if k == 1:\n",
    "                        result_dict['response'] = ref_sample.iloc[0]['evtype']\n",
    "                        result_dict['majority?'] = 'yes'\n",
    "                        result_dict['tie?'] = 'no'\n",
    "                        result_dict['result_selection'] = 'single_vote'\n",
    "                    else:\n",
    "                        ## Groupby response and get biggest and next biggest value    \n",
    "                        ref_sample_size = ref_sample.groupby(['cpmid','evtype']).size().reset_index(name='counts')\n",
    "                        ref_sample_size.sort_values('counts', ascending=False, inplace=True)\n",
    "                        first_most = ref_sample_size.iloc[0]['counts']\n",
    "                        try:\n",
    "                            sec_most = ref_sample_size.iloc[1]['counts'] ##if this works, results are not unanimous\n",
    "                            if first_most > sec_most: ## If there is a majority\n",
    "                                result_dict['majority?'] = 'simple_majority'\n",
    "                                result_dict['result_selection'] = 'majority'\n",
    "                                result_dict['response'] = ref_sample_size.iloc[0]['evtype']\n",
    "                                result_dict['tie?'] = 'no'\n",
    "                            else: ## else it's a tie\n",
    "                                result_dict['majority?'] = 'no_majority'\n",
    "                                result_dict['result_selection'] = 'random'\n",
    "                                if len(ref_sample_size)==2: ## check if full tie\n",
    "                                    rand_option = random.randint(0, 1)\n",
    "                                    result_dict['response'] = ref_sample_size.iloc[rand_option]['evtype']\n",
    "                                    result_dict['tie?'] = 'two_way'\n",
    "                                elif (len(ref_sample_size) > 2) & (sec_most > ref_sample_size.iloc[3]['counts']): #check if majority tied\n",
    "                                    rand_option = random.randint(0, 1)\n",
    "                                    result_dict['response'] = ref_sample_size.iloc[rand_option]['evtype']\n",
    "                                    result_dict['tie?'] = 'top_two_way'\n",
    "                                elif (len(ref_sample_size) > 2) & (sec_most == ref_sample_size.iloc[3]['counts']): #check for 3-way tie                      \n",
    "                                    rand_option = random.randint(0, 2)\n",
    "                                    result_dict['response'] = ref_sample_size.iloc[rand_option]['evtype']\n",
    "                                    result_dict['tie?'] = '3_way'\n",
    "                                else:    \n",
    "                                    rand_option = random.randint(0, len(ref_sample_size))\n",
    "                                    result_dict['response'] = ref_sample_size.iloc[rand_option]['evtype']\n",
    "                                    result_dict['tie?'] = 'other'\n",
    "                        except: ## Scenario: results are unanimous\n",
    "                            result_dict['majority?'] = 'unanimous'\n",
    "                            result_dict['response'] = ref_sample_size.iloc[0]['evtype']\n",
    "                            result_dict['tie?'] = 'no'\n",
    "                            result_dict['result_selection'] = 'majority'\n",
    "                else:\n",
    "                    result_dict['majority?'] = 'n/a'\n",
    "                    result_dict['response'] = 'not_enough'\n",
    "                    result_dict['tie?'] = 'n/a'\n",
    "                    result_dict['result_selection'] = 'n/a' \n",
    "                ## check how well user response matched expert response\n",
    "                tmp_edf = esample_df.loc[esample_df['cpmid']==each_cpmid]           \n",
    "                test_response = result_dict.get('response')\n",
    "                expert_response = tmp_edf['conclusion'].iloc[0]\n",
    "                if test_response=='not_enough':\n",
    "                    result_dict['expert_match?'] = 'n/a'\n",
    "                elif test_response == expert_response:\n",
    "                    result_dict['expert_match?'] = 'yes'\n",
    "                else:\n",
    "                    result_dict['expert_match?'] = 'no'\n",
    "                majority_response.append(result_dict) \n",
    "            k = k+1\n",
    "        i=i+1\n",
    "    j=j+1\n",
    "    \n",
    "\n",
    "majority_df = pandas.DataFrame(majority_response)\n",
    "\n",
    "print(majority_df.head(5))"
   ]
  },
  {
   "cell_type": "markdown",
   "metadata": {},
   "source": [
    "### Aggregate the resulting data, grouping by iteration and threshold"
   ]
  },
  {
   "cell_type": "markdown",
   "metadata": {},
   "source": [
    "Count number of expert_match (true positive) vs total number of responses (true positive plus incorrect response) \n",
    "This gives total number of answers that matched vs didn't match the QC'd result for the whole QC cpmid set at every level of k, for each repetition and iteration"
   ]
  },
  {
   "cell_type": "code",
   "execution_count": 12,
   "metadata": {
    "collapsed": true
   },
   "outputs": [],
   "source": [
    "response_matrix = majority_df.groupby(['repetition','iteration','k','expert_match?']).size().reset_index(name='counts')"
   ]
  },
  {
   "cell_type": "markdown",
   "metadata": {},
   "source": [
    "remove the n/a responses (this is usually when k exceeds sample due to removal of tester account data)"
   ]
  },
  {
   "cell_type": "code",
   "execution_count": 13,
   "metadata": {
    "collapsed": true
   },
   "outputs": [],
   "source": [
    "response_matrix_less_missing = response_matrix.loc[response_matrix['expert_match?']!='n/a']\n",
    "total_captured = response_matrix_less_missing.groupby(['repetition','iteration','k'])['counts'].sum().reset_index(name='totals')\n"
   ]
  },
  {
   "cell_type": "markdown",
   "metadata": {},
   "source": [
    "Merge tables to be able to do calculations and obtain total attempts, then calculate accuracy (True Positive/Total) and inaccuracy (Incorrect Response/Total)"
   ]
  },
  {
   "cell_type": "code",
   "execution_count": 14,
   "metadata": {
    "collapsed": true
   },
   "outputs": [],
   "source": [
    "tmpresults_df = response_matrix.merge(total_captured,on=(['repetition','iteration','k']))\n",
    "tmpresults_df['ratios'] = tmpresults_df['counts']/tmpresults_df['totals']\n",
    "#print(tmpresults_df)"
   ]
  },
  {
   "cell_type": "markdown",
   "metadata": {},
   "source": [
    "Since accuracy only counts true positives and total attempts, keep only the true positive data and Calculate the mean, max, median, and sem of the accuracy data frame by aggregating over the 10 iterations"
   ]
  },
  {
   "cell_type": "code",
   "execution_count": 15,
   "metadata": {
    "collapsed": false
   },
   "outputs": [
    {
     "name": "stdout",
     "output_type": "stream",
     "text": [
      "   repetition  k  avg_accuracy  max_accuracy  median_accuracy  std_error\n",
      "0           0  1      0.637069      0.698276         0.637931   0.011088\n",
      "1           0  2      0.644828      0.681034         0.659483   0.010813\n"
     ]
    }
   ],
   "source": [
    "accuracy_df = tmpresults_df.loc[tmpresults_df['expert_match?']=='yes']\n",
    "\n",
    "mean_accuracy = accuracy_df.groupby(['repetition','k']).ratios.mean().reset_index(name='avg_accuracy')\n",
    "max_accuracy = accuracy_df.groupby(['repetition','k']).ratios.max().reset_index(name='max_accuracy')\n",
    "median_accuracy = accuracy_df.groupby(['repetition','k']).ratios.median().reset_index(name='median_accuracy')\n",
    "mean_error = accuracy_df.groupby(['repetition','k']).ratios.sem().reset_index(name='std_error')\n",
    "    \n",
    "stats_result = mean_accuracy.merge(max_accuracy.merge(median_accuracy.merge(mean_error, on=(['repetition','k']), how='left'), on=(['repetition','k']), how='left'), on=(['repetition','k']), how='left')\n",
    "print(stats_result.head(n=2))"
   ]
  },
  {
   "cell_type": "markdown",
   "metadata": {},
   "source": [
    "Since max_accuracy is not any sort of average and can vary greatly, aggregate across the 5 repetitions and calculate mean, median, max of the mean accuracy"
   ]
  },
  {
   "cell_type": "code",
   "execution_count": 16,
   "metadata": {
    "collapsed": false
   },
   "outputs": [
    {
     "name": "stdout",
     "output_type": "stream",
     "text": [
      "   k  mean_avg_accuracy  mean_max_accuracy  mean_median_accuracy  \\\n",
      "0  1           0.635517           0.698276              0.634483   \n",
      "1  2           0.642069           0.689655              0.643966   \n",
      "\n",
      "   mean_std_error  mean_max_std_error  mean_median_std_error  \n",
      "0        0.002759            0.007711               0.003708  \n",
      "1        0.002606            0.007711               0.005553  \n"
     ]
    }
   ],
   "source": [
    "mean_accuracy = stats_result.groupby('k').avg_accuracy.mean().reset_index(name='mean_avg_accuracy')\n",
    "max_accuracy = stats_result.groupby('k').max_accuracy.mean().reset_index(name='mean_max_accuracy')\n",
    "median_accuracy = stats_result.groupby('k').median_accuracy.mean().reset_index(name='mean_median_accuracy')\n",
    "\n",
    "## aggregate across the 5 repetitions and calculate standard error for mean, max, and median accuracy\n",
    "mean_error1 = stats_result.groupby('k').avg_accuracy.sem().reset_index(name='mean_std_error')\n",
    "mean_error2 = stats_result.groupby('k').max_accuracy.sem().reset_index(name='mean_max_std_error')\n",
    "mean_error3 = stats_result.groupby('k').median_accuracy.sem().reset_index(name='mean_median_std_error')\n",
    "\n",
    "mean_error =  mean_error1.merge(mean_error2.merge(mean_error3, on='k', how='left'), on='k', how='left')\n",
    "   \n",
    "stats_result2 = mean_accuracy.merge(max_accuracy.merge(median_accuracy.merge(mean_error, on='k', how='left'), on='k', how='left'), on='k', how='left')\n",
    "print(stats_result2.head(n=2))\n"
   ]
  },
  {
   "cell_type": "code",
   "execution_count": 18,
   "metadata": {
    "collapsed": false
   },
   "outputs": [],
   "source": [
    "### Export results\n",
    "stats_result2.to_csv(exppath+\"fig1c_data.txt\", sep='\\t', header=True)"
   ]
  },
  {
   "cell_type": "markdown",
   "metadata": {},
   "source": [
    "### Visualize the results"
   ]
  },
  {
   "cell_type": "code",
   "execution_count": 19,
   "metadata": {
    "collapsed": false
   },
   "outputs": [
    {
     "data": {
      "image/png": "[encoded data removed]",
      "text/plain": [
       "<matplotlib.figure.Figure at 0x6ae8978>"
      ]
     },
     "metadata": {},
     "output_type": "display_data"
    }
   ],
   "source": [
    "plot_it = stats_result2[['mean_avg_accuracy','k','mean_std_error']].copy()\n",
    "mplot.figure()\n",
    "mplot.xlabel(\"k\")\n",
    "mplot.ylabel(\"Accuracy\")\n",
    "mplot.ylim(0.55, 0.80)\n",
    "mplot.errorbar(x='k',y='mean_avg_accuracy', yerr='mean_std_error', data=plot_it, linestyle='-', marker='o')\n",
    "mplot.title(\"Voter threshold vs accuracy\")\n",
    "mplot.show()\n",
    "#mplot.savefig(exppath+'votingthresh_accuracy.png', bbox_inches='tight', dpi=300)"
   ]
  },
  {
   "cell_type": "code",
   "execution_count": null,
   "metadata": {
    "collapsed": true
   },
   "outputs": [],
   "source": []
  }
 ],
 "metadata": {
  "kernelspec": {
   "display_name": "Python 3",
   "language": "python",
   "name": "python3"
  },
  "language_info": {
   "codemirror_mode": {
    "name": "ipython",
    "version": 3
   },
   "file_extension": ".py",
   "mimetype": "text/x-python",
   "name": "python",
   "nbconvert_exporter": "python",
   "pygments_lexer": "ipython3",
   "version": "3.4.5"
  }
 },
 "nbformat": 4,
 "nbformat_minor": 1
}
