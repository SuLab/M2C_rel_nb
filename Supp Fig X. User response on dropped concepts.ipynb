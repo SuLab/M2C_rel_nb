{
 "cells": [
  {
   "cell_type": "markdown",
   "metadata": {
    "collapsed": true
   },
   "source": [
    "# User response on dropped concepts"
   ]
  },
  {
   "cell_type": "markdown",
   "metadata": {
    "collapsed": true
   },
   "source": [
    "This notebook compares the concept annotations that users marked as broken/incorrect with concept annotations that are missing from updated Pubtator files (ie- were dropped by Pubtator).  This book focuses only on concept annotations WITH an associated identifier or concepts that come from abstracts with one or less identifier-free concepts, since there are issues mapping concepts without identifiers in the Mark2Cure database."
   ]
  },
  {
   "cell_type": "markdown",
   "metadata": {},
   "source": [
    "## Import modules and data"
   ]
  },
  {
   "cell_type": "code",
   "execution_count": 2,
   "metadata": {
    "collapsed": true
   },
   "outputs": [],
   "source": [
    "import pandas\n",
    "import numpy\n",
    "import random\n",
    "import matplotlib\n",
    "from matplotlib import pyplot as mplot\n",
    "import m2c_rel_basic\n",
    "import relationship_dictionaries\n",
    "from pandas import read_csv"
   ]
  },
  {
   "cell_type": "markdown",
   "metadata": {},
   "source": [
    "Import the relationship annotations data for only completed concept pairs. This data should have already been filtered to remove annotations from test accounts"
   ]
  },
  {
   "cell_type": "code",
   "execution_count": 7,
   "metadata": {
    "collapsed": false
   },
   "outputs": [
    {
     "name": "stdout",
     "output_type": "stream",
     "text": [
      "  kind             ann_date  user_id                           evtype reltype  \\\n",
      "0   re  2016-05-24 06:42:40      364  gene has no relation to disease     g_d   \n",
      "1   re  2016-05-24 06:44:12      364                       c_1_broken     g_d   \n",
      "\n",
      "      pmid      concept_created      concept_updated refid1   refid2  \\\n",
      "0  9621534  2015-05-21 17:54:51  2015-05-21 17:54:51  59330  D001750   \n",
      "1  9621534  2015-05-21 17:54:51  2015-05-21 17:54:51  59330  D005764   \n",
      "\n",
      "      concept_pair refid1_type refid2_type  user_count  relation_count  \\\n",
      "0  59330_x_D001750           g           d        49.0            28.0   \n",
      "1  59330_x_D005764           g           d        33.0            17.0   \n",
      "\n",
      "   test_completions  true_responses  response_ratio                    cpmid  \n",
      "0               0.0            49.0        0.571429  9621534_59330_x_D001750  \n",
      "1               1.0            32.0        0.531250  9621534_59330_x_D005764  \n"
     ]
    }
   ],
   "source": [
    "savepath = 'data/'\n",
    "exppath = 'results/'\n",
    "all_completed_anns = read_csv(exppath+'all_completed_anns.txt', delimiter='\\t', header=0)\n",
    "all_completed_anns.drop(\"Unnamed: 0\",axis=1,inplace=True)\n",
    "print(all_completed_anns.head(n=2))"
   ]
  },
  {
   "cell_type": "markdown",
   "metadata": {},
   "source": [
    "Import data from Supp Fig 1. Investigating Concept Annotations.ipynb"
   ]
  },
  {
   "cell_type": "code",
   "execution_count": 8,
   "metadata": {
    "collapsed": false
   },
   "outputs": [],
   "source": [
    "no_species = read_csv(exppath+'concept_anns_from_updated_pub_files.txt',delimiter='\\t',header=0)\n",
    "no_species.drop(\"Unnamed: 0\",axis=1,inplace=True)\n",
    "all_concept_imported = read_csv(exppath+'concepts_anns_from_db.txt',delimiter='\\t',header=0)\n",
    "all_concept_imported.drop(\"Unnamed: 0\",axis=1,inplace=True)\n",
    "dropped_anns_with_text = read_csv(exppath+'dropped_by_pubtator.txt',delimiter='\\t',header=0)\n",
    "dropped_anns_with_text.drop(\"Unnamed: 0\",axis=1,inplace=True)"
   ]
  },
  {
   "cell_type": "markdown",
   "metadata": {},
   "source": [
    "#### Separate out pubtator annotations that lack identifiers from both sources. These will be treated differently."
   ]
  },
  {
   "cell_type": "code",
   "execution_count": 22,
   "metadata": {
    "collapsed": false
   },
   "outputs": [
    {
     "name": "stdout",
     "output_type": "stream",
     "text": [
      "196\n",
      "471\n"
     ]
    }
   ],
   "source": [
    "###############################################################################\n",
    "#### Deal with concepts for which there are no identifiers\n",
    "###############################################################################\n",
    "\n",
    "## Pull the annotations for which there is no identifier\n",
    "no_ideas = no_species.loc[no_species['identifier']=='no identifier']\n",
    "\n",
    "## Remove duplicated conceptual entries\n",
    "no_ideas_no_dups = no_ideas.groupby(['pmid','text','identifier','type','length']).size().reset_index(name='appearance_count')\n",
    "\n",
    "## Get counts of identifier-free annotations for each pmid\n",
    "no_ideas_per_pmid = no_ideas_no_dups.groupby(['pmid','identifier']).size().reset_index(name='id_free_per_pmid')\n",
    "\n",
    "## Merge back to original unique conceptual entries table \n",
    "no_ideas_no_dup_key = no_ideas_no_dups.merge(no_ideas_per_pmid, on=('pmid','identifier'), how='left')\n",
    "\n",
    "## Get table of pmids which only have ONE concept lacking an identifier.  This table will be used as a key for the annotations without identifiers\n",
    "pmid_no_id_key = no_ideas_no_dup_key.loc[no_ideas_no_dup_key['id_free_per_pmid']==1]\n",
    "#print(pmid_no_id_key)\n",
    "\n",
    "### Learn about the pmids for which id-less concept absolutely cannot be matched\n",
    "## Get pmids for which there are multiple concepts with no identifier\n",
    "pmids_too_many_no_ids = no_ideas_per_pmid.loc[no_ideas_per_pmid['id_free_per_pmid']>1]\n",
    "## Get concepts for which there are multiple concepts with no identifier\n",
    "concepts_too_many_no_ids = no_ideas_no_dup_key.loc[no_ideas_no_dup_key['id_free_per_pmid']>1]\n",
    "\n",
    "print(len(pmids_too_many_no_ids))\n",
    "print(len(concepts_too_many_no_ids))"
   ]
  },
  {
   "cell_type": "code",
   "execution_count": 23,
   "metadata": {
    "collapsed": false
   },
   "outputs": [
    {
     "name": "stdout",
     "output_type": "stream",
     "text": [
      "                       evtype reltype      pmid refid1   refid2  \\\n",
      "7153  drug relates to disease     c_d  19322026   None  D030342   \n",
      "7232               c_1_broken     c_d  25478884   None  D017772   \n",
      "\n",
      "        concept_pair refid1_type refid2_type  user_count  relation_count  \\\n",
      "7153  None_x_D030342           c           d        15.0             1.0   \n",
      "7232  None_x_D017772           c           d        15.0            14.0   \n",
      "\n",
      "      test_completions  true_responses  response_ratio  \\\n",
      "7153               0.0            15.0        0.066667   \n",
      "7232               0.0            15.0        0.933333   \n",
      "\n",
      "                        cpmid  \n",
      "7153  19322026_None_x_D030342  \n",
      "7232  25478884_None_x_D017772  \n"
     ]
    }
   ],
   "source": [
    "completed_anns = all_completed_anns.drop(['kind','ann_date','user_id','concept_created','concept_updated'], axis=1)\n",
    "annresults = completed_anns.drop_duplicates(subset=['evtype','cpmid'],keep='first')\n",
    "\n",
    "#### Map the 'none' concepts to annotation text if it comes from a pmid that is mappable\n",
    "missing_concept1 = annresults.loc[annresults['refid1']=='None']\n",
    "tmp_table1 = missing_concept1.merge(pmid_no_id_key, on='pmid', how='left').fillna('None')\n",
    "tmp_table1['refid1'] = tmp_table1['text']\n",
    "tmp_table1.drop(['text','identifier','length','appearance_count','id_free_per_pmid','type'],axis=1, inplace=True)\n",
    "\n",
    "missing_concept2 = annresults.loc[annresults['refid2']=='None']\n",
    "tmp_table2 = missing_concept2.merge(pmid_no_id_key, on='pmid', how='left').fillna('None')\n",
    "tmp_table2['refid2'] = tmp_table2['text']\n",
    "tmp_table2.drop(['text','identifier','length','appearance_count','id_free_per_pmid','type'],axis=1, inplace=True)\n",
    "\n",
    "print(missing_concept1.head(n=2))"
   ]
  },
  {
   "cell_type": "code",
   "execution_count": 24,
   "metadata": {
    "collapsed": false
   },
   "outputs": [
    {
     "name": "stdout",
     "output_type": "stream",
     "text": [
      "unmapped_before:  104  vs unmapped after:  67\n"
     ]
    }
   ],
   "source": [
    "## Create a fresh table with the mapped results\n",
    "old_anns_no_nones = annresults.loc[(annresults['refid1']!='None')&(annresults['refid2']!='None')]\n",
    "new_annresults = pandas.concat((old_anns_no_nones,tmp_table1,tmp_table2))\n",
    "\n",
    "## Compare number of 'no id' annotations before and after mapping\n",
    "unmapped_before = len(annresults.loc[(annresults['refid1']=='None')|(annresults['refid2']=='None')])\n",
    "unmapped_after = len(new_annresults.loc[(new_annresults['refid1']=='None')|(new_annresults['refid2']=='None')])\n",
    "\n",
    "print('unmapped_before: ',unmapped_before,' vs unmapped after: ',unmapped_after)"
   ]
  },
  {
   "cell_type": "code",
   "execution_count": 27,
   "metadata": {
    "collapsed": false
   },
   "outputs": [
    {
     "name": "stdout",
     "output_type": "stream",
     "text": [
      "     pmid                                             text identifier type  \\\n",
      "0  501285  Cataractous lenses of diabetic and galactosemic    D003920    d   \n",
      "1  501285                                        Galactose    D005690    c   \n",
      "\n",
      "  no_of_mentions_db in_db no_of_mentions_pub in_pubtator  \n",
      "0                 1   yes                 no          no  \n",
      "1                 1   yes                 no          no  \n"
     ]
    }
   ],
   "source": [
    "## Get the concept annotations\n",
    "no_dups = no_species.groupby(['pmid','text','identifier','type']).size().reset_index(name='no_of_mentions_pub')\n",
    "no_dups['in_pubtator']='yes'\n",
    "\n",
    "no_dups_concepts = all_concept_imported.groupby(['pmid','text','identifier','type']).size().reset_index(name='no_of_mentions_db')\n",
    "no_dups_concepts['in_db']='yes'\n",
    "\n",
    "concept_annotations = no_dups_concepts.merge(no_dups, on=(['pmid','identifier','text','type']), how='outer').fillna('no')\n",
    "concept_annotations['pmid']=concept_annotations['pmid'].astype(int)\n",
    "print(concept_annotations.head(n=2))"
   ]
  },
  {
   "cell_type": "code",
   "execution_count": 31,
   "metadata": {
    "collapsed": false
   },
   "outputs": [
    {
     "name": "stderr",
     "output_type": "stream",
     "text": [
      "C:\\Users\\ginger\\Anaconda3\\envs\\py3bioc\\lib\\site-packages\\ipykernel\\__main__.py:6: SettingWithCopyWarning: \n",
      "A value is trying to be set on a copy of a slice from a DataFrame.\n",
      "Try using .loc[row_indexer,col_indexer] = value instead\n",
      "\n",
      "See the caveats in the documentation: http://pandas.pydata.org/pandas-docs/stable/indexing.html#indexing-view-versus-copy\n",
      "C:\\Users\\ginger\\Anaconda3\\envs\\py3bioc\\lib\\site-packages\\ipykernel\\__main__.py:10: SettingWithCopyWarning: \n",
      "A value is trying to be set on a copy of a slice from a DataFrame.\n",
      "Try using .loc[row_indexer,col_indexer] = value instead\n",
      "\n",
      "See the caveats in the documentation: http://pandas.pydata.org/pandas-docs/stable/indexing.html#indexing-view-versus-copy\n",
      "C:\\Users\\ginger\\Anaconda3\\envs\\py3bioc\\lib\\site-packages\\pandas\\core\\frame.py:2834: SettingWithCopyWarning: \n",
      "A value is trying to be set on a copy of a slice from a DataFrame\n",
      "\n",
      "See the caveats in the documentation: http://pandas.pydata.org/pandas-docs/stable/indexing.html#indexing-view-versus-copy\n",
      "  **kwargs)\n"
     ]
    },
    {
     "name": "stdout",
     "output_type": "stream",
     "text": [
      "       evtype reltype      pmid identifier   refid2     concept_pair  \\\n",
      "0  c_1_broken     g_d   9621534      59330  D005764  59330_x_D005764   \n",
      "1  c_1_broken     g_d  11353896       5443   202200    5443_x_202200   \n",
      "\n",
      "  refid1_type refid2_type  user_count  relation_count         ...           \\\n",
      "0           g           d        33.0            17.0         ...            \n",
      "1           g           d        34.0             3.0         ...            \n",
      "\n",
      "   true_responses  response_ratio                    cpmid  \\\n",
      "0            32.0        0.531250  9621534_59330_x_D005764   \n",
      "1            34.0        0.088235   11353896_5443_x_202200   \n",
      "\n",
      "                              text type no_of_mentions_db in_db  \\\n",
      "0  gastroesophageal reflux ( GER )    g                no    no   \n",
      "1                             ACTH    g                 1   yes   \n",
      "\n",
      "  no_of_mentions_pub in_pubtator                 hash  \n",
      "0                  1         yes  9621534_x_59330_x_g  \n",
      "1                 no          no  11353896_x_5443_x_g  \n",
      "\n",
      "[2 rows x 21 columns]\n",
      "       evtype reltype      pmid refid1 identifier    concept_pair refid1_type  \\\n",
      "0  c_2_broken     g_d  19172511   8086    D009384  8086_x_D009384           g   \n",
      "1  c_2_broken     g_c  19172511   8086    D009711  8086_x_D009711           g   \n",
      "\n",
      "  refid2_type  user_count  relation_count           ...            \\\n",
      "0           d        22.0            12.0           ...             \n",
      "1           c        21.0            16.0           ...             \n",
      "\n",
      "   true_responses  response_ratio                    cpmid  \\\n",
      "0            22.0        0.545455  19172511_8086_x_D009384   \n",
      "1            21.0        0.761905  19172511_8086_x_D009711   \n",
      "\n",
      "                           text type no_of_mentions_db in_db  \\\n",
      "0  adrenocorticotrophic hormone    d                 1   yes   \n",
      "1                    nucleotide    c                 1   yes   \n",
      "\n",
      "  no_of_mentions_pub in_pubtator                    hash  \n",
      "0                 no          no  19172511_x_D009384_x_d  \n",
      "1                  1         yes  19172511_x_D009711_x_c  \n",
      "\n",
      "[2 rows x 21 columns]\n",
      "        pmid identifier refid1_type refid2_type  response_ratio  \\\n",
      "11  23956580      28911           g           d             1.0   \n",
      "35   8924656       7974           g           d             1.0   \n",
      "\n",
      "                       cpmid           text type in_db in_pubtator  dropped  \\\n",
      "11  23956580_28911_x_D003929           A 22    g   yes          no     -1.0   \n",
      "35     8924656_7974_x_202200  Hyperreflexia    g   yes          no     -1.0   \n",
      "\n",
      "    degree  \n",
      "11    -1.0  \n",
      "35    -1.0  \n",
      "        pmid identifier refid1_type refid2_type  response_ratio  \\\n",
      "43  12717251    C537394           g           d        0.937500   \n",
      "41  20499090    D054990           g           d        0.933333   \n",
      "\n",
      "                      cpmid               text type in_db in_pubtator  \\\n",
      "43  12717251_8086_x_C537394  myenteric ganglia    d   yes          no   \n",
      "41  20499090_8086_x_D054990   usually alacrima    d   yes          no   \n",
      "\n",
      "    dropped    degree  \n",
      "43     -1.0 -0.937500  \n",
      "41     -1.0 -0.933333  \n"
     ]
    }
   ],
   "source": [
    "###############################################################################\n",
    "#### Pull the annotations that users marked as broken and see if they are ones that were thrown out by pubtator\n",
    "###############################################################################\n",
    "broken_c1 = new_annresults.loc[new_annresults['evtype']=='c_1_broken']\n",
    "broken_c2 = new_annresults.loc[new_annresults['evtype']=='c_2_broken'] \n",
    "broken_c1['pmid']=broken_c1['pmid'].astype(int)\n",
    "\n",
    "concept_annotations['hash']=concept_annotations['pmid'].astype(str).str.cat(concept_annotations['identifier'].astype(str).str.cat(concept_annotations['type'],sep=\"_x_\"),sep=\"_x_\")\n",
    "unique_cps = concept_annotations.drop_duplicates(['hash'], keep='last')\n",
    "unique_cps['pmid']=unique_cps['pmid'].astype(int)\n",
    "\n",
    "broken_c1.rename(columns={'refid1':'identifier'},inplace=True)\n",
    "check_broken_c1 = broken_c1.merge(unique_cps,on=(['pmid','identifier']),how='left')\n",
    "print(check_broken_c1.head(n=2))\n",
    "\n",
    "### Now do the same for broken c2s\n",
    "broken_c2.rename(columns={'refid2':'identifier'},inplace=True)\n",
    "check_broken_c2 = broken_c2.merge(unique_cps,on=(['pmid','identifier']),how='left')\n",
    "print(check_broken_c2.head(n=2))\n",
    "\n",
    "#check_broken_c1.to_csv(exppath+'concept_1_broken.txt', sep='\\t', header=True)\n",
    "#check_broken_c2.to_csv(exppath+'concept_2_broken.txt', sep='\\t', header=True)\n",
    "\n",
    "##### Inspect annotations marked as broken\n",
    "broken_c1_data = check_broken_c1.copy()\n",
    "broken_c1_data.drop(['refid2','reltype','concept_pair','user_count','evtype',\n",
    "                             'test_completions','relation_count','true_responses', \n",
    "                             'no_of_mentions_db','no_of_mentions_pub','hash'],axis=1, inplace=True)\n",
    "\n",
    "broken_c1_data.sort_values(['type','response_ratio'], ascending=(False,False), inplace=True)\n",
    "broken_c1_data['dropped'] = broken_c1_data['in_pubtator'].replace({'yes':1,'no':-1})\n",
    "broken_c1_data['degree'] = broken_c1_data['response_ratio'].multiply(broken_c1_data['dropped'])\n",
    "\n",
    "print(broken_c1_data.head(n=2))\n",
    "#broken_c1_data.to_csv(exppath+'concept_1_broken_for_plot.txt', sep='\\t', header=True)\n",
    "#check_broken_c1.to_csv(exppath+'concept_1_broken.txt', sep='\\t', header=True)\n",
    "\n",
    "broken_c2_data = check_broken_c2.copy()\n",
    "broken_c2_data.drop(['refid1','reltype','concept_pair','user_count','evtype',\n",
    "                             'test_completions','relation_count','true_responses', \n",
    "                             'no_of_mentions_db','no_of_mentions_pub','hash'],axis=1, inplace=True)\n",
    "\n",
    "broken_c2_data.sort_values(['type','response_ratio'], ascending=(False,False), inplace=True)\n",
    "broken_c2_data['dropped'] = broken_c2_data['in_pubtator'].replace({'yes':1,'no':-1})\n",
    "broken_c2_data['degree'] = broken_c2_data['response_ratio'].multiply(broken_c1_data['dropped'])\n",
    "\n",
    "print(broken_c2_data.head(n=2))\n",
    "#broken_c2_data.to_csv(exppath+'concept_2_broken_for_plot.txt', sep='\\t', header=True)\n",
    "#check_broken_c2.to_csv(exppath+'concept_2_broken.txt', sep='\\t', header=True)\n"
   ]
  },
  {
   "cell_type": "code",
   "execution_count": null,
   "metadata": {
    "collapsed": true
   },
   "outputs": [],
   "source": []
  }
 ],
 "metadata": {
  "kernelspec": {
   "display_name": "Python 3",
   "language": "python",
   "name": "python3"
  },
  "language_info": {
   "codemirror_mode": {
    "name": "ipython",
    "version": 3
   },
   "file_extension": ".py",
   "mimetype": "text/x-python",
   "name": "python",
   "nbconvert_exporter": "python",
   "pygments_lexer": "ipython3",
   "version": "3.4.5"
  }
 },
 "nbformat": 4,
 "nbformat_minor": 1
}
