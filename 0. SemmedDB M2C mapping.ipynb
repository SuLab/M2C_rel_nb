{
 "cells": [
  {
   "cell_type": "markdown",
   "metadata": {},
   "source": [
    "# Mark2Cure-SemmedDB mapping"
   ]
  },
  {
   "cell_type": "markdown",
   "metadata": {},
   "source": [
    "This notebook maps concepts in Mark2Cure with concepts in SemmedDB and vice versa. Info on SemmedDB semantic types https://metamap.nlm.nih.gov/SemanticTypesAndGroups.shtml"
   ]
  },
  {
   "cell_type": "markdown",
   "metadata": {},
   "source": [
    "## Import modules and data"
   ]
  },
  {
   "cell_type": "code",
   "execution_count": 1,
   "metadata": {
    "collapsed": true
   },
   "outputs": [],
   "source": [
    "import pandas\n",
    "import matplotlib\n",
    "import mygene\n",
    "from matplotlib import pyplot as mplot\n",
    "from pandas import read_csv"
   ]
  },
  {
   "cell_type": "markdown",
   "metadata": {},
   "source": [
    "Import the relationship annotations data for only completed concept pairs. Filter the annotations down to only the ones that have an identifier."
   ]
  },
  {
   "cell_type": "code",
   "execution_count": 2,
   "metadata": {
    "collapsed": false
   },
   "outputs": [
    {
     "name": "stdout",
     "output_type": "stream",
     "text": [
      "Total number of relationship-specific annotations for all completed RE tasks:  2950\n",
      "Relationship annotations for only concepts that have identifiers:  2846\n",
      "Unique concept pairs regardless of pmid:  619\n"
     ]
    }
   ],
   "source": [
    "savepath = 'data/'\n",
    "exppath = 'results/'\n",
    "all_completed_anns = read_csv(exppath+'annresults.txt', delimiter='\\t', header=0)\n",
    "all_completed_anns['refid1_type']= all_completed_anns['reltype'].astype(str).str[0]\n",
    "all_completed_anns['refid2_type']= all_completed_anns['reltype'].astype(str).str[2]\n",
    "all_completed_anns.drop(\"Unnamed: 0\",axis=1,inplace=True)\n",
    "print('Total number of relationship-specific annotations for all completed RE tasks: ',len(all_completed_anns))\n",
    "#print(all_completed_anns.head(n=2))\n",
    "all_completed_id_anns= all_completed_anns.loc[(all_completed_anns['refid1']!='None')&\n",
    "                                              (all_completed_anns['refid2']!='None')].copy()\n",
    "print('Relationship annotations for only concepts that have identifiers: ',len(all_completed_id_anns))\n",
    "print('Unique concept pairs regardless of pmid: ',len(set(all_completed_anns['concept_pair'].tolist())))"
   ]
  },
  {
   "cell_type": "markdown",
   "metadata": {},
   "source": [
    "Import the processed pubtator concept annotations and tokenized pmid data from the notebook on Investigating Concept Annotations"
   ]
  },
  {
   "cell_type": "markdown",
   "metadata": {},
   "source": [
    "An export of SemmedDb annotations for just the PMIDs with completed annotations was obtained from Mike Mayers along with a mapping file for converting MeSH IDs to CUIs. Import the SemmedDb relationships"
   ]
  },
  {
   "cell_type": "code",
   "execution_count": 3,
   "metadata": {
    "collapsed": false
   },
   "outputs": [
    {
     "name": "stdout",
     "output_type": "stream",
     "text": [
      "  SUBJECT_NAME    PREDICATE    OBJECT_NAME     PMID SUBJECT_CUI  \\\n",
      "0     Membrane  LOCATION_OF  Cytochromes b  3305576    C0596901   \n",
      "1  granulocyte      PART_OF          Human  3305576    C0018183   \n",
      "\n",
      "  SUBJECT_SEMTYPE OBJECT_CUI OBJECT_SEMTYPE PREDICATION_ID  SENTENCE_ID  \\\n",
      "0            celc   C0010744           aapp        7613702     15005034   \n",
      "1            cell   C0020114           humn        7613765     15005153   \n",
      "\n",
      "   SUBJECT_NOVELTY  OBJECT_NOVELTY  \n",
      "0                1               1  \n",
      "1                1               1  \n",
      "Number of semmed triples for completed pmids:  1485\n"
     ]
    }
   ],
   "source": [
    "semmed_imported = read_csv(savepath+'all_completed_anns_semmed_triples.tsv', delimiter='\\t', header=0)\n",
    "semmed_imported.drop(\"Unnamed: 0\",axis=1,inplace=True)\n",
    "semmed_imported['PREDICATION_ID'] = semmed_imported['PREDICATION_ID'].apply(lambda x: '{:.0f}'.format(x))\n",
    "semmed_imported['PREDICATION_ID'] = semmed_imported['PREDICATION_ID'].astype(str)\n",
    "print(semmed_imported.head(n=2))\n",
    "#print(semmed_imported.dtypes)\n",
    "print('Number of semmed triples for completed pmids: ', len(semmed_imported))"
   ]
  },
  {
   "cell_type": "markdown",
   "metadata": {},
   "source": [
    "### Convert Mark2Cure and SemmedDb to the same identifier system in order to be able to compare concepts"
   ]
  },
  {
   "cell_type": "markdown",
   "metadata": {},
   "source": [
    "Mark2Cure concepts are pulled from Pubtator (circa 2014), hence the annotations are linked to MeSH, OMIM, Entrez Gene and Chemble identifiers. SemmedDB links its annotations to UMLS CUIs so conversions must be done in order to draw a meaningful comparison.  Additionally, SemmedDB contains a LOT more entity types than those used in Mark2Cure, so we need to also narrow down the scope of SemmedDB annotations."
   ]
  },
  {
   "cell_type": "markdown",
   "metadata": {},
   "source": [
    "#### Codes for semantic types of interest. Disease code types were based on those selected for the NCBI disease corpus."
   ]
  },
  {
   "cell_type": "code",
   "execution_count": 4,
   "metadata": {
    "collapsed": false
   },
   "outputs": [],
   "source": [
    "## disease codes based on the ones selected for disease corpus\n",
    "disease_codes = {\n",
    "    'acab':'T020|Acquired Abnormality',\n",
    "    'anab':'T190|Anatomical Abnormality',\n",
    "    'cgab':'T019|Congenital Abnormality',\n",
    "    'comd':'T049|Cell or Molecular Dysfunction',\n",
    "    'dsyn':'T047|Disease or Syndrome',\n",
    "    'emod':'T050|Experimental Model of Disease',\n",
    "    'inpo':'T037|Injury or Poisoning',\n",
    "    'mobd':'T048|Mental or Behavioral Dysfunction',\n",
    "    'neop':'T191|Neoplastic Process',\n",
    "    'patf':'T046|Pathologic Function',\n",
    "    'sosy':'T184|Sign or Symptom',\n",
    "    'fndg':'T033|Finding'\n",
    "}\n",
    "\n",
    "gene_codes = {\n",
    "    'aapp':'T116|Amino Acid, Peptide, or Protein',\n",
    "    'enzy':'T126|Enzyme',\n",
    "    'gngm':'T028|Gene or Genome'\n",
    "}\n",
    "\n",
    "treatment_codes = {\n",
    "    'chem':'T103|Chemical',\n",
    "    'chvf':'T120|Chemical Viewed Functionally',\n",
    "    'chvs':'T104|Chemical Viewed Structurally',\n",
    "    'clnd':'T200|Clinical Drug',\n",
    "    'drdd':'T203|Drug Delivery Device',\n",
    "    'eico':'T111|Eicosanoid',\n",
    "    'hops':'T131|Hazardous or Poisonous Substance',\n",
    "    'horm':'T125|Hormone',\n",
    "    'inch':'T197|Inorganic Chemical',\n",
    "    'medd':'T074|Medical Device',\n",
    "    'phsu':'T121|Pharmacologic Substance',\n",
    "    'sbst':'T167|Substance',\n",
    "    'shro':'T095|Self-help or Relief Organization ',\n",
    "    'topp':'T061|Therapeutic or Preventive Procedure ',\n",
    "    'nsba':'T124|Neuroreactive Substance or Biogenic Amine',\n",
    "    'vita':'T127|Vitamin',\n",
    "    'bacs':'T123|Biologically Active Substance', \n",
    "    'carb':'T118|Carbohydrate', \n",
    "    'orch':'T109|Organic Chemical'\n",
    "}"
   ]
  },
  {
   "cell_type": "markdown",
   "metadata": {},
   "source": [
    "#### Semantic types dictionary"
   ]
  },
  {
   "cell_type": "code",
   "execution_count": 5,
   "metadata": {
    "collapsed": true
   },
   "outputs": [],
   "source": [
    "m2c_sem_type_dict = {'acab':'disease', 'anab':'disease', 'cgab':'disease',\n",
    "                                             'comd':'disease', 'dsyn':'disease', 'emod':'disease',\n",
    "                                             'inpo':'disease', 'mobd':'disease', 'neop':'disease',\n",
    "                                             'fndg':'disease',\n",
    "                                             'patf':'disease', 'sosy':'disease','aapp':'gene',\n",
    "                                             'enzy':'gene', 'gngm':'gene', 'chem':'treatment', \n",
    "                                             'chvf':'treatment', 'chvs':'treatment', 'clnd':'treatment',\n",
    "                                             'drdd':'treatment', 'eico':'treatment', 'hops':'treatment',\n",
    "                                             'horm':'treatment', 'inch':'treatment', 'medd':'treatment',\n",
    "                                             'phsu':'treatment', 'sbst':'treatment', 'shro':'treatment',\n",
    "                                             'topp':'treatment', 'nsba':'treatment', 'vita':'treatment',\n",
    "                                             'bacs':'treatment', 'carb':'treatment', 'orch':'treatment'}"
   ]
  },
  {
   "cell_type": "code",
   "execution_count": 6,
   "metadata": {
    "collapsed": false
   },
   "outputs": [
    {
     "name": "stdout",
     "output_type": "stream",
     "text": [
      "['fndg', 'comd', 'patf', 'neop', 'dsyn', 'emod', 'cgab', 'anab', 'acab', 'sosy', 'mobd', 'inpo', 'gngm', 'aapp', 'enzy', 'eico', 'chvf', 'chem', 'bacs', 'phsu', 'nsba', 'topp', 'clnd', 'drdd', 'carb', 'medd', 'inch', 'sbst', 'shro', 'chvs', 'horm', 'orch', 'hops', 'vita']\n"
     ]
    }
   ],
   "source": [
    "semantic_types = list(disease_codes.keys())+list(gene_codes.keys())+list(treatment_codes.keys())\n",
    "print(semantic_types)"
   ]
  },
  {
   "cell_type": "markdown",
   "metadata": {},
   "source": [
    "## Map Mark2Cure MeSH and other ID's to UMLS CUIs"
   ]
  },
  {
   "cell_type": "markdown",
   "metadata": {},
   "source": [
    "### Pull only annotations with CUIs in the completed task list, or triples for only annotations for subject and object semantic types of genes, diseases, treatments"
   ]
  },
  {
   "cell_type": "markdown",
   "metadata": {},
   "source": [
    "Limit the semmedDB data by subject and object identifiers (CUIs) and pull identifiers from M2C data"
   ]
  },
  {
   "cell_type": "code",
   "execution_count": 7,
   "metadata": {
    "collapsed": false
   },
   "outputs": [
    {
     "name": "stdout",
     "output_type": "stream",
     "text": [
      "16\n",
      "229\n",
      "226\n"
     ]
    }
   ],
   "source": [
    "#print(all_completed_id_anns.head(n=2))\n",
    "gene_list = set(all_completed_id_anns['refid1'].loc[all_completed_id_anns['refid1_type']=='g'].tolist()+all_completed_id_anns['refid2'].loc[all_completed_id_anns['refid2_type']=='g'].tolist())\n",
    "print(len(gene_list))\n",
    "drug_list = set(all_completed_id_anns['refid1'].loc[all_completed_id_anns['refid1_type']=='c'].tolist()+all_completed_id_anns['refid2'].loc[all_completed_id_anns['refid2_type']=='c'].tolist())\n",
    "print(len(drug_list))\n",
    "disease_list = set(all_completed_id_anns['refid1'].loc[all_completed_id_anns['refid1_type']=='d'].tolist()+all_completed_id_anns['refid2'].loc[all_completed_id_anns['refid2_type']=='d'].tolist())\n",
    "print(len(disease_list))"
   ]
  },
  {
   "cell_type": "markdown",
   "metadata": {},
   "source": [
    "Convert gene ids to CUI using MyGene.info"
   ]
  },
  {
   "cell_type": "code",
   "execution_count": 22,
   "metadata": {
    "collapsed": false
   },
   "outputs": [
    {
     "name": "stdout",
     "output_type": "stream",
     "text": [
      "querying 1-16...done.\n"
     ]
    },
    {
     "name": "stderr",
     "output_type": "stream",
     "text": [
      "C:\\Users\\ginger\\Anaconda3\\envs\\py3bioc\\lib\\site-packages\\pandas\\core\\indexing.py:141: SettingWithCopyWarning: \n",
      "A value is trying to be set on a copy of a slice from a DataFrame\n",
      "\n",
      "See the caveats in the documentation: http://pandas.pydata.org/pandas-docs/stable/indexing.html#indexing-view-versus-copy\n",
      "  self._setitem_with_indexer(indexer, value)\n"
     ]
    },
    {
     "name": "stdout",
     "output_type": "stream",
     "text": [
      "        _id     _score entrezgene                     name symbol  taxid  \\\n",
      "query                                                                      \n",
      "7974   7974  22.021507       7974            Hyperreflexia    HRX   9606   \n",
      "4158   4158  22.022120       4158  melanocortin 2 receptor   MC2R   9606   \n",
      "\n",
      "                      umls       CUI  \n",
      "query                                 \n",
      "7974                   NaN     blank  \n",
      "4158   {'cui': 'C1417062'}  C1417062  \n",
      "nan count:  3\n"
     ]
    }
   ],
   "source": [
    "mg = mygene.MyGeneInfo()\n",
    "m2c_gene_cuis = mg.getgenes(gene_list, fields='symbol, name, taxid, entrezgene, umls', as_dataframe=True)\n",
    "m2c_gene_cuis['CUI']='blank'\n",
    "i=0\n",
    "j=0\n",
    "while i<(len(m2c_gene_cuis)):\n",
    "    try:\n",
    "        m2c_gene_cuis['CUI'].iloc[i] = m2c_gene_cuis.iloc[i]['umls'].get('cui')\n",
    "    except:\n",
    "        try:\n",
    "            tmptext = m2c_gene_cuis.iloc[i]['umls']\n",
    "            j=j+1\n",
    "        except:\n",
    "            m2c_gene_cuis['CUI']='not_found'\n",
    "    i=i+1\n",
    "\n",
    "print(m2c_gene_cuis.head(n=2))\n",
    "print('nan count: ',j)\n",
    "#print(m2c_gene_cuis.loc[m2c_gene_cuis['CUI']=='blank'])"
   ]
  },
  {
   "cell_type": "markdown",
   "metadata": {},
   "source": [
    "Load the mapping file provided by Mike as a pandas dataframe"
   ]
  },
  {
   "cell_type": "code",
   "execution_count": 8,
   "metadata": {
    "collapsed": false
   },
   "outputs": [
    {
     "name": "stdout",
     "output_type": "stream",
     "text": [
      "        CUI     MESH  mapval\n",
      "1  C0066936  C045109  1-to-1\n",
      "2  C3712985  C585133  1-to-1\n"
     ]
    }
   ],
   "source": [
    "mesh2cuifile = open(savepath+'MeSH-Descriptor_to_UMLS-CUI.tsv','r')\n",
    "k=0\n",
    "mesh2cuilist = []\n",
    "mesh2cuimulti = []\n",
    "for line in mesh2cuifile:\n",
    "    tmp = line.strip().split('\\t')\n",
    "    if len(tmp[1:])==1:\n",
    "        tmpdict_single = {'MESH':tmp[0], 'CUI':tmp[1], 'mapval':'1-to-1'}\n",
    "        mesh2cuilist.append(tmpdict_single)\n",
    "        mesh2cuimulti.append(tmpdict_single)\n",
    "    else:\n",
    "        tmp2 = set(tmp[1:])\n",
    "        tmpdict_multi = {'MESH':tmp[0], 'CUI':tmp[1:], 'mapval':'1-to-many'}\n",
    "        mesh2cuimulti.append(tmpdict_multi)\n",
    "        for eachcui in tmp2:\n",
    "            tmpdict_single = {'MESH':tmp[0], 'CUI':eachcui, 'mapval':'1-to-many'}            \n",
    "            mesh2cuilist.append(tmpdict_single)\n",
    "    k=k+1\n",
    "    \n",
    "mesh2cuidf = pandas.DataFrame(mesh2cuimulti)\n",
    "mesh2cuidf.drop(mesh2cuidf.index[0], inplace=True)\n",
    "#print(mesh2cuidf.head(n=2))\n",
    "\n",
    "mesh2cuidf_single = pandas.DataFrame(mesh2cuilist)\n",
    "mesh2cuidf_single.drop(mesh2cuidf_single.index[0], inplace=True)\n",
    "print(mesh2cuidf_single.head(n=2))\n",
    "#print(mesh2cuidf.loc[mesh2cuidf['CUI']=='C1321756'])\n"
   ]
  },
  {
   "cell_type": "markdown",
   "metadata": {},
   "source": [
    "Use merges to map identifiers for diseases and drugs"
   ]
  },
  {
   "cell_type": "code",
   "execution_count": 14,
   "metadata": {
    "collapsed": false
   },
   "outputs": [],
   "source": [
    "m2c_disease_df = pandas.DataFrame(list(disease_list))\n",
    "m2c_disease_df.rename(columns={0:'MESH'},inplace=True)\n",
    "m2c_disease_cuis = m2c_disease_df.merge(mesh2cuidf,on='MESH',how='left')\n",
    "#print(m2c_disease_cuis.head(n=3))\n",
    "#print(len(m2c_disease_cuis.loc[m2c_disease_cuis['CUI'].isnull()]))\n",
    "\n",
    "m2c_chem_df = pandas.DataFrame(list(drug_list))\n",
    "m2c_chem_df.rename(columns={0:'MESH'},inplace=True)\n",
    "m2c_chem_cuis = m2c_chem_df.merge(mesh2cuidf,on='MESH',how='left').fillna('None')\n",
    "#print(m2c_chem_cuis.head(n=3))"
   ]
  },
  {
   "cell_type": "markdown",
   "metadata": {},
   "source": [
    "Inspect the chem/drug entities that don't map to a cui"
   ]
  },
  {
   "cell_type": "code",
   "execution_count": 15,
   "metadata": {
    "collapsed": false
   },
   "outputs": [
    {
     "name": "stdout",
     "output_type": "stream",
     "text": [
      "        MESH   CUI mapval\n",
      "59     17996  None   None\n",
      "91   C015978  None   None\n",
      "187    16414  None   None\n"
     ]
    }
   ],
   "source": [
    "unmapped_chem = m2c_chem_cuis.loc[m2c_chem_cuis['CUI']=='None']\n",
    "print(unmapped_chem)"
   ]
  },
  {
   "cell_type": "markdown",
   "metadata": {},
   "source": [
    "Since our concepts from Pubtator included identifiers from OMIM, we'll need to Map OMIM IDs to UMLS CUIs as well. First we import the OMIM/Medgen/DO map downloaded from Disease Ontology."
   ]
  },
  {
   "cell_type": "code",
   "execution_count": 17,
   "metadata": {
    "collapsed": false
   },
   "outputs": [],
   "source": [
    "OMIMfile = savepath+'from_DO_medgen_xref.txt'\n",
    "OMIMdata = open(OMIMfile,'r')\n",
    "\n",
    "i=0\n",
    "otherlist = []\n",
    "omimlist = []\n",
    "for mline in OMIMdata:\n",
    "    cui_split = mline.split(': ')\n",
    "    omim_dict = {'CUI':cui_split[0],'OMIM':'None'}\n",
    "    other_dict = {'CUI':cui_split[0],'OTHER':'None'}\n",
    "    mline2 = cui_split[1]\n",
    "    meshnmore = mline2.strip('|\\n').split('|')\n",
    "    for eachelement in meshnmore:\n",
    "        if 'OMIM:' in eachelement:\n",
    "            omim_dict['OMIM'] = eachelement.replace('OMIM:','|').strip(\"|\")\n",
    "            omimlist.append(omim_dict)\n",
    "        else:\n",
    "            other_dict['OTHER'] = eachelement\n",
    "            otherlist.append(other_dict)            \n",
    "    i=i+1\n",
    "OMIMmap = pandas.DataFrame(omimlist).drop_duplicates(subset=['CUI','OMIM'],keep='first').reset_index(drop=True)\n",
    "#print(OMIMmap.head(n=2))"
   ]
  },
  {
   "cell_type": "markdown",
   "metadata": {},
   "source": [
    "Next we actually deal with diseases that have OMIM ids instead of MeSH ids"
   ]
  },
  {
   "cell_type": "code",
   "execution_count": 18,
   "metadata": {
    "collapsed": false
   },
   "outputs": [
    {
     "name": "stdout",
     "output_type": "stream",
     "text": [
      "     MESH mapval    OMIM       CUI\n",
      "0  606217    NaN  606217  C1853508\n",
      "1  606217    NaN  606217  C1853509\n",
      "2  613385    NaN  613385  C3150649\n",
      "226\n",
      "15\n"
     ]
    }
   ],
   "source": [
    "mesh_vals = m2c_disease_cuis.loc[(m2c_disease_cuis['MESH'].str.contains('C'))|\n",
    "                           (m2c_disease_cuis['MESH'].str.contains('D'))].copy()\n",
    "\n",
    "omim_vals = m2c_disease_cuis.loc[(m2c_disease_cuis['CUI'].isnull())&\n",
    "                           (~m2c_disease_cuis['MESH'].str.contains('C'))&\n",
    "                           (~m2c_disease_cuis['MESH'].str.contains('D'))&\n",
    "                           (m2c_disease_cuis['MESH']!='None')].copy()\n",
    "\n",
    "omim_vals['OMIM']=omim_vals['MESH']\n",
    "omim_vals.drop('CUI',axis=1,inplace=True)\n",
    "omim_cuis = omim_vals.merge(OMIMmap,on='OMIM',how='left')\n",
    "print(omim_cuis.head(n=3))\n",
    "\n",
    "other_vals = m2c_disease_cuis.loc[(~m2c_disease_cuis['MESH'].isin(mesh_vals['MESH'].tolist()))&\n",
    "                                 (~m2c_disease_cuis['MESH'].isin(omim_cuis['MESH'].tolist()))]\n",
    "\n",
    "\n",
    "##Check for missing items\n",
    "#print(len(m2c_disease_cuis))\n",
    "#print(len(omim_cuis))\n",
    "#print(len(mesh_vals))\n",
    "#print(len(other_vals))"
   ]
  },
  {
   "cell_type": "markdown",
   "metadata": {},
   "source": [
    "### Do basic comparison"
   ]
  },
  {
   "cell_type": "markdown",
   "metadata": {},
   "source": [
    "Pull list of all CUIs per PMID from SemmedDB vs Mark2Cure and compare number"
   ]
  },
  {
   "cell_type": "code",
   "execution_count": 35,
   "metadata": {
    "collapsed": false
   },
   "outputs": [
    {
     "name": "stdout",
     "output_type": "stream",
     "text": [
      "semmed all cuis with duplicates:  2970\n",
      "semmed all cuis & synonyms, no duplicates:  1805\n",
      "semmed all cuis, no duplicates, no synonyms:  888\n"
     ]
    }
   ],
   "source": [
    "subject_cuis = semmed_imported[['SUBJECT_NAME','SUBJECT_CUI','SUBJECT_SEMTYPE','PMID']].copy()\n",
    "subject_cuis.rename(columns={'SUBJECT_CUI':'CUI','SUBJECT_SEMTYPE':'SEMTYPE','SUBJECT_NAME':'SEMNAME'}, inplace=True)\n",
    "object_cuis = semmed_imported[['OBJECT_NAME','OBJECT_CUI','OBJECT_SEMTYPE','PMID']].copy()\n",
    "object_cuis.rename(columns={'OBJECT_CUI':'CUI','OBJECT_SEMTYPE':'SEMTYPE','OBJECT_NAME':'SEMNAME',}, inplace=True)\n",
    "semmed_cuis= pandas.concat((subject_cuis,object_cuis))\n",
    "print('semmed all cuis with duplicates: ',len(semmed_cuis))\n",
    "semmed_cuis.drop_duplicates(subset=['CUI','SEMTYPE','PMID','SEMNAME'], keep='first',inplace=True)\n",
    "print('semmed all cuis & synonyms, no duplicates: ',len(semmed_cuis))\n",
    "print('semmed all cuis, no duplicates, no synonyms: ',len(set(semmed_cuis['CUI'].tolist())))"
   ]
  },
  {
   "cell_type": "markdown",
   "metadata": {},
   "source": [
    "Segment by semantic type"
   ]
  },
  {
   "cell_type": "code",
   "execution_count": 20,
   "metadata": {
    "collapsed": false
   },
   "outputs": [
    {
     "name": "stdout",
     "output_type": "stream",
     "text": [
      "semmed gene cuis:  261\n",
      "semmed disease cuis:  182\n",
      "semmed treatment cuis:  116\n"
     ]
    }
   ],
   "source": [
    "sem_gene_cuis = semmed_cuis.loc[semmed_cuis['SEMTYPE'].isin(gene_codes.keys())]\n",
    "sem_disease_cuis = semmed_cuis.loc[semmed_cuis['SEMTYPE'].isin(disease_codes.keys())]\n",
    "sem_treatment_cuis = semmed_cuis.loc[semmed_cuis['SEMTYPE'].isin(treatment_codes.keys())]\n",
    "print('semmed gene cuis: ', len(set(sem_gene_cuis['CUI'].tolist())))\n",
    "print('semmed disease cuis: ', len(set(sem_disease_cuis['CUI'].tolist())))\n",
    "print('semmed treatment cuis: ',len(set(sem_treatment_cuis['CUI'].tolist())))"
   ]
  },
  {
   "cell_type": "markdown",
   "metadata": {},
   "source": [
    "Compare with M2C annotations by type and then Get actual CUI count of the diseases instead of just row count"
   ]
  },
  {
   "cell_type": "code",
   "execution_count": 24,
   "metadata": {
    "collapsed": false
   },
   "outputs": [
    {
     "name": "stdout",
     "output_type": "stream",
     "text": [
      "M2C rows gene cuis:  16\n",
      "M2C rows of disease cuis:  231\n",
      "M2C rows of drug/chem cuis:  229\n",
      "M2C all disease CUIs: 533\n"
     ]
    }
   ],
   "source": [
    "print('M2C rows gene cuis: ',len(m2c_gene_cuis))\n",
    "print('M2C rows of disease cuis: ', (len(mesh_vals)+len(omim_cuis)))\n",
    "print('M2C rows of drug/chem cuis: ',len(m2c_chem_cuis))\n",
    "\n",
    "one2one = set(mesh_vals['CUI'].loc[mesh_vals['mapval']=='1-to-1'].tolist()).union(omim_cuis['CUI'].tolist())\n",
    "one2many_list = mesh_vals['CUI'].loc[mesh_vals['mapval']=='1-to-many'].tolist()\n",
    "cuiset = set()\n",
    "for eachcuilist in one2many_list:\n",
    "    for eachcui in eachcuilist:\n",
    "        cuiset.add(eachcui)\n",
    "all_m2c_disease_cuis = cuiset.union(one2one)\n",
    "print('M2C all disease CUIs:', len(all_m2c_disease_cuis))"
   ]
  },
  {
   "cell_type": "markdown",
   "metadata": {},
   "source": [
    "Get actual CUI count of the drugs/chems instead of just row count"
   ]
  },
  {
   "cell_type": "code",
   "execution_count": 25,
   "metadata": {
    "collapsed": false
   },
   "outputs": [
    {
     "name": "stdout",
     "output_type": "stream",
     "text": [
      "M2C all chem CUIs: 554\n"
     ]
    }
   ],
   "source": [
    "one2onechem = set(m2c_chem_cuis['CUI'].loc[m2c_chem_cuis['mapval']=='1-to-1'].tolist())\n",
    "one2many_chemlist = m2c_chem_cuis['CUI'].loc[m2c_chem_cuis['mapval']=='1-to-many'].tolist()\n",
    "chemcuiset = set()\n",
    "for eachcuilist in one2many_chemlist:\n",
    "    for eachcui in eachcuilist:\n",
    "        chemcuiset.add(eachcui)\n",
    "all_m2c_chem_cuis = chemcuiset.union(one2onechem)\n",
    "print('M2C all chem CUIs:', len(all_m2c_chem_cuis))"
   ]
  },
  {
   "cell_type": "markdown",
   "metadata": {},
   "source": [
    "Convert Semmed gene cuis to entrez gene ids to see how many are actually genes"
   ]
  },
  {
   "cell_type": "code",
   "execution_count": 26,
   "metadata": {
    "collapsed": false
   },
   "outputs": [
    {
     "name": "stdout",
     "output_type": "stream",
     "text": [
      "querying 1-261...done.\n",
      "Finished.\n",
      "166 input query terms found no hit:\n",
      "\t['C0040005', 'C0377091', 'C0597357', 'C0007578', 'C0304052', 'C0076088', 'C0002191', 'C0815047', 'C0\n",
      "Pass \"returnall=True\" to return complete lists of duplicate or missing query terms.\n",
      "95\n"
     ]
    }
   ],
   "source": [
    "sem_gene_set = set(sem_gene_cuis['CUI'].tolist())\n",
    "#sem_gene_set = ['C1364818','C1337111','C1539327']\n",
    "sem_veri_gene_cuis = mg.querymany(sem_gene_set, scopes=['umls','umls.cui'], field='umls', as_dataframe=True)\n",
    "sem_veri_gene_cuis.reset_index(inplace=True)\n",
    "sem_veri_gene_cuis['CUI'] = sem_veri_gene_cuis['query']\n",
    "true_genes = sem_veri_gene_cuis.loc[sem_veri_gene_cuis['notfound']!=True]\n",
    "not_found = sem_veri_gene_cuis.loc[sem_veri_gene_cuis['notfound']==True]\n",
    "print(len(true_genes))\n",
    "\n",
    "## Display results for manual inspection\n",
    "#review_chk = sem_gene_cuis.merge(sem_veri_gene_cuis,on='CUI',how='left')\n",
    "#tmp_review = review_chk.loc[tmp_merge['notfound']!=True]\n",
    "#print(tmp_review.head(n=10))"
   ]
  },
  {
   "cell_type": "markdown",
   "metadata": {},
   "source": [
    "Convert the semantic types to M2C concept types"
   ]
  },
  {
   "cell_type": "code",
   "execution_count": 27,
   "metadata": {
    "collapsed": false
   },
   "outputs": [],
   "source": [
    "semmed_imported['SUBJECT_M2C_TYPE'] = semmed_imported['SUBJECT_SEMTYPE']\n",
    "semmed_imported['OBJECT_M2C_TYPE'] = semmed_imported['OBJECT_SEMTYPE']\n",
    "semmed_imported['SUBJECT_M2C_TYPE'].replace(m2c_sem_type_dict,inplace=True)\n",
    "semmed_imported['OBJECT_M2C_TYPE'].replace(m2c_sem_type_dict,inplace=True)\n",
    "#print(semmed_imported.head(n=5))"
   ]
  },
  {
   "cell_type": "markdown",
   "metadata": {},
   "source": [
    "Limit semmeddb by the CUIs identified in M2C and pull out the relationships"
   ]
  },
  {
   "cell_type": "code",
   "execution_count": 28,
   "metadata": {
    "collapsed": false
   },
   "outputs": [
    {
     "name": "stdout",
     "output_type": "stream",
     "text": [
      "Number of CUIs covered by this M2C dataset:  1101\n",
      "Number of semmed relationships where both subject and object cuis are in M2C:  79\n",
      "Number of semmed relationships where either subject or object cuis are in M2C:  506\n"
     ]
    }
   ],
   "source": [
    "all_m2c_cuis = all_m2c_chem_cuis.union(all_m2c_disease_cuis.union(set(m2c_gene_cuis['CUI'].tolist())))\n",
    "print('Number of CUIs covered by this M2C dataset: ',len(all_m2c_cuis))\n",
    "\n",
    "\n",
    "constrained_semmed = semmed_imported.loc[(semmed_imported['SUBJECT_CUI'].isin(all_m2c_cuis))&\n",
    "                                        (semmed_imported['OBJECT_CUI'].isin(all_m2c_cuis))]\n",
    "\n",
    "partial_constrained_semmed = semmed_imported.loc[(semmed_imported['SUBJECT_CUI'].isin(all_m2c_cuis))|\n",
    "                                        (semmed_imported['OBJECT_CUI'].isin(all_m2c_cuis))]\n",
    "print('Number of semmed relationships where both subject and object cuis are in M2C: ',len(constrained_semmed))\n",
    "print('Number of semmed relationships where either subject or object cuis are in M2C: ',len(partial_constrained_semmed))"
   ]
  },
  {
   "cell_type": "markdown",
   "metadata": {},
   "source": [
    "At a first glance, a lot of SemmedDB relationships appear to be between concepts that are within the same concept type (eg- disease and disease). To get an idea of this important difference between SemmedDB and Mark2Curem, identify the number of within-type relationships (homogenous concept type or homotype)"
   ]
  },
  {
   "cell_type": "code",
   "execution_count": 29,
   "metadata": {
    "collapsed": false
   },
   "outputs": [
    {
     "name": "stdout",
     "output_type": "stream",
     "text": [
      "62\n"
     ]
    }
   ],
   "source": [
    "homotype_rels = constrained_semmed.loc[constrained_semmed['SUBJECT_M2C_TYPE']==constrained_semmed['OBJECT_M2C_TYPE']]\n",
    "heterotype_rels = constrained_semmed.loc[constrained_semmed['SUBJECT_M2C_TYPE']!=constrained_semmed['OBJECT_M2C_TYPE']]\n",
    "print(len(homotype_rels))"
   ]
  },
  {
   "cell_type": "markdown",
   "metadata": {},
   "source": [
    "Limit the SemmedDB data by semantic types and then get relationship annotations where one of the two concepts is within the semantic_types list, but the other is not"
   ]
  },
  {
   "cell_type": "code",
   "execution_count": 30,
   "metadata": {
    "collapsed": false,
    "scrolled": true
   },
   "outputs": [
    {
     "name": "stdout",
     "output_type": "stream",
     "text": [
      "unfiltered:  1485\n",
      "semifiltered:  1281\n",
      "filtered:  551\n"
     ]
    }
   ],
   "source": [
    "print('unfiltered: ',len(semmed_imported))\n",
    "\n",
    "semifiltered_semmeddb = semmed_imported.loc[(semmed_imported['SUBJECT_SEMTYPE'].isin(semantic_types))|(semmed_imported['OBJECT_SEMTYPE'].isin(semantic_types))]\n",
    "print('semifiltered: ',len(semifiltered_semmeddb))\n",
    "\n",
    "filtered_semmeddb = semmed_imported.loc[(semmed_imported['SUBJECT_SEMTYPE'].isin(semantic_types))&(semmed_imported['OBJECT_SEMTYPE'].isin(semantic_types))]\n",
    "print('filtered: ',len(filtered_semmeddb))\n",
    "#print(filtered_semmeddb.head(n=2))\n",
    "\n"
   ]
  },
  {
   "cell_type": "markdown",
   "metadata": {},
   "source": [
    "Compare heterotype relationships with M2C relationships"
   ]
  },
  {
   "cell_type": "code",
   "execution_count": 31,
   "metadata": {
    "collapsed": false
   },
   "outputs": [
    {
     "name": "stdout",
     "output_type": "stream",
     "text": [
      "Majority response, no duplicates:  975\n",
      "Majority response is not broken:  531\n"
     ]
    }
   ],
   "source": [
    "#print(len(all_completed_id_anns))\n",
    "#print(all_completed_id_anns.head(n=2))\n",
    "\n",
    "#### Obtain the majority response for each concept pair\n",
    "all_completed_id_anns.sort_values(['pmid','concept_pair','response_ratio'], ascending=[True,True,True],inplace=True)\n",
    "majority_result = all_completed_id_anns.drop_duplicates(subset=('pmid','concept_pair'), keep='last')\n",
    "print(\"Majority response, no duplicates: \", len(majority_result))\n",
    "\n",
    "#### Pull the unique cpmids for which the majority response was NOT concept broken\n",
    "not_broken = majority_result.loc[(majority_result['evtype']!='c_1_broken')&(majority_result['evtype']!='c_2_broken')]\n",
    "print(\"Majority response is not broken: \", len(not_broken))"
   ]
  },
  {
   "cell_type": "code",
   "execution_count": 96,
   "metadata": {
    "collapsed": false
   },
   "outputs": [
    {
     "name": "stdout",
     "output_type": "stream",
     "text": [
      "       pmid refid1   refid2 reltype    concept_pair  user_count  \\\n",
      "15  1325164   5443   202200     g_d   5443_x_202200          15   \n",
      "21  1325164   5443  C536008     g_d  5443_x_C536008          15   \n",
      "\n",
      "                             evtype  relation_count  test_completions  \\\n",
      "15  gene has no relation to disease               4               0.0   \n",
      "21          gene relates to disease               6               0.0   \n",
      "\n",
      "    true_responses  response_ratio refid1_type refid2_type  \n",
      "15              15        0.266667           g           d  \n",
      "21              15        0.400000           g           d  \n"
     ]
    }
   ],
   "source": [
    "print(not_broken.head(n=2))"
   ]
  },
  {
   "cell_type": "code",
   "execution_count": 97,
   "metadata": {
    "collapsed": false,
    "scrolled": false
   },
   "outputs": [],
   "source": [
    "#print(filtered_semmeddb.loc[filtered_semmeddb['PMID']==1325164])\n",
    "#print(filtered_semmeddb.loc[filtered_semmeddb['PMID']==1659963])\n",
    "#print(filtered_semmeddb.loc[filtered_semmeddb['PMID']==2854735])"
   ]
  },
  {
   "cell_type": "markdown",
   "metadata": {
    "collapsed": false
   },
   "source": [
    "Compare with semmeddb annotations limited by semantic type, NOT M2C CUIs"
   ]
  },
  {
   "cell_type": "code",
   "execution_count": 99,
   "metadata": {
    "collapsed": false
   },
   "outputs": [
    {
     "name": "stdout",
     "output_type": "stream",
     "text": [
      "302\n"
     ]
    }
   ],
   "source": [
    "sem_homotype_rels = filtered_semmeddb.loc[filtered_semmeddb['SUBJECT_M2C_TYPE']==filtered_semmeddb['OBJECT_M2C_TYPE']]\n",
    "sem_heterotype_rels = filtered_semmeddb.loc[filtered_semmeddb['SUBJECT_M2C_TYPE']!=filtered_semmeddb['OBJECT_M2C_TYPE']]\n",
    "print(len(sem_homotype_rels))"
   ]
  },
  {
   "cell_type": "markdown",
   "metadata": {},
   "source": [
    "### Verify the intersecting set by doing the reverse mapping (semmedDb CUIs to MeSH)"
   ]
  },
  {
   "cell_type": "markdown",
   "metadata": {},
   "source": [
    "Because the mappings between MeSH and CUIs can be one-to-many, mapping from CUIs to MeSH instead of vice versa may give a different set of results for the SemmedDB data; however, the intersecting set (with Mark2Cure) should not change."
   ]
  },
  {
   "cell_type": "code",
   "execution_count": 60,
   "metadata": {
    "collapsed": false
   },
   "outputs": [
    {
     "name": "stdout",
     "output_type": "stream",
     "text": [
      "items to map:  1805 round= 0\n",
      "mapped in this round:  167\n",
      "unmapped in this round:  1638\n",
      "items to map:  1638 round= 1\n",
      "mapped in this round:  1\n",
      "unmapped in this round:  1637\n",
      "items to map:  1637 round= 2\n",
      "mapped in this round:  700\n",
      "unmapped in this round:  937\n",
      "items to map:  937 round= 3\n",
      "mapped in this round:  564\n",
      "unmapped in this round:  373\n",
      "373\n",
      "CUIs that mapped to MESH IDs:  1432\n",
      "CUIs that did not map to MESH IDs:  373\n"
     ]
    }
   ],
   "source": [
    "### Clean up the mapping files\n",
    "cui_gene_map = true_genes[['query','_id','symbol']].rename(columns={'query':'CUI','_id':'MESH','symbol':'DETAILS'}).copy()\n",
    "cui_gene_map['ID_TYPE']='gene_id'\n",
    "cui_omim_map = omim_cuis.rename(columns={'OMIM':'DETAILS','mapval':'ID_TYPE'}).copy()\n",
    "cui_omim_map['ID_TYPE']='omim_id'\n",
    "one_to_one_df = mesh2cuidf.loc[mesh2cuidf['mapval']=='1-to-1'].rename(columns={'mapval':'DETAILS'}).copy()\n",
    "one_to_one_df['ID_TYPE']='mesh_id'\n",
    "one_to_many_df = mesh2cuidf_single.loc[mesh2cuidf_single['mapval']!='1-to-1'].rename(columns={'mapval':'DETAILS'}).copy()\n",
    "one_to_many_df['ID_TYPE']='mesh_id'\n",
    "\n",
    "### Iterate through the mapping files to fill in the missing IDs sequentially\n",
    "## Starting with the gene ids, omim ids, before the MeSH ids\n",
    "## Remove CUIs that need to be mapped during the iteration so that gene ids are prioritized over MeSH ids for genes\n",
    "mapping_files = [cui_gene_map,cui_omim_map,one_to_one_df,one_to_many_df]\n",
    "starting_df = semmed_cuis.copy()\n",
    "semmed_mapped_to_mesh_df = pandas.DataFrame(columns=['SEMNAME','CUI','SEMTYPE','PMID','MESH','DETAILS','ID_TYPE'])\n",
    "i=0\n",
    "for eachmapping in mapping_files:\n",
    "    temp_df = starting_df.merge(eachmapping, on='CUI',how='left').fillna('no_match')\n",
    "    tmp_matched_df = temp_df.loc[temp_df['MESH']!='no_match'].copy()\n",
    "    no_match_df = temp_df.loc[temp_df['MESH']=='no_match'].copy()\n",
    "    print(\"items to map: \",len(starting_df), \"round=\",i)\n",
    "    i=i+1\n",
    "    semmed_mapped_to_mesh_df = semmed_mapped_to_mesh_df.append(tmp_matched_df)\n",
    "    print(\"mapped in this round: \",len(tmp_matched_df))\n",
    "    if len(no_match_df) > 0:\n",
    "        print(\"unmapped in this round: \", len(no_match_df))\n",
    "        starting_df = starting_df.loc[~starting_df['CUI'].isin(tmp_matched_df['CUI'].tolist())].copy()       \n",
    "\n",
    "unmapped_sem_df  = semmed_cuis.loc[~semmed_cuis['CUI'].isin(semmed_mapped_to_mesh_df['CUI'].tolist())].copy() \n",
    "print(len(unmapped_sem_df))\n",
    "unmapped_sem_df['PMID']=unmapped_sem_df['PMID'].astype(int)\n",
    "unmapped_sem_df['M2C_sem_type'] = unmapped_sem_df['SEMTYPE']\n",
    "semmed_mapped_to_mesh_df['M2C_sem_type'] = semmed_mapped_to_mesh_df['SEMTYPE']\n",
    "print('CUIs that mapped to MESH IDs: ',len(semmed_mapped_to_mesh_df))\n",
    "print('CUIs that did not map to MESH IDs: ',len(unmapped_sem_df))\n",
    "#print(unmapped_sem_df.head(n=2))"
   ]
  },
  {
   "cell_type": "markdown",
   "metadata": {
    "collapsed": true
   },
   "source": [
    "### Dealing with CUI to MeSH conversion failures\n",
    "Some cuis fail to map to mesh ids because the mapping file is incomplete and fails as seen in this example:"
   ]
  },
  {
   "cell_type": "code",
   "execution_count": 61,
   "metadata": {
    "collapsed": false
   },
   "outputs": [],
   "source": [
    "for line in mesh2cuifile:\n",
    "    if line.contains('C1321756'):\n",
    "        presence='yes'\n",
    "        print(line)\n",
    "    else:\n",
    "        presence='no'"
   ]
  },
  {
   "cell_type": "markdown",
   "metadata": {},
   "source": [
    "To get around this, try mapping using subject name, object name, and PMID. Run a basic string similarity/difference checker like seqmat to do a basic string match and then use that string match to map identifiers.\n",
    "\n",
    "To do this, first import the Mark2Cure concept table and Map the unmapped CUIs to MeSH using M2C annotation text and MeSH IDs"
   ]
  },
  {
   "cell_type": "code",
   "execution_count": 71,
   "metadata": {
    "collapsed": false
   },
   "outputs": [
    {
     "name": "stdout",
     "output_type": "stream",
     "text": [
      "number of exact text matches:  0\n"
     ]
    }
   ],
   "source": [
    "### Import the Mark2Cure concept table\n",
    "m2c_concepts = pandas.read_csv(savepath+'2017.11.22 RE pubmed concept export.txt',delimiter='\\t',header=0)\n",
    "m2c_concepts['SEMNAME'] = m2c_concepts['text']\n",
    "m2c_concepts.rename(columns={'pmid':'PMID'},inplace=True)\n",
    "#print(m2c_concepts.head(n=2))\n",
    "\n",
    "### Map the unmapped CUIs to MeSH using M2C annotation text and MeSH IDs\n",
    "exact_text_match = unmapped_sem_df.merge(m2c_concepts, on=('PMID','SEMNAME'), how='left').fillna('no match')\n",
    "#print(exact_text_match.head(n=2))\n",
    "print(\"number of exact text matches: \",len(exact_text_match.loc[exact_text_match['concept_id']=='no_match']))"
   ]
  },
  {
   "cell_type": "markdown",
   "metadata": {},
   "source": [
    "To speed up the processing, narrow down the number of CUIs in need of matching by filtering by semantic type"
   ]
  },
  {
   "cell_type": "code",
   "execution_count": 72,
   "metadata": {
    "collapsed": false
   },
   "outputs": [
    {
     "name": "stdout",
     "output_type": "stream",
     "text": [
      "CUIs of appropriate semantic type that did not map to MESH IDs:  198\n"
     ]
    }
   ],
   "source": [
    "unmapped_filtered_sem = unmapped_sem_df.loc[unmapped_sem_df['SEMTYPE'].isin(semantic_types)].copy()\n",
    "unmapped_filtered_sem['M2C_sem_type'] = unmapped_filtered_sem['SEMTYPE'].replace(m2c_sem_type_dict)\n",
    "print('CUIs of appropriate semantic type that did not map to MESH IDs: ',len(unmapped_filtered_sem))\n",
    "#print(unmapped_filtered_sem.head(n=2))"
   ]
  },
  {
   "cell_type": "markdown",
   "metadata": {},
   "source": [
    "#### Calculate potential matches by narrowing down concepts by PMIDs, then calculating similarity between text"
   ]
  },
  {
   "cell_type": "code",
   "execution_count": 73,
   "metadata": {
    "collapsed": false
   },
   "outputs": [
    {
     "name": "stdout",
     "output_type": "stream",
     "text": [
      "193\n"
     ]
    }
   ],
   "source": [
    "from difflib import SequenceMatcher as seqmat\n",
    "import itertools\n",
    "\n",
    "unmapped_pmids = unmapped_filtered_sem['PMID'].unique().tolist()\n",
    "#test_pmids = [3305576, 4075537, 2854735]\n",
    "\n",
    "\n",
    "potential_matches = []\n",
    "for eachpmid in unmapped_pmids:\n",
    "    tmpsem = unmapped_sem_df.loc[unmapped_sem_df['PMID']==eachpmid]\n",
    "    tmpm2c = m2c_concepts.loc[m2c_concepts['PMID']==eachpmid]\n",
    "    sem_cpts = tmpsem['SEMNAME'].unique().tolist()\n",
    "    m2c_cpts = tmpm2c['SEMNAME'].unique().tolist()\n",
    "    for eachcpt1, eachcpt2 in itertools.combinations(sem_cpts+m2c_cpts, 2):\n",
    "        tmp = seqmat(None,eachcpt1,eachcpt2)\n",
    "        match_lvl = tmp.ratio()\n",
    "        if match_lvl > 0.5:\n",
    "            tmpdict = {'SEMNAME1':eachcpt1,'SEMNAME2':eachcpt2,'ratio':match_lvl,'PMID':eachpmid,\n",
    "                      'CUI1':'None','CUI2':'None', 'MESH1':'None', 'MESH2':'None'}\n",
    "            try:\n",
    "                tmpdict['CUI1'] = tmpsem['CUI'].loc[tmpsem['SEMNAME']==eachcpt1].iloc[0]\n",
    "            except:\n",
    "                tmpdict['MESH1'] = tmpm2c['concept_id'].loc[tmpm2c['SEMNAME']==eachcpt1].iloc[0]\n",
    "            try:\n",
    "                tmpdict['CUI2'] = tmpsem['CUI'].loc[tmpsem['SEMNAME']==eachcpt2].iloc[0]\n",
    "            except:\n",
    "                tmpdict['MESH2'] = tmpm2c['concept_id'].loc[tmpm2c['SEMNAME']==eachcpt2].iloc[0]            \n",
    "            if tmpdict['CUI1']=='None' and tmpdict['CUI2']!='None':\n",
    "                tmpdict['SEMTYPE']=tmpsem['SEMTYPE'].loc[tmpsem['SEMNAME']==eachcpt2].iloc[0]\n",
    "                tmpdict['M2C_sem_type']=tmpsem['M2C_sem_type'].loc[tmpsem['SEMNAME']==eachcpt2].iloc[0]\n",
    "                potential_matches.append(tmpdict)\n",
    "            elif tmpdict['CUI1']!='None' and tmpdict['CUI2']=='None':\n",
    "                tmpdict['SEMTYPE']=tmpsem['SEMTYPE'].loc[tmpsem['SEMNAME']==eachcpt1].iloc[0]\n",
    "                tmpdict['M2C_sem_type']=tmpsem['M2C_sem_type'].loc[tmpsem['SEMNAME']==eachcpt1].iloc[0]\n",
    "                potential_matches.append(tmpdict)\n",
    "            else:\n",
    "                samedb_match='no'\n",
    "            \n",
    "mapped_ids = pandas.DataFrame(potential_matches)\n",
    "#print(mapped_ids.head(n=2))\n",
    "print(len(mapped_ids))"
   ]
  },
  {
   "cell_type": "markdown",
   "metadata": {},
   "source": [
    "Clean up the mapping table"
   ]
  },
  {
   "cell_type": "code",
   "execution_count": 74,
   "metadata": {
    "collapsed": false
   },
   "outputs": [
    {
     "name": "stdout",
     "output_type": "stream",
     "text": [
      "text-mapped CUIs:  190\n"
     ]
    }
   ],
   "source": [
    "CUI1df = mapped_ids.loc[mapped_ids['CUI1']!='None'].copy()\n",
    "CUI1df.drop('CUI2',axis=1,inplace=True)\n",
    "CUI1df.rename(columns={'CUI1':'CUI'}, inplace=True)\n",
    "CUI2df = mapped_ids.loc[mapped_ids['CUI2']!='None'].copy()\n",
    "CUI2df.drop('CUI1',axis=1,inplace=True)\n",
    "CUI2df.rename(columns={'CUI2':'CUI'}, inplace=True)\n",
    "cuidf = pandas.concat((CUI1df,CUI2df))\n",
    "\n",
    "mesh1df = cuidf.loc[cuidf['MESH1']!='None'].copy()\n",
    "mesh1df.drop('MESH2',axis=1,inplace=True)\n",
    "mesh1df.rename(columns={'MESH1':'MESH'}, inplace=True)\n",
    "mesh2df = cuidf.loc[cuidf['MESH2']!='None'].copy()\n",
    "mesh2df.drop('MESH1',axis=1,inplace=True)\n",
    "mesh2df.rename(columns={'MESH2':'MESH'}, inplace=True)\n",
    "cui2meshtxt = pandas.concat((mesh1df,mesh2df))\n",
    "\n",
    "print('text-mapped CUIs: ',len(cui2meshtxt))"
   ]
  },
  {
   "cell_type": "markdown",
   "metadata": {},
   "source": [
    "Deal with CUIs that mapped to multiple MESH IDs by selecting the highest ratio match"
   ]
  },
  {
   "cell_type": "code",
   "execution_count": 75,
   "metadata": {
    "collapsed": false
   },
   "outputs": [
    {
     "name": "stdout",
     "output_type": "stream",
     "text": [
      "CUIs that mapped based on text (with dups):  190\n",
      "CUIs that mapped based on text (no dups):  92\n"
     ]
    }
   ],
   "source": [
    "cui2meshtxt.sort_values(['PMID','CUI','ratio'], ascending=[True,True,False], inplace=True)\n",
    "cui2mesh_no_dups = cui2meshtxt.drop_duplicates(subset=['PMID','CUI'], keep='first').copy()\n",
    "print('CUIs that mapped based on text (with dups): ',len(cui2meshtxt))\n",
    "print('CUIs that mapped based on text (no dups): ',len(cui2mesh_no_dups))\n",
    "#print(cui2mesh_no_dups)"
   ]
  },
  {
   "cell_type": "markdown",
   "metadata": {},
   "source": [
    "Add the new mappings to dataframe for downstream analysis, but only reformat/relookup the missing annotations"
   ]
  },
  {
   "cell_type": "code",
   "execution_count": 76,
   "metadata": {
    "collapsed": false
   },
   "outputs": [
    {
     "name": "stdout",
     "output_type": "stream",
     "text": [
      "CUIs that mapped based on text that are not already in accounted for:  92\n"
     ]
    }
   ],
   "source": [
    "semmed_mapped_to_mesh_df['PMID']=semmed_mapped_to_mesh_df['PMID'].astype(int)\n",
    "#print(semmed_mapped_to_mesh_df.head(n=2))\n",
    "missing2map = cui2mesh_no_dups.loc[~cui2mesh_no_dups['CUI'].isin(semmed_mapped_to_mesh_df['CUI'].unique().tolist())]\n",
    "print('CUIs that mapped based on text that are not already in accounted for: ',len(missing2map))                                    \n",
    "missing2map.rename(columns={'SEMNAME1':'SEMNAME','SEMNAME2':'DETAILS','ratio':'ID_TYPE'}, inplace=True)\n",
    "#print(missing2map)\n",
    "semmed_mapped_to_mesh_df = pandas.concat((semmed_mapped_to_mesh_df,missing2map))"
   ]
  },
  {
   "cell_type": "markdown",
   "metadata": {},
   "source": [
    "Map unmapped semmed genes to entrez gene ids and add the newly mapped gene CUIs to dataframe for downstream analysis ONLY if it wasn't found via text match"
   ]
  },
  {
   "cell_type": "code",
   "execution_count": 88,
   "metadata": {
    "collapsed": false
   },
   "outputs": [
    {
     "name": "stdout",
     "output_type": "stream",
     "text": [
      "Empty DataFrame\n",
      "Columns: [SEMNAME, CUI, SEMTYPE, PMID, M2C_sem_type, MESH, DETAILS, ID_TYPE]\n",
      "Index: []\n"
     ]
    }
   ],
   "source": [
    "unmapped_genes = unmapped_filtered_sem.loc[(unmapped_filtered_sem['M2C_sem_type']=='gene') &\n",
    "                                           (~unmapped_filtered_sem['CUI'].isin(cui2meshtxt['CUI'].tolist()))].copy()\n",
    "merged_genes = unmapped_genes.merge(true_genes, on='CUI',how='left').fillna('no match')\n",
    "merged_genes.rename(columns={'entrezgene':'MESH','name':'DETAILS'},inplace=True)\n",
    "merged_genes['ID_TYPE']='gene_id'\n",
    "merged_genes.drop(['notfound','symbol','taxid','query','_id','_score'],axis=1,inplace=True)\n",
    "mapped_sem_genes = merged_genes.loc[merged_genes['MESH']!='no match']\n",
    "\n",
    "print(mapped_sem_genes)"
   ]
  },
  {
   "cell_type": "markdown",
   "metadata": {
    "collapsed": false
   },
   "source": [
    "## Optional: Try mapping CUIs to MeSH using Wikidata"
   ]
  },
  {
   "cell_type": "code",
   "execution_count": 29,
   "metadata": {
    "collapsed": false
   },
   "outputs": [],
   "source": [
    "#### Generate additional mapping files using Wikidata\n",
    "#### Or import them if done before\n",
    "\n",
    "from SPARQLWrapper import SPARQLWrapper, JSON\n",
    "sparql = SPARQLWrapper(\"https://query.wikidata.org/sparql\")\n",
    "sparql.setQuery(\"\"\"#disease\n",
    "SELECT ?item ?itemLabel ?MeSH_ID ?UMLS_CUI WHERE {\n",
    "  ?item wdt:P31 wd:Q12136.\n",
    "  SERVICE wikibase:label { bd:serviceParam wikibase:language \"[AUTO_LANGUAGE],en\". }\n",
    "  OPTIONAL { ?item wdt:P486 ?MeSH_ID. }\n",
    "  OPTIONAL { ?item wdt:P2892 ?UMLS_CUI. }\n",
    "  OPTIONAL { ?item wdt:P1748 ?NCI_Thesaurus_ID. }\n",
    "}\"\"\")\n",
    "sparql.setReturnFormat(JSON)\n",
    "results = sparql.query().convert()"
   ]
  },
  {
   "cell_type": "code",
   "execution_count": 31,
   "metadata": {
    "collapsed": false
   },
   "outputs": [
    {
     "name": "stdout",
     "output_type": "stream",
     "text": [
      "                disease  mesh_id   nci  umls_cui\n",
      "0  peptic ulcer disease  D010437  None  C0030920\n",
      "1            bronchitis  D001991  None  C0006277\n",
      "returns with no cuis:  2527\n",
      "returns with no mesh:  6582\n",
      "returns with no nci:  15074\n"
     ]
    }
   ],
   "source": [
    "#print(pandas.read_json(results))\n",
    "\n",
    "tmptbl = []\n",
    "no_cui_count = 0\n",
    "no_mesh_count = 0\n",
    "no_nci_count = 0\n",
    "for result in results[\"results\"][\"bindings\"]:\n",
    "    disease = result['itemLabel']['value']\n",
    "    tmpdict = {'disease':disease, 'umls_cui':'None','mesh_id':'None','nci':'None'}\n",
    "    try:\n",
    "        tmpdict['umls_cui'] = result['UMLS_CUI']['value']\n",
    "    except:\n",
    "        no_cui_count = no_cui_count+1\n",
    "    try:\n",
    "        tmpdict['mesh_id'] = result['MeSH_ID']['value']\n",
    "    except:\n",
    "        no_mesh_count = no_mesh_count+1\n",
    "    try:\n",
    "        tmpdict['nci'] = result['NCI_Thesaurus_ID']['value']\n",
    "    except:\n",
    "        no_nci_count = no_nci_count+1    \n",
    "    tmptbl.append(tmpdict)\n",
    "\n",
    "wd_convert = pandas.DataFrame(tmptbl)\n",
    "print(wd_convert.head(n=2))\n",
    "print('returns with no cuis: ',no_cui_count)\n",
    "print('returns with no mesh: ',no_mesh_count)\n",
    "print('returns with no nci: ',no_nci_count)\n",
    "###export table \n",
    "wd_convert.to_csv(exppath+'wd_convert.txt',sep='\\t',header=True, encoding='utf-8')\n"
   ]
  },
  {
   "cell_type": "code",
   "execution_count": 93,
   "metadata": {
    "collapsed": false
   },
   "outputs": [],
   "source": [
    "#### Import Wikidata and NCI mapping tables\n",
    "#wd_convert = pandas.read_csv(exppath+'wd_convert.txt',delimiter='\\t',header=0, encoding='utf-8')\n",
    "#wd_convert.drop('Unnamed: 0',axis=1,inplace=True)"
   ]
  },
  {
   "cell_type": "code",
   "execution_count": 32,
   "metadata": {
    "collapsed": false
   },
   "outputs": [
    {
     "name": "stdout",
     "output_type": "stream",
     "text": [
      "Empty DataFrame\n",
      "Columns: [disease, mesh_id, nci, umls_cui]\n",
      "Index: []\n"
     ]
    }
   ],
   "source": [
    "print(wd_convert.loc[wd_convert['umls_cui']=='C1321756'])\n",
    "\n",
    "#Map cui to NCI, then NCI to mesh using Wikidata"
   ]
  },
  {
   "cell_type": "markdown",
   "metadata": {},
   "source": [
    "Perform merges to actually use the mapping files to inspect overlap of converted Semmed MESH ID's with Mark2Cure MESH ID's"
   ]
  },
  {
   "cell_type": "code",
   "execution_count": 94,
   "metadata": {
    "collapsed": false
   },
   "outputs": [
    {
     "name": "stdout",
     "output_type": "stream",
     "text": [
      "Number of unique concepts in this data set:  471\n",
      "Number of Semmed relationships to check:  1485\n",
      "Number of Semmed relationships where both subject and object are in M2C:  161\n",
      "Number of Semmed relationships where either subject or object are in M2C:  670\n"
     ]
    }
   ],
   "source": [
    "m2c_mesh_list = gene_list.union(drug_list.union(disease_list))\n",
    "semmed_mesh_dict = semmed_mapped_to_mesh_df[['CUI','MESH']].drop_duplicates(subset=('CUI','MESH'),keep='first').copy()\n",
    "print('Number of unique concepts in this data set: ',len(m2c_mesh_list))\n",
    "\n",
    "semmed_to_merge = semmed_imported.copy()\n",
    "semmed_to_merge['CUI']=semmed_to_merge['SUBJECT_CUI']\n",
    "semmed_subject_merged = semmed_to_merge.merge(semmed_mesh_dict,on='CUI',how='left').fillna('notfound')\n",
    "semmed_subject_merged.rename(columns={'MESH':'SUBJECT_ID'}, inplace=True)\n",
    "semmed_subject_merged['CUI']=semmed_subject_merged['OBJECT_CUI']\n",
    "semmed_merged = semmed_subject_merged.merge(semmed_mesh_dict,on='CUI',how='left').fillna('notfound')\n",
    "semmed_merged.rename(columns={'MESH':'OBJECT_ID'}, inplace=True)\n",
    "semmed_merged.drop('CUI',axis=1,inplace=True)\n",
    "#print(semmed_merged.head(n=2))\n",
    "print('Number of Semmed relationships to check: ',len(semmed_imported))\n",
    "\n",
    "constrained_semmed_mesh = semmed_merged.loc[(semmed_merged['SUBJECT_ID'].isin(m2c_mesh_list))&\n",
    "                                        (semmed_merged['OBJECT_ID'].isin(m2c_mesh_list))]\n",
    "\n",
    "partial_constrained_semmed_mesh = semmed_merged.loc[(semmed_merged['SUBJECT_ID'].isin(m2c_mesh_list))|\n",
    "                                        (semmed_merged['OBJECT_ID'].isin(m2c_mesh_list))]\n",
    "print('Number of Semmed relationships where both subject and object are in M2C: ',len(constrained_semmed_mesh))\n",
    "print('Number of Semmed relationships where either subject or object are in M2C: ',len(partial_constrained_semmed_mesh))"
   ]
  },
  {
   "cell_type": "markdown",
   "metadata": {},
   "source": [
    "## Export files needed for further analysis"
   ]
  },
  {
   "cell_type": "code",
   "execution_count": 130,
   "metadata": {
    "collapsed": true
   },
   "outputs": [],
   "source": [
    "#constrained_semmed_mesh.to_csv(exppath+'constrained_semmed_mesh.txt',sep='\\t',header=True)\n",
    "#majority_result.to_csv(exppath+'majority_result.txt',sep='\\t',header=True)\n",
    "#semmed_merged.to_csv(exppath+'semmed_merged.txt',sep='\\t',header=True)\n",
    "#constrained_semmed.to_csv(exppath+'constrained_semmed.txt',sep='\\t',header=True)"
   ]
  },
  {
   "cell_type": "code",
   "execution_count": null,
   "metadata": {
    "collapsed": true
   },
   "outputs": [],
   "source": []
  }
 ],
 "metadata": {
  "kernelspec": {
   "display_name": "Python 3",
   "language": "python",
   "name": "python3"
  },
  "language_info": {
   "codemirror_mode": {
    "name": "ipython",
    "version": 3
   },
   "file_extension": ".py",
   "mimetype": "text/x-python",
   "name": "python",
   "nbconvert_exporter": "python",
   "pygments_lexer": "ipython3",
   "version": "3.4.5"
  }
 },
 "nbformat": 4,
 "nbformat_minor": 1
}
