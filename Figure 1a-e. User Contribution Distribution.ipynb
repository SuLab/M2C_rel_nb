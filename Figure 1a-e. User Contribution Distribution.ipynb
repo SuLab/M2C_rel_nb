{
 "cells": [
  {
   "cell_type": "markdown",
   "metadata": {},
   "source": [
    "# Distribution of User Contributions to the Relationship Task and User Accuracy"
   ]
  },
  {
   "cell_type": "markdown",
   "metadata": {},
   "source": [
    "This code gives the distribution of user contributions to the completed RE task set and uses the QC'd annotations to estimate average accuracy of the users who did at least one task within the QC'd set. "
   ]
  },
  {
   "cell_type": "markdown",
   "metadata": {},
   "source": [
    "## Import modules and load data"
   ]
  },
  {
   "cell_type": "code",
   "execution_count": 1,
   "metadata": {
    "collapsed": false
   },
   "outputs": [],
   "source": [
    "import pandas\n",
    "import matplotlib\n",
    "from matplotlib import pyplot as mplot\n",
    "import m2c_rel_basic\n",
    "import relationship_dictionaries\n",
    "from pandas import read_csv"
   ]
  },
  {
   "cell_type": "markdown",
   "metadata": {},
   "source": [
    "Import the relationship annotations data for only completed concept pairs"
   ]
  },
  {
   "cell_type": "code",
   "execution_count": 2,
   "metadata": {
    "collapsed": false
   },
   "outputs": [],
   "source": [
    "savepath = 'data/'\n",
    "exppath = 'results/'\n",
    "all_completed_anns = read_csv(exppath+'all_completed_anns.txt', delimiter='\\t', header=0)\n",
    "all_completed_anns.drop(\"Unnamed: 0\",axis=1,inplace=True)"
   ]
  },
  {
   "cell_type": "markdown",
   "metadata": {},
   "source": [
    "Import the QC'd relation annotations and the relationship dictionaries"
   ]
  },
  {
   "cell_type": "code",
   "execution_count": 3,
   "metadata": {
    "collapsed": false
   },
   "outputs": [],
   "source": [
    "esample_df = m2c_rel_basic.get_QC_data(savepath)"
   ]
  },
  {
   "cell_type": "code",
   "execution_count": 4,
   "metadata": {
    "collapsed": false
   },
   "outputs": [],
   "source": [
    "rel_hash_dict,redundant_response_dict,abbreviated_rels_dict,abbreviated_rels_dict_4_hash,concept_broken_dict,concept_not_broken_dict = relationship_dictionaries.load_RE_dictionaries()"
   ]
  },
  {
   "cell_type": "markdown",
   "metadata": {
    "collapsed": true
   },
   "source": [
    "## Distribution of User Contributions to the set of completed relationship tasks\n",
    "Get a count of the number of annotations submitted by each user, sort from highest number of contributions to lowest."
   ]
  },
  {
   "cell_type": "code",
   "execution_count": 5,
   "metadata": {
    "collapsed": false
   },
   "outputs": [
    {
     "name": "stdout",
     "output_type": "stream",
     "text": [
      "tasks completed:  15739\n",
      "users contributed:  147\n"
     ]
    }
   ],
   "source": [
    "task_distribution = all_completed_anns.groupby(['user_id']).size().reset_index(name='anns_submitted')\n",
    "task_distribution.sort_values('anns_submitted',ascending=False,inplace=True)\n",
    "task_dist_results = task_distribution.reset_index(drop=True).copy()\n",
    "task_dist_results['user_counts'] = task_dist_results.index.astype(int)+1\n",
    "print('tasks completed: ',task_distribution.anns_submitted.sum())\n",
    "print('users contributed: ',len(task_distribution))"
   ]
  },
  {
   "cell_type": "markdown",
   "metadata": {},
   "source": [
    "Export the results for visualization in a graphing program, or visualize using matplotlib"
   ]
  },
  {
   "cell_type": "code",
   "execution_count": 6,
   "metadata": {
    "collapsed": true
   },
   "outputs": [],
   "source": [
    "### Export the user contribution distribution\n",
    "#task_dist_results.to_csv(exppath+'task_distribution.txt', sep='\\t', header=True)"
   ]
  },
  {
   "cell_type": "code",
   "execution_count": 30,
   "metadata": {
    "collapsed": false
   },
   "outputs": [
    {
     "data": {
      "image/png": "[encoded data removed]",
      "text/plain": [
       "<matplotlib.figure.Figure at 0x14344d30>"
      ]
     },
     "metadata": {},
     "output_type": "display_data"
    }
   ],
   "source": [
    "### Plot and visualize the user contribution distribution\n",
    "plot_it = task_dist_results[['anns_submitted','user_counts']].copy()\n",
    "mplot.scatter(x=plot_it['user_counts'], y=plot_it['anns_submitted'], alpha=0.5)\n",
    "mplot.xlabel(\"Users\")\n",
    "mplot.ylabel(\"Number of Tasks by User\")\n",
    "mplot.title(\"Contribution Distribution\")\n",
    "mplot.show()\n",
    "#mplot.savefig(exppath+'contribution_distribution.png', bbox_inches='tight', dpi=300)"
   ]
  },
  {
   "cell_type": "markdown",
   "metadata": {},
   "source": [
    "Calculate the gini coefficient and distribution of effort metric."
   ]
  },
  {
   "cell_type": "code",
   "execution_count": 16,
   "metadata": {
    "collapsed": false
   },
   "outputs": [
    {
     "name": "stdout",
     "output_type": "stream",
     "text": [
      "Distribution of effort:  0.26743699675833943 | gini coefficient:  0.7325630032416606\n"
     ]
    }
   ],
   "source": [
    "gini_it = plot_it.copy()\n",
    "\n",
    "## Determine the equation of the line under perfectly uniform contributions and calculate area under that line\n",
    "slope = (gini_it['anns_submitted'].min()-gini_it['anns_submitted'].max())/(gini_it['user_counts'].max()-gini_it['user_counts'].min())\n",
    "offset = gini_it['anns_submitted'].max()-(slope*1)\n",
    "ideal_auc = 0.5*(gini_it['anns_submitted'].max()-gini_it['anns_submitted'].min())*(gini_it['user_counts'].max()-gini_it['user_counts'].min())\n",
    "\n",
    "## Get shifted values\n",
    "gini_it['anns_shift1'] = gini_it['anns_submitted'].shift(-1).fillna(0)\n",
    "gini_it.drop(gini_it.index[len(gini_it)-1], inplace=True)\n",
    "\n",
    "## Calculate area under distribution curve\n",
    "gini_it['user_auc'] = 0.5*(gini_it['anns_submitted']+gini_it['anns_shift1'])*1\n",
    "total_user_auc = gini_it.user_auc.sum()\n",
    "\n",
    "## Calculate Distribution of Effort Metric and Gini Coefficient\n",
    "effort_distribution = total_user_auc/ideal_auc\n",
    "gini = 1-effort_distribution\n",
    "\n",
    "print('Distribution of effort: ',effort_distribution, '| gini coefficient: ',gini)"
   ]
  },
  {
   "cell_type": "markdown",
   "metadata": {},
   "source": [
    "## Calculate User Average Accuracy based on the QC'd set"
   ]
  },
  {
   "cell_type": "code",
   "execution_count": 17,
   "metadata": {
    "collapsed": false
   },
   "outputs": [],
   "source": [
    "## pull the tasks (cpmids) from the QC'd annotatin set\n",
    "expert_cpmids = set(esample_df['cpmid'].tolist())\n",
    "\n",
    "## Get the cpmids from the QC'd set and use it to generate the total user anns that are covered in the QC'd set (total_ref_set)\n",
    "total_ref_set = all_completed_anns.loc[all_completed_anns['cpmid'].isin(expert_cpmids)].copy()\n",
    "\n",
    "## Use dictionaries to deal with redundant responses\n",
    "total_ref_set['evtype'].replace(abbreviated_rels_dict_4_hash, inplace=True)\n",
    "total_ref_set['evtype'].replace(concept_broken_dict, inplace=True)\n",
    "esample_df['conclusion'].replace(concept_broken_dict, inplace=True)\n",
    "\n",
    "## get the list of users in the total_ref_set\n",
    "user_set = set(total_ref_set['user_id'].unique().tolist())\n",
    "user_max = len(user_set)"
   ]
  },
  {
   "cell_type": "markdown",
   "metadata": {},
   "source": [
    "For each user in the user_set, pull the cpmids they did and match it to the QC'd set to create the test set. Calculate their accuracy and number of completions based on the test set and save it to a new df"
   ]
  },
  {
   "cell_type": "code",
   "execution_count": 18,
   "metadata": {
    "collapsed": false
   },
   "outputs": [
    {
     "name": "stdout",
     "output_type": "stream",
     "text": [
      "   TN  TP  accuracy  expert_anns_compared  total_response  total_user_cpmid  \\\n",
      "0   1   0  0.000000                     1               1                11   \n",
      "1  13  22  0.628571                    35              35               339   \n",
      "\n",
      "   user_anns_checked  user_id  \n",
      "0                  1     1538  \n",
      "1                 35     1540  \n"
     ]
    }
   ],
   "source": [
    "checked_results = []\n",
    "#print('checking ',user_max,' users and their annotations.')\n",
    "for u in user_set:\n",
    "    result_dict={}\n",
    "    result_dict['user_id']=u\n",
    "    test_set = total_ref_set[['cpmid','evtype']].loc[total_ref_set['user_id']==u]\n",
    "    total_user_cpmid = len(all_completed_anns.loc[all_completed_anns['user_id']==u])\n",
    "    limited_expert_cpmids = test_set['cpmid'].unique().tolist()\n",
    "    ref_set = esample_df[['cpmid','conclusion']].loc[esample_df['cpmid'].isin(limited_expert_cpmids)].drop_duplicates(subset=['cpmid'], keep='first')\n",
    "    ref_set['evtype'] = ref_set['conclusion']    \n",
    "    ## Merge the dataframes to be able to quickly check if one column matches the other\n",
    "    matches = ref_set.merge(test_set,on=(['cpmid','evtype']),how='inner')\n",
    "    true_positive = len(matches)\n",
    "    total_response = len(test_set)\n",
    "    accuracy = true_positive/total_response\n",
    "    result_dict['user_anns_checked']=len(test_set)\n",
    "    result_dict['expert_anns_compared']=len(ref_set)\n",
    "    result_dict['TP']=true_positive\n",
    "    result_dict['total_response']=total_response\n",
    "    result_dict['TN'] = total_response-true_positive\n",
    "    result_dict['accuracy'] = accuracy\n",
    "    result_dict['total_user_cpmid'] = total_user_cpmid\n",
    "    checked_results.append(result_dict)    \n",
    "\n",
    "user_checked_df = pandas.DataFrame(checked_results)\n",
    "\n",
    "print(user_checked_df.head(n=2))"
   ]
  },
  {
   "cell_type": "markdown",
   "metadata": {},
   "source": [
    "Calculate overall summary results"
   ]
  },
  {
   "cell_type": "code",
   "execution_count": 19,
   "metadata": {
    "collapsed": false
   },
   "outputs": [
    {
     "name": "stdout",
     "output_type": "stream",
     "text": [
      "mean:  0.5178380661016583  mean_error:  0.03046477683064259\n",
      "max:  1.0  median:  0.6091269841269842\n"
     ]
    }
   ],
   "source": [
    "mean_accuracy = user_checked_df.accuracy.mean()\n",
    "max_accuracy = user_checked_df.accuracy.max()\n",
    "median_accuracy = user_checked_df.accuracy.median()\n",
    "mean_error = user_checked_df.accuracy.sem()\n",
    "\n",
    "print(\"mean: \",mean_accuracy,\" mean_error: \", mean_error)\n",
    "print(\"max: \",max_accuracy, \" median: \",median_accuracy)\n"
   ]
  },
  {
   "cell_type": "markdown",
   "metadata": {},
   "source": [
    "### Visualize Number of Tasks Done vs User Accuracy"
   ]
  },
  {
   "cell_type": "code",
   "execution_count": 26,
   "metadata": {
    "collapsed": false
   },
   "outputs": [
    {
     "data": {
      "image/png": "[encoded data removed]",
      "text/plain": [
       "<matplotlib.figure.Figure at 0x1421da20>"
      ]
     },
     "metadata": {},
     "output_type": "display_data"
    }
   ],
   "source": [
    "plot_it_B = user_checked_df[['user_id','total_user_cpmid','accuracy']].copy()\n",
    "mplot.figure()\n",
    "mplot.scatter(x=plot_it_B['accuracy'], y=plot_it_B['total_user_cpmid'], alpha=0.5)\n",
    "mplot.xlabel(\"Accuracy\")\n",
    "mplot.ylabel(\"RE Tasks done\")\n",
    "mplot.title(\"Contribution vs Accuracy\")\n",
    "mplot.axvline(median_accuracy, color='r')\n",
    "mplot.show()\n",
    "#mplot.savefig(exppath+'contribution_accuracy.png', bbox_inches='tight', dpi=300)"
   ]
  },
  {
   "cell_type": "markdown",
   "metadata": {},
   "source": [
    "## Investigate ratio of discarded annotations and performance"
   ]
  },
  {
   "cell_type": "markdown",
   "metadata": {},
   "source": [
    "Upon cursory inspection of users with 0% accuracy in spite of multiple annotations within the QC set, it appears that some users are reluctant to throw out concepts resulting in a lower performance.  To investigate this phenomena, obtain a count of the number of tasks each user did and the number of 'concept broken' responses each user submitted. Calculate the ratio of 'concept broken' to tasks submissions to look at tendency to throw away annotations"
   ]
  },
  {
   "cell_type": "code",
   "execution_count": 31,
   "metadata": {
    "collapsed": true
   },
   "outputs": [],
   "source": [
    "## Use dictionaries to deal with overly long and redundant responses from the completed relation task set\n",
    "all_completed_anns['evtype'].replace(abbreviated_rels_dict_4_hash, inplace=True)\n",
    "all_completed_anns['evtype'].replace(concept_broken_dict, inplace=True)"
   ]
  },
  {
   "cell_type": "markdown",
   "metadata": {
    "collapsed": false
   },
   "source": [
    "### Look at user willingness to throw away concept annotations vs user accuracy"
   ]
  },
  {
   "cell_type": "code",
   "execution_count": 32,
   "metadata": {
    "collapsed": false
   },
   "outputs": [],
   "source": [
    "tmp_user_set = set(user_checked_df['user_id'].tolist())\n",
    "all_tmp_user_anns = all_completed_anns.loc[all_completed_anns['user_id'].isin(tmp_user_set)]\n",
    "## subset out annotations these users marked as broken\n",
    "tmp_broken_anns = all_tmp_user_anns.loc[all_tmp_user_anns['evtype']=='concept_broken']\n",
    "\n",
    "## Get counts of number of annotations each user submitted vs 'broken' responses each user submitted\n",
    "all_tmp_counts = all_completed_anns.groupby(['user_id']).size().reset_index(name='task_count')\n",
    "broken_tmp_counts = tmp_broken_anns.groupby(['user_id']).size().reset_index(name='broken_count')\n",
    "    \n",
    "## Merge results back into the performance table\n",
    "bk_reluctance_pf_df = user_checked_df.merge(broken_tmp_counts,on='user_id',how='left').fillna(0)\n",
    "bk_reluctance_pf_df['broken_ratio'] = bk_reluctance_pf_df['broken_count'].div(bk_reluctance_pf_df['total_user_cpmid'])\n"
   ]
  },
  {
   "cell_type": "code",
   "execution_count": 19,
   "metadata": {
    "collapsed": false,
    "scrolled": true
   },
   "outputs": [
    {
     "data": {
      "image/png": "[encoded data removed]",
      "text/plain": [
       "<matplotlib.figure.Figure at 0x10e21470>"
      ]
     },
     "metadata": {},
     "output_type": "display_data"
    }
   ],
   "source": [
    "plot_these_results = bk_reluctance_pf_df.loc[bk_reluctance_pf_df['expert_anns_compared']>0]\n",
    "tmpplotdata = plot_these_results[['accuracy','broken_ratio','user_anns_checked','total_user_cpmid']].copy()\n",
    "\n",
    "mplot.scatter(x=tmpplotdata[\"broken_ratio\"], y=tmpplotdata[\"accuracy\"], s=tmpplotdata['total_user_cpmid'],c=tmpplotdata['user_anns_checked'], cmap=\"Blues\", alpha=0.5)\n",
    "mplot.xlabel(\"'broken' response/total submissions\")\n",
    "mplot.ylabel(\"User Accuracy\")\n",
    "mplot.title(\"Concept Toss Rate vs Accuracy\")\n",
    "mplot.show()\n",
    "#mplot.savefig(exppath+'contribution_accuracy.png', bbox_inches='tight', dpi=300)"
   ]
  },
  {
   "cell_type": "markdown",
   "metadata": {},
   "source": [
    "### Bin the results and get basic summary stats"
   ]
  },
  {
   "cell_type": "raw",
   "metadata": {},
   "source": [
    "To actually test the effect the reluctance to throw out concept annotations on user performance, Bin the users by accuracy range. For each range, pull all annotations from each user from the completed relationship task set. "
   ]
  },
  {
   "cell_type": "code",
   "execution_count": 20,
   "metadata": {
    "collapsed": false
   },
   "outputs": [],
   "source": [
    "## Binning Option 1: Get the accuracy value for the 20 percentile, 40 percentile, etc.\n",
    "q1 = bk_reluctance_pf_df.accuracy.quantile(0.2)\n",
    "q2 = bk_reluctance_pf_df.accuracy.quantile(0.4)\n",
    "q3 = bk_reluctance_pf_df.accuracy.quantile(0.6)\n",
    "q4 = bk_reluctance_pf_df.accuracy.quantile(0.8)\n",
    "\n",
    "## bin results based on quantiles\n",
    "bin_00 = bk_reluctance_pf_df.loc[(bk_reluctance_pf_df['accuracy']>=0) & (bk_reluctance_pf_df['accuracy']<q1)]\n",
    "bin_02 = bk_reluctance_pf_df.loc[(bk_reluctance_pf_df['accuracy']>=q1) & (bk_reluctance_pf_df['accuracy']<q2)]\n",
    "bin_04 = bk_reluctance_pf_df.loc[(bk_reluctance_pf_df['accuracy']>=q2) & (bk_reluctance_pf_df['accuracy']<q3)]\n",
    "bin_06 = bk_reluctance_pf_df.loc[(bk_reluctance_pf_df['accuracy']>=q3) & (bk_reluctance_pf_df['accuracy']<q4)]\n",
    "bin_08 = bk_reluctance_pf_df.loc[(bk_reluctance_pf_df['accuracy']>=q4) & (bk_reluctance_pf_df['accuracy']<1)]\n",
    "bin_10 = bk_reluctance_pf_df.loc[(bk_reluctance_pf_df['accuracy']==1)]\n",
    "\n",
    "bin_00.name = \"bin_00\"\n",
    "bin_02.name = \"bin_02\"\n",
    "bin_04.name = \"bin_04\"\n",
    "bin_06.name = \"bin_06\"\n",
    "bin_08.name = \"bin_08\"\n",
    "bin_10.name = \"bin_10\"\n",
    "\n",
    "perform_bins = (bin_00, bin_02, bin_04, bin_06, bin_08, bin_10)"
   ]
  },
  {
   "cell_type": "code",
   "execution_count": 18,
   "metadata": {
    "collapsed": false
   },
   "outputs": [],
   "source": [
    "## Binning Option 2: Bin results based on accuracy of 20%, 40%, etc.\n",
    "bin_00 = bk_reluctance_pf_df.loc[(bk_reluctance_pf_df['accuracy']>=0) & (bk_reluctance_pf_df['accuracy']<0.2)]\n",
    "bin_02 = bk_reluctance_pf_df.loc[(bk_reluctance_pf_df['accuracy']>=0.2) & (bk_reluctance_pf_df['accuracy']<0.4)]\n",
    "bin_04 = bk_reluctance_pf_df.loc[(bk_reluctance_pf_df['accuracy']>=0.4) & (bk_reluctance_pf_df['accuracy']<0.6)]\n",
    "bin_06 = bk_reluctance_pf_df.loc[(bk_reluctance_pf_df['accuracy']>=0.6) & (bk_reluctance_pf_df['accuracy']<0.8)]\n",
    "bin_08 = bk_reluctance_pf_df.loc[(bk_reluctance_pf_df['accuracy']>=0.8) & (bk_reluctance_pf_df['accuracy']<1)]\n",
    "bin_10 = bk_reluctance_pf_df.loc[(bk_reluctance_pf_df['accuracy']==1)]\n",
    "\n",
    "bin_00.name = \"bin_00\"\n",
    "bin_02.name = \"bin_02\"\n",
    "bin_04.name = \"bin_04\"\n",
    "bin_06.name = \"bin_06\"\n",
    "bin_08.name = \"bin_08\"\n",
    "bin_10.name = \"bin_10\"\n",
    "\n",
    "perform_bins = (bin_00, bin_02, bin_04, bin_06, bin_08, bin_10)"
   ]
  },
  {
   "cell_type": "code",
   "execution_count": 21,
   "metadata": {
    "collapsed": false
   },
   "outputs": [
    {
     "name": "stdout",
     "output_type": "stream",
     "text": [
      "   accur_mean  accur_median  accur_sem  accur_std bin_range  broken_mean  \\\n",
      "0    0.000000      0.000000   0.000000   0.000000    bin_00     0.108550   \n",
      "1    0.292629      0.333333   0.032568   0.112820    bin_02     0.202235   \n",
      "2    0.559246      0.564394   0.010699   0.056613    bin_04     0.352748   \n",
      "3    0.698213      0.691261   0.005874   0.029953    bin_06     0.389738   \n",
      "4    0.788535      0.792683   0.014536   0.048209    bin_08     0.206107   \n",
      "5    1.000000      1.000000   0.000000   0.000000    bin_10     0.381129   \n",
      "\n",
      "   broken_median  broken_sem  broken_std  expert_anns_compared_sum  \\\n",
      "0       0.000000    0.031056    0.148937                        74   \n",
      "1       0.117568    0.073959    0.256203                        89   \n",
      "2       0.357249    0.046386    0.245452                       461   \n",
      "3       0.409211    0.051365    0.261912                       964   \n",
      "4       0.135135    0.066249    0.219724                       168   \n",
      "5       0.284091    0.100299    0.347447                        17   \n",
      "\n",
      "   total_tasks_in_bin  users_in_bin  \n",
      "0                 537            23  \n",
      "1                 712            12  \n",
      "2                4124            28  \n",
      "3                8449            26  \n",
      "4                1619            11  \n",
      "5                 178            12  \n"
     ]
    }
   ],
   "source": [
    "## create a new dataframe to store updated results for ease of plotting\n",
    "perf_result = []\n",
    "\n",
    "for eachrange in perform_bins:\n",
    "    ## get the mean, median, sem of performance, and broken ratio\n",
    "    summ_stats = {\n",
    "        'bin_range': eachrange.name,\n",
    "        'accur_mean': eachrange.accuracy.mean(),\n",
    "        'accur_median': eachrange.accuracy.median(),\n",
    "        'accur_sem': eachrange.accuracy.sem(),\n",
    "        'accur_std' : eachrange.accuracy.std(),\n",
    "        'expert_anns_compared_sum' : eachrange.expert_anns_compared.sum(),\n",
    "        'users_in_bin' : len(eachrange),\n",
    "        'total_tasks_in_bin' : eachrange.total_user_cpmid.sum(),\n",
    "        'broken_mean' : eachrange.broken_ratio.mean(),\n",
    "        'broken_median' : eachrange.broken_ratio.median(),\n",
    "        'broken_sem' : eachrange.broken_ratio.sem(),\n",
    "        'broken_std' : eachrange.broken_ratio.std()\n",
    "        }\n",
    "    perf_result.append(summ_stats)\n",
    "\n",
    "pref_results_df = pandas.DataFrame(perf_result)\n",
    "print(pref_results_df)    "
   ]
  },
  {
   "cell_type": "code",
   "execution_count": 22,
   "metadata": {
    "collapsed": false
   },
   "outputs": [
    {
     "data": {
      "image/png": "[encoded data removed]",
      "text/plain": [
       "<matplotlib.figure.Figure at 0x10e3e160>"
      ]
     },
     "metadata": {},
     "output_type": "display_data"
    }
   ],
   "source": [
    "### Clean up the data and plot it\n",
    "\n",
    "data = (bin_00['broken_ratio'], bin_02['broken_ratio'], bin_04['broken_ratio'], bin_06['broken_ratio'], bin_08['broken_ratio'], bin_10['broken_ratio'])\n",
    "\n",
    "mplot.figure()\n",
    "mplot.boxplot(data)\n",
    "mplot.xticks([1, 2, 3, 4, 5, 6], ['0-0.2', '0.2-0.4', '0.4-0.6', '0.6-0.8', '0.8-1.0','1.0'])\n",
    "mplot.xlabel(\"Accuracy Range\")\n",
    "mplot.ylabel(\"'broken'/total submissions ratio\")\n",
    "mplot.axhline(bk_reluctance_pf_df.broken_ratio.median(), color='r')\n",
    "mplot.title(\"Accuracy Range vs Aggregate Concept Toss Rate\")\n",
    "mplot.show()"
   ]
  },
  {
   "cell_type": "markdown",
   "metadata": {
    "collapsed": true
   },
   "source": [
    "### See how accuracy changes if users with concept toss rates of 0 are removed"
   ]
  },
  {
   "cell_type": "code",
   "execution_count": 23,
   "metadata": {
    "collapsed": false
   },
   "outputs": [
    {
     "name": "stdout",
     "output_type": "stream",
     "text": [
      "mean:  0.5898425298200561  mean_error:  0.029288370052264767\n",
      "max:  1.0  median:  0.6594202898550725\n"
     ]
    },
    {
     "data": {
      "image/png": "[encoded data removed]",
      "text/plain": [
       "<matplotlib.figure.Figure at 0x142158d0>"
      ]
     },
     "metadata": {},
     "output_type": "display_data"
    }
   ],
   "source": [
    "## Inspect accuracy after adjusting for users who don't toss concepts\n",
    "nontossers = bk_reluctance_pf_df.loc[bk_reluctance_pf_df['broken_ratio']<=0]\n",
    "\n",
    "plot_it_C = user_checked_df[['user_id','total_user_cpmid','accuracy']].loc[~user_checked_df['user_id'].isin(nontossers['user_id'])].copy()\n",
    "\n",
    "mean_accuracy_adj = plot_it_C.accuracy.mean()\n",
    "max_accuracy_adj = plot_it_C.accuracy.max()\n",
    "median_accuracy_adj = plot_it_C.accuracy.median()\n",
    "mean_error_adj = plot_it_C.accuracy.sem()\n",
    "\n",
    "print(\"mean: \",mean_accuracy_adj,\" mean_error: \", mean_error_adj)\n",
    "print(\"max: \",max_accuracy_adj, \" median: \",median_accuracy_adj)\n",
    "\n",
    "mplot.figure()\n",
    "mplot.scatter(x=plot_it_C['accuracy'], y=plot_it_C['total_user_cpmid'], alpha=0.5)\n",
    "mplot.xlabel(\"Accuracy\")\n",
    "mplot.ylabel(\"RE Tasks done\")\n",
    "mplot.title(\"Contribution vs Accuracy\")\n",
    "mplot.axvline(median_accuracy_adj, color='r')\n",
    "mplot.show()"
   ]
  },
  {
   "cell_type": "code",
   "execution_count": 24,
   "metadata": {
    "collapsed": false
   },
   "outputs": [],
   "source": [
    "### export list of reluctant concept tossers\n",
    "#nontoss = nontossers.to_csv(exppath+'concept_nontossers.txt',sep='\\t',header=True)"
   ]
  },
  {
   "cell_type": "code",
   "execution_count": null,
   "metadata": {
    "collapsed": true
   },
   "outputs": [],
   "source": []
  }
 ],
 "metadata": {
  "kernelspec": {
   "display_name": "Python 3",
   "language": "python",
   "name": "python3"
  },
  "language_info": {
   "codemirror_mode": {
    "name": "ipython",
    "version": 3
   },
   "file_extension": ".py",
   "mimetype": "text/x-python",
   "name": "python",
   "nbconvert_exporter": "python",
   "pygments_lexer": "ipython3",
   "version": "3.4.5"
  }
 },
 "nbformat": 4,
 "nbformat_minor": 1
}
