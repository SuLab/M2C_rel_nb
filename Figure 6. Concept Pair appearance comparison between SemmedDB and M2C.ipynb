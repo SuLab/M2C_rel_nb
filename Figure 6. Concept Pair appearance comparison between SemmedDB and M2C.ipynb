{
 "cells": [
  {
   "cell_type": "markdown",
   "metadata": {
    "collapsed": true
   },
   "source": [
    "# Concept pair appearance comparison between Mark2Cure and SemmedDB"
   ]
  },
  {
   "cell_type": "markdown",
   "metadata": {
    "collapsed": true
   },
   "source": [
    "This module inspects pulls the completed concept pairs for each pmid, determines the majority response, counts the number of pmids each concept pair appears in, and then checks SemmedDB for the appearance of the concept pairs either together (ie- in a relationship) or separately (ie- co-mention, but not related). The counts are visualized for easy comparison. To limit the amount of data processed, the concept pairs are restricted to only those that were quality checked. Since SemmedDB may not necessarily have both concept pairs in a relationship for that PMID, the pmids in which each QC'd concept pair appeared (regardless as to whether it was the one that was actually QC'd) was pulled and used to filter SemmedDB. In other words, these PMID's should have the concept pairs in them even if SemmedDB doesn't show them having a relationship. For each PMID in this set, the SemmedDB concepts were pulled and filtered for Mark2Cure semantic types. Each QC'd concept pair was then checked for appearance of that exact pair as a relationship annotation in SemmedDB, or as just being present as individual concepts in that PMID. Note that identifiers are used for mapping so concepts which were not mapped to MeSH IDs or entrez gene ids dropped out (hence eliminating the filter for Mark2Cure semantic types, would not change the results).\n"
   ]
  },
  {
   "cell_type": "markdown",
   "metadata": {},
   "source": [
    "## Import modules and data"
   ]
  },
  {
   "cell_type": "code",
   "execution_count": 1,
   "metadata": {
    "collapsed": true
   },
   "outputs": [],
   "source": [
    "import pandas\n",
    "import matplotlib\n",
    "from matplotlib import pyplot as mplot\n",
    "from matplotlib import patches as mpatches\n",
    "import m2c_rel_basic\n",
    "from pandas import read_csv"
   ]
  },
  {
   "cell_type": "code",
   "execution_count": 2,
   "metadata": {
    "collapsed": false
   },
   "outputs": [
    {
     "name": "stdout",
     "output_type": "stream",
     "text": [
      "Number of relationship annotations for completed RE tasks:  2950\n",
      "Relationship annotations for only concepts that have identifiers:  2846\n",
      "Unique concept pairs regardless of pmid:  619\n"
     ]
    }
   ],
   "source": [
    "savepath = 'data/'\n",
    "exppath = 'results/'\n",
    "all_completed_anns = read_csv(exppath+'annresults.txt', delimiter='\\t', header=0)\n",
    "all_completed_anns['refid1_type']= all_completed_anns['reltype'].astype(str).str[0]\n",
    "all_completed_anns['refid2_type']= all_completed_anns['reltype'].astype(str).str[2]\n",
    "all_completed_anns.drop(\"Unnamed: 0\",axis=1,inplace=True)\n",
    "print('Number of relationship annotations for completed RE tasks: ',len(all_completed_anns))\n",
    "all_completed_id_anns= all_completed_anns.loc[(all_completed_anns['refid1']!='None')&\n",
    "                                              (all_completed_anns['refid2']!='None')].copy()\n",
    "print('Relationship annotations for only concepts that have identifiers: ',len(all_completed_id_anns))\n",
    "print('Unique concept pairs regardless of pmid: ',len(set(all_completed_anns['concept_pair'].tolist())))"
   ]
  },
  {
   "cell_type": "code",
   "execution_count": 3,
   "metadata": {
    "collapsed": false
   },
   "outputs": [
    {
     "name": "stdout",
     "output_type": "stream",
     "text": [
      "69\n"
     ]
    }
   ],
   "source": [
    "## Import the list of all QC'd cpmids\n",
    "esample_df = m2c_rel_basic.get_QC_data(savepath)\n",
    "\n",
    "## drop the annotations marked 'broken'\n",
    "expert_not_broken = esample_df.loc[(esample_df['conclusion']!='c1_broken')&(esample_df['conclusion']!='c2_broken')]\n",
    "#print(expert_not_broken.head(n=2))\n",
    "print(len(expert_not_broken))"
   ]
  },
  {
   "cell_type": "code",
   "execution_count": 4,
   "metadata": {
    "collapsed": false
   },
   "outputs": [
    {
     "name": "stdout",
     "output_type": "stream",
     "text": [
      "  SUBJECT_NAME    PREDICATE    OBJECT_NAME     PMID SUBJECT_CUI  \\\n",
      "0     Membrane  LOCATION_OF  Cytochromes b  3305576    C0596901   \n",
      "1  granulocyte      PART_OF          Human  3305576    C0018183   \n",
      "\n",
      "  SUBJECT_SEMTYPE OBJECT_CUI OBJECT_SEMTYPE  PREDICATION_ID  SENTENCE_ID  \\\n",
      "0            celc   C0010744           aapp         7613702     15005034   \n",
      "1            cell   C0020114           humn         7613765     15005153   \n",
      "\n",
      "   SUBJECT_NOVELTY  OBJECT_NOVELTY SUBJECT_M2C_TYPE OBJECT_M2C_TYPE  \\\n",
      "0                1               1             celc            gene   \n",
      "1                1               1             cell            humn   \n",
      "\n",
      "  SUBJECT_ID OBJECT_ID  \n",
      "0   notfound   D045303  \n",
      "1    D006098  notfound  \n"
     ]
    }
   ],
   "source": [
    "#import semmeddb mapped to MeSH\n",
    "semmed_merged = pandas.read_csv(exppath+'semmed_merged.txt',delimiter='\\t',header=0)\n",
    "semmed_merged.drop(\"Unnamed: 0\",axis=1,inplace=True)\n",
    "print(semmed_merged.head(n=2))"
   ]
  },
  {
   "cell_type": "code",
   "execution_count": 5,
   "metadata": {
    "collapsed": false
   },
   "outputs": [
    {
     "name": "stdout",
     "output_type": "stream",
     "text": [
      "Majority response, no duplicates:  975\n",
      "Majority response is not broken:  531\n",
      "relations left after unrelated concepts removed:  456\n"
     ]
    }
   ],
   "source": [
    "#### Obtain the majority response for each concept pair\n",
    "all_completed_id_anns.sort_values(['pmid','concept_pair','response_ratio'], ascending=[True,True,True],inplace=True)\n",
    "majority_result = all_completed_id_anns.drop_duplicates(subset=('pmid','concept_pair'), keep='last')\n",
    "print(\"Majority response, no duplicates: \", len(majority_result))\n",
    "\n",
    "#### Pull the unique cpmids for which the majority response was NOT concept broken\n",
    "not_broken = majority_result.loc[(majority_result['evtype']!='c_1_broken')&(majority_result['evtype']!='c_2_broken')]\n",
    "print(\"Majority response is not broken: \", len(not_broken))\n",
    "\n",
    "#### Also pull the unique cpmids for which the majority response was NOT related\n",
    "not_unrelated = not_broken.loc[~not_broken['evtype'].str.contains('no relation')]\n",
    "print('relations left after unrelated concepts removed: ',len(not_unrelated))\n",
    "#print(M2C_semmed_merge.head(n=2))"
   ]
  },
  {
   "cell_type": "code",
   "execution_count": 6,
   "metadata": {
    "collapsed": false
   },
   "outputs": [
    {
     "name": "stdout",
     "output_type": "stream",
     "text": [
      "number of majority-response-specific cpmids:  625\n",
      "number of cpmids regardless of response:  590\n",
      "number of unique concept pairs that have been qc-d:  92\n",
      "number of concept pairs in the majority response set that showed up in the qc-d set:  82\n",
      "number of response-specific concept pairs that showed up in the qc-d set:  103\n",
      "number of concept pairs with majority responses which showed up in the qc-d set:  353\n",
      "number of pmids which encompass those concept pairs which showed up in the qc-d set:  109\n"
     ]
    }
   ],
   "source": [
    "#### identify most frequent concept_pairs, the majority response, and map to the expert response\n",
    "### Relationship between concept pairs can vary depending on abstract\n",
    "### get counts of concept pairs with their relationships\n",
    "cp_response_counts = majority_result.groupby(['concept_pair','evtype','reltype','refid1','refid2',\n",
    "                                         'refid1_type','refid2_type']).size().reset_index(name='cp_res_count')\n",
    "print('number of majority-response-specific cpmids: ',\n",
    "      len(cp_response_counts))\n",
    "### Now just get a count of the cpmids\n",
    "cp_counts = majority_result.groupby(['concept_pair','reltype','refid1','refid2',\n",
    "                                         'refid1_type','refid2_type']).size().reset_index(name='cp_count')\n",
    "\n",
    "print('number of cpmids regardless of response: ',\n",
    "      len(cp_counts))\n",
    "### Sort the cps to get the most frequent concept pairs\n",
    "cp_counts.sort_values('cp_count', ascending=False, inplace=True)\n",
    "cp_response_counts.sort_values('cp_res_count', ascending=False, inplace=True)\n",
    "\n",
    "\n",
    "### Filter for the cpmids that have been QC'd\n",
    "exp_list = esample_df['concept_pair'].unique().tolist()\n",
    "print('number of unique concept pairs that have been qc-d: ',\n",
    "      len(exp_list))\n",
    "\n",
    "qc_cp_ct = cp_counts.loc[cp_counts['concept_pair'].isin(exp_list)]\n",
    "print('number of concept pairs in the majority response set that showed up in the qc-d set: ',\n",
    "      len(qc_cp_ct))\n",
    "\n",
    "qc_cp_res_ct = cp_response_counts.loc[cp_response_counts['concept_pair'].isin(exp_list)]\n",
    "print('number of response-specific concept pairs that showed up in the qc-d set: ',\n",
    "      len(qc_cp_res_ct))\n",
    "\n",
    "qc_all = majority_result.loc[majority_result['concept_pair'].isin(exp_list)].copy()\n",
    "qc_all_pmids = qc_all['pmid'].unique().tolist()\n",
    "print('number of concept pairs with majority responses which showed up in the qc-d set: ',\n",
    "      len(qc_all))\n",
    "print('number of pmids which encompass those concept pairs which showed up in the qc-d set: ',\n",
    "      len(qc_all_pmids))"
   ]
  },
  {
   "cell_type": "code",
   "execution_count": 7,
   "metadata": {
    "collapsed": false
   },
   "outputs": [
    {
     "name": "stdout",
     "output_type": "stream",
     "text": [
      "number of pmids which encompass the number of concept pairs which showed up in the qc-d set available in semmeddb:  109\n",
      "number of semmed relationships in those pmids:  653\n"
     ]
    },
    {
     "name": "stderr",
     "output_type": "stream",
     "text": [
      "C:\\Users\\ginger\\Anaconda3\\envs\\py3bioc\\lib\\site-packages\\pandas\\util\\decorators.py:91: SettingWithCopyWarning: \n",
      "A value is trying to be set on a copy of a slice from a DataFrame\n",
      "\n",
      "See the caveats in the documentation: http://pandas.pydata.org/pandas-docs/stable/indexing.html#indexing-view-versus-copy\n",
      "  return func(*args, **kwargs)\n"
     ]
    }
   ],
   "source": [
    "### Get the pmids where the qc'd cps appear, filter semmeddb set by those pmids\n",
    "pmid_constraints = majority_result['pmid'].loc[majority_result['concept_pair'].isin(qc_cp_res_ct['concept_pair'].unique().tolist())].unique().tolist()\n",
    "print('number of pmids which encompass the number of concept pairs which showed up in the qc-d set available in semmeddb: ', len(pmid_constraints))\n",
    "\n",
    "sem_same_pmids = semmed_merged.loc[semmed_merged['PMID'].isin(pmid_constraints)]\n",
    "sem_same_pmids.drop_duplicates(subset=['PMID','SUBJECT_CUI','SUBJECT_SEMTYPE','OBJECT_CUI','OBJECT_SEMTYPE',\n",
    "                                      'PREDICATION_ID','SENTENCE_ID'], keep='first',inplace=True)\n",
    "print('number of semmed relationships in those pmids: ',len(sem_same_pmids))"
   ]
  },
  {
   "cell_type": "code",
   "execution_count": 8,
   "metadata": {
    "collapsed": false
   },
   "outputs": [
    {
     "name": "stdout",
     "output_type": "stream",
     "text": [
      "3 3 0 0\n",
      "       pmid    concept_pair\n",
      "0  16528113   351_x_D000309\n",
      "1  16609705  8086_x_D000309\n",
      "2  23056690  8086_x_C536008\n"
     ]
    },
    {
     "name": "stderr",
     "output_type": "stream",
     "text": [
      "C:\\Users\\ginger\\Anaconda3\\envs\\py3bioc\\lib\\site-packages\\pandas\\core\\frame.py:2834: SettingWithCopyWarning: \n",
      "A value is trying to be set on a copy of a slice from a DataFrame\n",
      "\n",
      "See the caveats in the documentation: http://pandas.pydata.org/pandas-docs/stable/indexing.html#indexing-view-versus-copy\n",
      "  **kwargs)\n"
     ]
    }
   ],
   "source": [
    "##### Working with this more restricted data set filter by M2C semantic types\n",
    "### check the concept pairs in semmedDB to see how many pmids have both concepts\n",
    "### vs how many actually have relationships in semmeddb\n",
    "\n",
    "### Remove relationships if any of the semantics types in semmed db are NOT genes, disease, or treatment\n",
    "\n",
    "semmed_m2c_types_only = sem_same_pmids.loc[((sem_same_pmids['SUBJECT_M2C_TYPE']=='gene')|\n",
    "                                            (sem_same_pmids['SUBJECT_M2C_TYPE']=='disease')|\n",
    "                                            (sem_same_pmids['SUBJECT_M2C_TYPE']=='treatment')) &\n",
    "                                            ((sem_same_pmids['OBJECT_M2C_TYPE']=='gene')|\n",
    "                                            (sem_same_pmids['OBJECT_M2C_TYPE']=='disease')|\n",
    "                                            (sem_same_pmids['OBJECT_M2C_TYPE']=='treatment'))].copy()\n",
    "#print('number of semmed relationships which left when restricted to M2C semantic types: ', len(semmed_m2c_types_only))\n",
    "#print(semmed_m2c_types_only)\n",
    "\n",
    "#### Convert all concepts to concept pairs (reverse concept pair as well) and compare the concept pairs\n",
    "\n",
    "## create reverse concept pair in 'not broken' concept pairs from the \n",
    "qc_all['cp_reverse'] = qc_all['refid2'].astype(str).str.cat(qc_all['refid1'].astype(str),sep='_x_')\n",
    "\n",
    "## Do the same for semmed cps\n",
    "semmed_m2c_types_only['concept_pair'] = semmed_m2c_types_only['SUBJECT_ID'].astype(str).str.cat(semmed_m2c_types_only['OBJECT_ID'].astype(str),sep='_x_')\n",
    "semmed_m2c_types_only['cp_reverse'] = semmed_m2c_types_only['OBJECT_ID'].astype(str).str.cat(semmed_m2c_types_only['SUBJECT_ID'].astype(str),sep='_x_')\n",
    "semmed_m2c_types_only.rename(columns={'PMID':'pmid'}, inplace=True)\n",
    "\n",
    "####Use merging to find concept pairs in common\n",
    "forward_checklist = qc_all[['pmid','concept_pair']]\n",
    "reverse_checklist = qc_all[['pmid','cp_reverse']]\n",
    "reverse_checklist.rename(columns={'cp_reverse':'concept_pair'},inplace=True)\n",
    "sem_to_chklist = semmed_m2c_types_only[['pmid','concept_pair']]\n",
    "sem_fro_chklist = semmed_m2c_types_only[['pmid','cp_reverse']]\n",
    "sem_fro_chklist.rename(columns={'cp_reverse':'concept_pair'},inplace=True)\n",
    "forward_match = forward_checklist.merge(sem_to_chklist, on=('pmid','concept_pair'), how='inner')\n",
    "for_fro_match = forward_checklist.merge(sem_fro_chklist, on=('pmid','concept_pair'), how='inner')\n",
    "rev_to_match = reverse_checklist.merge(sem_to_chklist, on=('pmid','concept_pair'), how='inner')\n",
    "\n",
    "## Check mechanism: if the forward matches, the reverse should match too\n",
    "reverse_match = reverse_checklist.merge(sem_fro_chklist, on=('pmid','concept_pair'), how='inner')\n",
    "\n",
    "print(len(forward_match),len(reverse_match),len(for_fro_match),len(rev_to_match))\n",
    "print(forward_match)\n"
   ]
  },
  {
   "cell_type": "code",
   "execution_count": 9,
   "metadata": {
    "collapsed": false
   },
   "outputs": [
    {
     "name": "stdout",
     "output_type": "stream",
     "text": [
      "89\n",
      "45\n"
     ]
    }
   ],
   "source": [
    "#### From the pmid-constrained, m2C semantic type constrained SemmedDB data, look for heterotype relationships\n",
    "\n",
    "heterorels = semmed_m2c_types_only.loc[semmed_m2c_types_only['SUBJECT_M2C_TYPE']!=semmed_m2c_types_only['OBJECT_M2C_TYPE']]\n",
    "print(len(heterorels))\n",
    "heterorels_pmids = heterorels.groupby('pmid').size().reset_index(name='counts')\n",
    "print(len(heterorels_pmids))"
   ]
  },
  {
   "cell_type": "code",
   "execution_count": 53,
   "metadata": {
    "collapsed": false
   },
   "outputs": [
    {
     "name": "stdout",
     "output_type": "stream",
     "text": [
      "   broad_rel    concept_pair  cp_broken  no_rel  spec_rel  total_pmids\n",
      "0          0  8086_x_C536008          3       0        33           36\n",
      "1          0  8086_x_C536009          0       0        32           32\n"
     ]
    }
   ],
   "source": [
    "##### Working only with concept pairs in the QC'd in case reviews of the cps are needed,\n",
    "#### count the number of pmids for which:\n",
    "### a specific relationship is given\n",
    "### a broad relationship is given\n",
    "### 'no relationship' is selected\n",
    "\n",
    "#print(qc_nb.head(n=2))\n",
    "#print(qc_cp_res_ct.head(n=2))\n",
    "cpair_list = qc_cp_ct['concept_pair'].unique().tolist()\n",
    "relation_count_list = []\n",
    "\n",
    "for eachcp in cpair_list:\n",
    "    restypecounts = 0\n",
    "    tmpdf = qc_cp_res_ct.loc[qc_cp_res_ct['concept_pair']==eachcp]\n",
    "    tmpdf2 = qc_cp_ct.loc[qc_cp_ct['concept_pair']==eachcp]\n",
    "    total_pmids = tmpdf2['cp_count'].iloc[0]\n",
    "    tmpdict = {'concept_pair':eachcp, 'total_pmids':total_pmids, 'broad_rel':0,'spec_rel':0, 'no_rel':0, 'cp_broken':0}\n",
    "    if len(tmpdf) == 1:\n",
    "        ## Majority ruled across different documents, the relationship is the same\n",
    "        if 'relates to' in tmpdf['evtype'].iloc[0]:\n",
    "            tmpdict['broad_rel'] = tmpdf['cp_res_count'].iloc[0]\n",
    "        elif 'no relation' in tmpdf['evtype'].iloc[0]:\n",
    "            tmpdict['no_rel'] = tmpdf['cp_res_count'].iloc[0]\n",
    "        elif 'broken' in tmpdf['evtype'].iloc[0]:\n",
    "            tmpdict['cp_broken'] = tmpdf['cp_res_count'].iloc[0]\n",
    "        else:\n",
    "            tmpdict['spec_rel'] = tmpdf['cp_res_count'].iloc[0]\n",
    "        relation_count_list.append(tmpdict)\n",
    "        \n",
    "    else: \n",
    "        ## Majority ruled there is more than one type of relationship depending on document\n",
    "        no_rel = tmpdf.loc[tmpdf['evtype'].astype(str).str.contains('no relation')]\n",
    "        broad_rel = tmpdf.loc[tmpdf['evtype'].astype(str).str.contains('relates to')]\n",
    "        cp_broken_rel = tmpdf.loc[tmpdf['evtype'].astype(str).str.contains('broken')]\n",
    "        spec_rel = tmpdf.loc[~tmpdf['evtype'].astype(str).str.contains('relates to')&\n",
    "                             ~tmpdf['evtype'].astype(str).str.contains('no relation')&\n",
    "                             ~tmpdf['evtype'].astype(str).str.contains('broken')]\n",
    "        try:\n",
    "            tmpdict['spec_rel'] = spec_rel['cp_res_count'].iloc[0]\n",
    "        except:\n",
    "            restypecounts = restypecounts+1\n",
    "        try:\n",
    "            tmpdict['broad_rel'] = broad_rel['cp_res_count'].iloc[0]\n",
    "        except:\n",
    "            restypecounts = restypecounts+1\n",
    "        try:\n",
    "            tmpdict['no_rel'] = no_rel['cp_res_count'].iloc[0]\n",
    "        except:\n",
    "            restypecounts = restypecounts+1\n",
    "        try:\n",
    "            tmpdict['cp_broken'] = cp_broken_rel['cp_res_count'].iloc[0]\n",
    "        except:\n",
    "            restypecounts = restypecounts+1\n",
    "        relation_count_list.append(tmpdict)\n",
    "\n",
    "m2c_relation_cts = pandas.DataFrame(relation_count_list)\n",
    "print(m2c_relation_cts.head(n=2))\n",
    "#m2c_relation_cts.to_csv(exppath+'figure_6_sample_data.txt',sep='\\t',header=True)"
   ]
  },
  {
   "cell_type": "code",
   "execution_count": 54,
   "metadata": {
    "collapsed": false
   },
   "outputs": [
    {
     "name": "stdout",
     "output_type": "stream",
     "text": [
      "773\n"
     ]
    }
   ],
   "source": [
    "#### Create a concept map table\n",
    "cp1_df = sem_same_pmids[['PMID','SUBJECT_ID']].rename(columns={'SUBJECT_ID':'cpid','PMID':'pmid'})\n",
    "cp2_df = sem_same_pmids[['PMID','OBJECT_ID']].rename(columns={'OBJECT_ID':'cpid','PMID':'pmid'})\n",
    "cpmaptbl = pandas.concat((cp1_df,cp2_df))\n",
    "cpmaptbl.drop_duplicates(subset=['pmid','cpid'],keep='first',inplace=True)\n",
    "#print(cpmaptbl)\n",
    "#print(sem_same_pmids.head(n=10))\n",
    "print(len(cpmaptbl))"
   ]
  },
  {
   "cell_type": "code",
   "execution_count": 55,
   "metadata": {
    "collapsed": false
   },
   "outputs": [],
   "source": [
    "#### for each concept pair, check the number of pmids that both pairs appear in\n",
    "cp_appear_list = []\n",
    "for eachcp in cpair_list:\n",
    "    cpset = eachcp.split('_x_')\n",
    "    try:\n",
    "        cp1_pmids = set(cpmaptbl['pmid'].loc[cpmaptbl['cpid']==str(cpset[0])].unique().tolist())\n",
    "    except:\n",
    "        print('cp1 not found')\n",
    "    try:\n",
    "        cp2_pmids = set(cpmaptbl['pmid'].loc[cpmaptbl['cpid']==str(cpset[1])].unique().tolist())\n",
    "    except:\n",
    "        print('cp2 not found')\n",
    "#    print(eachcp, cp1_pmids, cp2_pmids)\n",
    "    both_cp_pmids = cp1_pmids.intersection(cp2_pmids)\n",
    "    tmpdict = {'concept_pair':eachcp,'sem_pmid_cts':len(both_cp_pmids),'sem_pmid_list':both_cp_pmids}\n",
    "    cp_appear_list.append(tmpdict)\n",
    "semmed_cp_appear_only = pandas.DataFrame(cp_appear_list)\n",
    "#print(semmed_cp_appear_only.head(n=10))"
   ]
  },
  {
   "cell_type": "code",
   "execution_count": 56,
   "metadata": {
    "collapsed": false
   },
   "outputs": [
    {
     "name": "stdout",
     "output_type": "stream",
     "text": [
      "     concept_pair  sem_pmid_cts  \\\n",
      "0  8086_x_C536008             5   \n",
      "1  8086_x_C536009             0   \n",
      "\n",
      "                                       sem_pmid_list sem_tpmid_list  \\\n",
      "0  {20051279, 23056690, 17880786, 16938764, 21565...     {23056690}   \n",
      "1                                                 {}              0   \n",
      "\n",
      "   sem_true_cp_ct  \n",
      "0             1.0  \n",
      "1             0.0  \n"
     ]
    }
   ],
   "source": [
    "#### Merge the concept pairs that DO appear in SemmedDB\n",
    "semmed_true_cps = []\n",
    "semmed_true_cp_list = forward_match['concept_pair'].tolist()\n",
    "for eachcpair in semmed_true_cp_list:\n",
    "    tmpdf = forward_match.loc[forward_match['concept_pair']==eachcpair]\n",
    "    pmids = set(tmpdf['pmid'].unique().tolist())\n",
    "    tmpdict = {'concept_pair':eachcpair,'sem_tpmid_list':pmids,'sem_true_cp_ct':len(pmids)}\n",
    "    semmed_true_cps.append(tmpdict)    \n",
    "semmed_true_cps_df = pandas.DataFrame(semmed_true_cps)\n",
    "#print(semmed_true_cps_df)\n",
    "semmed_cp_appear_df = semmed_cp_appear_only.merge(semmed_true_cps_df, on='concept_pair',how='left').fillna(0)\n",
    "print(semmed_cp_appear_df.head(n=2))"
   ]
  },
  {
   "cell_type": "code",
   "execution_count": 57,
   "metadata": {
    "collapsed": false,
    "scrolled": true
   },
   "outputs": [
    {
     "data": {
      "image/png": "[encoded data removed]",
      "text/plain": [
       "<matplotlib.figure.Figure at 0x1c884e48>"
      ]
     },
     "metadata": {},
     "output_type": "display_data"
    }
   ],
   "source": [
    "import seaborn as sns\n",
    "sns.set(style=\"whitegrid\")\n",
    "\n",
    "# Initialize the matplotlib figure\n",
    "f = mplot.figure(figsize=(15,15))\n",
    "\n",
    "# Plot the specific relationships involved\n",
    "ax = mplot.subplot(1,3,1)\n",
    "sns.set_color_codes(\"bright\")\n",
    "ax.yaxis.set_visible(True)\n",
    "ax.xaxis.set_visible(True)\n",
    "ax = sns.barplot(x=\"spec_rel\", y=\"concept_pair\", data=m2c_relation_cts,\n",
    "            label=\"Specific relationships\", color=\"g\")\n",
    "\n",
    "# Plot the broad relationships  involved\n",
    "sns.set_color_codes(\"dark\")\n",
    "sns.barplot(x=\"broad_rel\", y=\"concept_pair\", data=m2c_relation_cts,\n",
    "            label=\"Broad relationships\", color=\"g\")\n",
    "\n",
    "ax.set(xlim=(0, 35), ylabel=\"\",\n",
    "       xlabel=\"Number of PMIDs in which the concept pair appears\")\n",
    "\n",
    "## Plot the broken and unrelated relationships\n",
    "ax2 = mplot.subplot(1,3,2)\n",
    "ax2.yaxis.set_visible(False)\n",
    "ax2.xaxis.set_visible(True)\n",
    "sns.set_color_codes(\"pastel\")\n",
    "ax2 = sns.barplot(x=\"cp_broken\", y=\"concept_pair\", data=m2c_relation_cts,\n",
    "            label=\"concept broken\", color=\"red\")\n",
    "\n",
    "sns.set_color_codes(\"bright\")\n",
    "sns.barplot(x=\"no_rel\", y=\"concept_pair\", data=m2c_relation_cts,\n",
    "            label=\"no relation\", color=\"pink\")\n",
    "\n",
    "ax2.set(xlim=(0, 35), ylabel=\"\",\n",
    "       xlabel=\"Number of PMIDs in which the concept pair appears\")\n",
    "\n",
    "# Plot the number of PMIDs in which both concepts were found in that pmid\n",
    "sns.set_color_codes(\"muted\")\n",
    "ax3 = mplot.subplot(1,3,3)\n",
    "ax3.yaxis.set_visible(False)\n",
    "ax3.xaxis.set_visible(True)\n",
    "ax3 = sns.barplot(x=\"sem_pmid_cts\", y=\"concept_pair\", data=semmed_cp_appear_df,\n",
    "            label=\"concepts appear in SemmedDB\", color=\"cyan\")\n",
    "\n",
    "sns.barplot(x=\"sem_true_cp_ct\", y=\"concept_pair\", data=semmed_cp_appear_df,\n",
    "            label=\"concept pair appears in semmedDB\", color=\"blue\")\n",
    "\n",
    "ax3.set(xlim=(0, 35), ylabel=\"\",\n",
    "       xlabel=\"Number of PMIDs in which each of the 2 concepts appear\")\n",
    "\n",
    "# Add a legend and informative axis label\n",
    "#f.legend(ncol=2, loc=\"lower center\", frameon=True)\n",
    "#sns.despine(left=True, bottom=True)\n",
    "mplot.show()\n",
    "#mplot.savefig(exppath+'relationship_distribution_three.png', bbox_inches='tight', dpi=300)"
   ]
  },
  {
   "cell_type": "code",
   "execution_count": 68,
   "metadata": {
    "collapsed": false,
    "scrolled": true
   },
   "outputs": [
    {
     "name": "stderr",
     "output_type": "stream",
     "text": [
      "C:\\Users\\ginger\\Anaconda3\\envs\\py3bioc\\lib\\site-packages\\ipykernel\\__main__.py:10: SettingWithCopyWarning: \n",
      "A value is trying to be set on a copy of a slice from a DataFrame.\n",
      "Try using .loc[row_indexer,col_indexer] = value instead\n",
      "\n",
      "See the caveats in the documentation: http://pandas.pydata.org/pandas-docs/stable/indexing.html#indexing-view-versus-copy\n"
     ]
    }
   ],
   "source": [
    "#### Remove the pairs where majority ruled that the concept was broken\n",
    "#### Add back in pairs where concept broken was chosen by the majority in <15% of the papers\n",
    "#### Plot 'no relation' responses with Specific and broad relationships\n",
    "#### Reduce figure to 2 plots instead of 3---one for Mark2Cure, one for SemmedDB\n",
    "m2c_relation_cts_no_broken = m2c_relation_cts.loc[(m2c_relation_cts['cp_broken']==0) | (m2c_relation_cts['cp_broken'] <= (m2c_relation_cts['total_pmids'])*0.15)].copy()\n",
    "m2c_relation_cts_no_broken['total_stack'] = m2c_relation_cts_no_broken['spec_rel']+m2c_relation_cts_no_broken['no_rel']+m2c_relation_cts_no_broken['broad_rel']\n",
    "m2c_relation_cts_no_broken['broad_stack'] = m2c_relation_cts_no_broken['no_rel']+m2c_relation_cts_no_broken['broad_rel']\n",
    "cps_to_keep=m2c_relation_cts_no_broken['concept_pair'].tolist()\n",
    "semmed_cp_appear_df_kept = semmed_cp_appear_df.loc[semmed_cp_appear_df['concept_pair'].isin(cps_to_keep)]\n",
    "semmed_cp_appear_df_kept['total'] = semmed_cp_appear_df_kept['sem_pmid_cts']+semmed_cp_appear_df_kept['sem_true_cp_ct']\n",
    "\n",
    "# Initialize the matplotlib figure\n",
    "f = mplot.figure(figsize=(15,15))\n",
    "\n",
    "# Plot the specific relationships involved\n",
    "ax = mplot.subplot(1,2,1)\n",
    "#sns.set_color_codes(\"bright\")\n",
    "ax.yaxis.set_visible(True)\n",
    "ax.xaxis.set_visible(True)\n",
    "ax = sns.barplot(x=\"total_stack\", y=\"concept_pair\", data=m2c_relation_cts_no_broken,\n",
    "            label=\"Majority ruled: specific relation\", color=sns.xkcd_rgb['medium green'])\n",
    "\n",
    "# Plot the broad relationships  involved\n",
    "#sns.set_color_codes(\"dark\")\n",
    "sns.barplot(x=\"broad_stack\", y=\"concept_pair\", data=m2c_relation_cts_no_broken,\n",
    "            label=\"Majority ruled: has relation\", color=sns.xkcd_rgb['deep green'])\n",
    "\n",
    "# Plot the unrelated relationships\n",
    "#sns.set_color_codes(\"bright\")\n",
    "sns.barplot(x=\"no_rel\", y=\"concept_pair\", data=m2c_relation_cts_no_broken,\n",
    "            label=\"Majority ruled: no relation\", color=sns.xkcd_rgb['rose pink'])\n",
    "\n",
    "ax.set(xlim=(0, 35), ylabel=\"\",\n",
    "       xlabel=\"Number of PMIDs in Mark2Cure\")\n",
    "\n",
    "# Plot the number of PMIDs in which both concepts were found in that pmid\n",
    "#sns.set_color_codes(\"muted\")\n",
    "ax2 = mplot.subplot(1,2,2)\n",
    "ax2.yaxis.set_visible(False)\n",
    "ax2.xaxis.set_visible(True)\n",
    "ax2 = sns.barplot(x=\"total\", y=\"concept_pair\", data=semmed_cp_appear_df_kept,\n",
    "            label=\"concepts related to other things\", color=sns.xkcd_rgb['sky'])\n",
    "\n",
    "sns.barplot(x=\"sem_true_cp_ct\", y=\"concept_pair\", data=semmed_cp_appear_df_kept,\n",
    "            label=\"concepts related to eachother\", color=sns.xkcd_rgb['cerulean blue'])\n",
    "\n",
    "ax2.set(xlim=(0, 35), ylabel=\"\",\n",
    "       xlabel=\"Number of PMIDs in SemmedDB\")\n",
    "\n",
    "### Add a legend and informative axis label\n",
    "## Create artist proxy\n",
    "mg_patch = mpatches.Patch(color=sns.xkcd_rgb[\"medium green\"], label=\"Majority ruled: specific relation\")\n",
    "dg_patch = mpatches.Patch(color=sns.xkcd_rgb[\"deep green\"], label=\"Majority ruled: has relation\")\n",
    "pink_patch = mpatches.Patch(color=sns.xkcd_rgb[\"rose pink\"], label=\"Majority ruled: no relation\")\n",
    "sky_patch = mpatches.Patch(color=sns.xkcd_rgb[\"sky\"], label=\"Concepts related to other things\")\n",
    "sea_patch = mpatches.Patch(color=sns.xkcd_rgb[\"cerulean blue\"], label=\"Concepts related to eachother\")\n",
    "## Create the legend\n",
    "ax2.legend(ncol=2, loc=\"lower right\", frameon=True, handles=[mg_patch,dg_patch,pink_patch,sky_patch,sea_patch],\n",
    "        labels=[\"Majority ruled: specific relation\",\n",
    "               \"Majority ruled: has relation\",\n",
    "               \"Majority ruled: no relation\",\n",
    "               \"Concepts related to other things\",\n",
    "               \"Concepts related to eachother\"])\n",
    "#sns.despine(left=True, bottom=True)\n",
    "mplot.show()\n",
    "#mplot.savefig(exppath+'relationship_distribution_two.png', bbox_inches='tight', dpi=300)"
   ]
  },
  {
   "cell_type": "markdown",
   "metadata": {},
   "source": [
    "## Verification--Check that concept pairs really do appear in semmedDB at the observed rates"
   ]
  },
  {
   "cell_type": "code",
   "execution_count": 44,
   "metadata": {
    "collapsed": false
   },
   "outputs": [],
   "source": [
    "concept_pairs_to_check = ['351_x_D000309','5443_x_D004931','8086_x_D000309','8086_x_D009461',\n",
    "                          'D003981_x_D012640','5443_x_D004931']\n"
   ]
  },
  {
   "cell_type": "markdown",
   "metadata": {},
   "source": [
    "### '351_x_D000309' (APP gene x Adrenal Insufficiency)"
   ]
  },
  {
   "cell_type": "code",
   "execution_count": 45,
   "metadata": {
    "collapsed": false
   },
   "outputs": [
    {
     "name": "stdout",
     "output_type": "stream",
     "text": [
      "          pmid refid1   refid2 reltype   concept_pair  user_count  \\\n",
      "1074  16528113    351  D000309     g_d  351_x_D000309          15   \n",
      "\n",
      "                                               evtype  relation_count  \\\n",
      "1074  gene mutation is/may be associated with disease               8   \n",
      "\n",
      "      test_completions  true_responses  response_ratio refid1_type refid2_type  \n",
      "1074               0.0              15        0.533333           g           d  \n",
      "     concept_pair  sem_pmid_cts  \\\n",
      "64  351_x_D000309             6   \n",
      "\n",
      "                                        sem_pmid_list sem_tpmid_list  \\\n",
      "64  {12530689, 12548737, 16528113, 18628786, 17880...     {16528113}   \n",
      "\n",
      "    sem_true_cp_ct  \n",
      "64             1.0  \n",
      "     SUBJECT_NAME        PREDICATE                 OBJECT_NAME      PMID  \\\n",
      "1317     APP gene  ASSOCIATED_WITH  Adrenal gland hypofunction  16528113   \n",
      "1318     APP gene  ASSOCIATED_WITH  Adrenal gland hypofunction  16528113   \n",
      "\n",
      "     SUBJECT_CUI SUBJECT_SEMTYPE OBJECT_CUI OBJECT_SEMTYPE  PREDICATION_ID  \\\n",
      "1317    C1364818            gngm   C0001623           dsyn        42303112   \n",
      "1318    C1364818            gngm   C0001623           dsyn        42303112   \n",
      "\n",
      "      SENTENCE_ID  SUBJECT_NOVELTY  OBJECT_NOVELTY SUBJECT_M2C_TYPE  \\\n",
      "1317     73320667                1               1             gene   \n",
      "1318     73320667                1               1             gene   \n",
      "\n",
      "     OBJECT_M2C_TYPE SUBJECT_ID OBJECT_ID  \n",
      "1317         disease        351   D000309  \n",
      "1318         disease        351   D000309  \n"
     ]
    }
   ],
   "source": [
    "print(majority_result.loc[majority_result['concept_pair']=='351_x_D000309'])\n",
    "print(semmed_cp_appear_df.loc[semmed_cp_appear_df['concept_pair']=='351_x_D000309'])\n",
    "\n",
    "print(semmed_merged.loc[(semmed_merged['PMID']==16528113)&(semmed_merged['SUBJECT_ID']=='351')])"
   ]
  },
  {
   "cell_type": "markdown",
   "metadata": {},
   "source": [
    "Conclusions: The AAA gene was mis-assigned the identifier for APP, thus relating the two even\n",
    "though they're not related. Mark2Curators won't be able to correct this because they only see\n",
    "that pubtator marked AAA as a gene, but don't see that it was assigned to the identifier for APP"
   ]
  },
  {
   "cell_type": "markdown",
   "metadata": {},
   "source": [
    "### '5443_x_D004931' (ACTH gene x Esophageal Achalasia)"
   ]
  },
  {
   "cell_type": "code",
   "execution_count": 30,
   "metadata": {
    "collapsed": false
   },
   "outputs": [
    {
     "name": "stdout",
     "output_type": "stream",
     "text": [
      "        pmid refid1   refid2 reltype    concept_pair  user_count  \\\n",
      "31   1325164   5443  D004931     g_d  5443_x_D004931          15   \n",
      "57   1659963   5443  D004931     g_d  5443_x_D004931          15   \n",
      "130  3014426   5443  D004931     g_d  5443_x_D004931          21   \n",
      "\n",
      "                              evtype  relation_count  test_completions  \\\n",
      "31   gene has no relation to disease               8               0.0   \n",
      "57           gene relates to disease              10               1.0   \n",
      "130          gene relates to disease              12               1.0   \n",
      "\n",
      "     true_responses  response_ratio refid1_type refid2_type  \n",
      "31               15        0.533333           g           d  \n",
      "57               14        0.714286           g           d  \n",
      "130              20        0.600000           g           d  \n",
      "     concept_pair  sem_pmid_cts sem_pmid_list sem_tpmid_list  sem_true_cp_ct\n",
      "8  5443_x_D004931             1    {10068747}              0             0.0\n",
      "            SUBJECT_NAME      PREDICATE OBJECT_NAME     PMID SUBJECT_CUI  \\\n",
      "63  Hyperlipoproteinemia  COEXISTS_WITH   Achalasia  1325164    C0020476   \n",
      "64  Hyperlipoproteinemia  COEXISTS_WITH   Achalasia  1325164    C0020476   \n",
      "\n",
      "   SUBJECT_SEMTYPE OBJECT_CUI OBJECT_SEMTYPE  PREDICATION_ID  SENTENCE_ID  \\\n",
      "63            dsyn   C1321756           fndg        19967476     35131378   \n",
      "64            dsyn   C1321756           fndg        19967476     35131378   \n",
      "\n",
      "    SUBJECT_NOVELTY  OBJECT_NOVELTY SUBJECT_M2C_TYPE OBJECT_M2C_TYPE  \\\n",
      "63                1               1          disease         disease   \n",
      "64                1               1          disease         disease   \n",
      "\n",
      "   SUBJECT_ID OBJECT_ID  \n",
      "63    D006951   D004931  \n",
      "64    D006951   C536009  \n"
     ]
    }
   ],
   "source": [
    "print(majority_result.loc[majority_result['concept_pair']=='5443_x_D004931'].head(n=3))\n",
    "print(semmed_cp_appear_df.loc[semmed_cp_appear_df['concept_pair']=='5443_x_D004931'])\n",
    "\n",
    "#print(semmed_merged.loc[(semmed_merged['PMID']==1325164)&(semmed_merged['SUBJECT_ID']=='5443')])\n",
    "print(semmed_merged.loc[semmed_merged['PMID']==1325164])"
   ]
  },
  {
   "cell_type": "markdown",
   "metadata": {},
   "source": [
    "Observations: ACTH has since been removed as a gene entity in Pubtator and SemmedDB also appears not to have it as a gene in these pmids"
   ]
  },
  {
   "cell_type": "markdown",
   "metadata": {},
   "source": [
    "### '8086_x_D000309' (AAAS gene x Adrenal Insufficiency)"
   ]
  },
  {
   "cell_type": "code",
   "execution_count": 45,
   "metadata": {
    "collapsed": false
   },
   "outputs": [
    {
     "name": "stdout",
     "output_type": "stream",
     "text": [
      "          pmid refid1   refid2 reltype    concept_pair  user_count  \\\n",
      "584   11914417   8086  D000309     g_d  8086_x_D000309          22   \n",
      "699   12429595   8086  D000309     g_d  8086_x_D000309          15   \n",
      "740   12530689   8086  D000309     g_d  8086_x_D000309          20   \n",
      "758   12548737   8086  D000309     g_d  8086_x_D000309          15   \n",
      "902   14646395   8086  D000309     g_d  8086_x_D000309          24   \n",
      "1005  16098009   8086  D000309     g_d  8086_x_D000309          15   \n",
      "1099  16609705   8086  D000309     g_d  8086_x_D000309          15   \n",
      "1152  16938764   8086  D000309     g_d  8086_x_D000309          15   \n",
      "1189  16970037   8086  D000309     g_d  8086_x_D000309          25   \n",
      "1327  17880786   8086  D000309     g_d  8086_x_D000309          15   \n",
      "1343  17911039   8086  D000309     g_d  8086_x_D000309          15   \n",
      "1376  18172684   8086  D000309     g_d  8086_x_D000309          16   \n",
      "1391  18175081   8086  D000309     g_d  8086_x_D000309          17   \n",
      "1467  18615337   8086  D000309     g_d  8086_x_D000309          18   \n",
      "1487  18628786   8086  D000309     g_d  8086_x_D000309          15   \n",
      "1517  19078797   8086  D000309     g_d  8086_x_D000309          15   \n",
      "1697  20051279   8086  D000309     g_d  8086_x_D000309          16   \n",
      "1751  20200814   8086  D000309     g_d  8086_x_D000309          15   \n",
      "1829  20499090   8086  D000309     g_d  8086_x_D000309          15   \n",
      "1864  20931227   8086  D000309     g_d  8086_x_D000309          15   \n",
      "1986  21565631   8086  D000309     g_d  8086_x_D000309          15   \n",
      "2025  21656342   8086  D000309     g_d  8086_x_D000309          16   \n",
      "2305  22538409   8086  D000309     g_d  8086_x_D000309          15   \n",
      "2351  22584989   8086  D000309     g_d  8086_x_D000309          15   \n",
      "2441  23056690   8086  D000309     g_d  8086_x_D000309          15   \n",
      "2575  23861206   8086  D000309     g_d  8086_x_D000309          15   \n",
      "2916  25781531   8086  D000309     g_d  8086_x_D000309          15   \n",
      "\n",
      "                                               evtype  relation_count  \\\n",
      "584   gene mutation is/may be associated with disease              19   \n",
      "699   gene mutation is/may be associated with disease              14   \n",
      "740   gene mutation is/may be associated with disease              18   \n",
      "758   gene mutation is/may be associated with disease              13   \n",
      "902   gene mutation is/may be associated with disease              19   \n",
      "1005  gene mutation is/may be associated with disease              13   \n",
      "1099  gene mutation is/may be associated with disease              10   \n",
      "1152  gene mutation is/may be associated with disease              14   \n",
      "1189  gene mutation is/may be associated with disease              20   \n",
      "1327  gene mutation is/may be associated with disease              15   \n",
      "1343  gene mutation is/may be associated with disease              12   \n",
      "1376  gene mutation is/may be associated with disease              16   \n",
      "1391  gene mutation is/may be associated with disease              13   \n",
      "1467  gene mutation is/may be associated with disease              14   \n",
      "1487  gene mutation is/may be associated with disease              13   \n",
      "1517  gene mutation is/may be associated with disease              14   \n",
      "1697  gene mutation is/may be associated with disease              12   \n",
      "1751  gene mutation is/may be associated with disease              14   \n",
      "1829  gene mutation is/may be associated with disease              14   \n",
      "1864  gene mutation is/may be associated with disease              15   \n",
      "1986  gene mutation is/may be associated with disease              11   \n",
      "2025  gene mutation is/may be associated with disease              16   \n",
      "2305  gene mutation is/may be associated with disease              15   \n",
      "2351  gene mutation is/may be associated with disease              10   \n",
      "2441  gene mutation is/may be associated with disease              14   \n",
      "2575  gene mutation is/may be associated with disease              12   \n",
      "2916  gene mutation is/may be associated with disease              14   \n",
      "\n",
      "      test_completions  true_responses  response_ratio refid1_type refid2_type  \n",
      "584                0.0              22        0.863636           g           d  \n",
      "699                0.0              15        0.933333           g           d  \n",
      "740                0.0              20        0.900000           g           d  \n",
      "758                1.0              14        0.928571           g           d  \n",
      "902                1.0              23        0.826087           g           d  \n",
      "1005               1.0              14        0.928571           g           d  \n",
      "1099               0.0              15        0.666667           g           d  \n",
      "1152               0.0              15        0.933333           g           d  \n",
      "1189               1.0              24        0.833333           g           d  \n",
      "1327               0.0              15        1.000000           g           d  \n",
      "1343               1.0              14        0.857143           g           d  \n",
      "1376               0.0              16        1.000000           g           d  \n",
      "1391               0.0              17        0.764706           g           d  \n",
      "1467               0.0              18        0.777778           g           d  \n",
      "1487               0.0              15        0.866667           g           d  \n",
      "1517               0.0              15        0.933333           g           d  \n",
      "1697               1.0              15        0.800000           g           d  \n",
      "1751               0.0              15        0.933333           g           d  \n",
      "1829               0.0              15        0.933333           g           d  \n",
      "1864               0.0              15        1.000000           g           d  \n",
      "1986               1.0              14        0.785714           g           d  \n",
      "2025               0.0              16        1.000000           g           d  \n",
      "2305               0.0              15        1.000000           g           d  \n",
      "2351               0.0              15        0.666667           g           d  \n",
      "2441               0.0              15        0.933333           g           d  \n",
      "2575               0.0              15        0.800000           g           d  \n",
      "2916               0.0              15        0.933333           g           d  \n",
      "     concept_pair  sem_pmid_cts  \\\n",
      "3  8086_x_D000309             6   \n",
      "\n",
      "                                       sem_pmid_list sem_tpmid_list  \\\n",
      "3  {16609705, 18172684, 23056690, 17880786, 16098...     {16609705}   \n",
      "\n",
      "   sem_true_cp_ct  \n",
      "3             1.0  \n"
     ]
    }
   ],
   "source": [
    "print(majority_result.loc[majority_result['concept_pair']=='8086_x_D000309'])\n",
    "print(semmed_cp_appear_df['sem_pmid_list'].loc[semmed_cp_appear_df['concept_pair']=='8086_x_D000309'])\n"
   ]
  },
  {
   "cell_type": "code",
   "execution_count": 34,
   "metadata": {
    "collapsed": false
   },
   "outputs": [
    {
     "name": "stdout",
     "output_type": "stream",
     "text": [
      "                                  SUBJECT_NAME    PREDICATE OBJECT_NAME  \\\n",
      "809   Glucocorticoid deficiency with achalasia   PROCESS_OF      Family   \n",
      "810                                   Mutation   PROCESS_OF    Patients   \n",
      "811   Glucocorticoid deficiency with achalasia   PROCESS_OF      Family   \n",
      "1500                                    Family  LOCATION_OF   AAAS gene   \n",
      "1501                                    Family  LOCATION_OF   AAAS gene   \n",
      "\n",
      "          PMID SUBJECT_CUI SUBJECT_SEMTYPE OBJECT_CUI OBJECT_SEMTYPE  \\\n",
      "809   21565631    C0271742            dsyn   C0015576           humn   \n",
      "810   21565631    C0026882            genf   C0030705           humn   \n",
      "811   21565631    C0271742            dsyn   C0015576           humn   \n",
      "1500  21565631    C0015576            humn   C1422135           aapp   \n",
      "1501  21565631    C0015576            humn   C1422135           aapp   \n",
      "\n",
      "      PREDICATION_ID  SENTENCE_ID  SUBJECT_NOVELTY  OBJECT_NOVELTY  \\\n",
      "809         63098336    112579801                1               1   \n",
      "810         63098462    112579977                1               0   \n",
      "811         63098513    112580111                1               1   \n",
      "1500        63098345    112579801                1               1   \n",
      "1501        63098345    112579801                1               1   \n",
      "\n",
      "     SUBJECT_M2C_TYPE OBJECT_M2C_TYPE SUBJECT_ID OBJECT_ID  \n",
      "809           disease            humn    C536008   D005190  \n",
      "810              genf            humn    D009154   D010361  \n",
      "811           disease            humn    C536008   D005190  \n",
      "1500             humn            gene    D005190      8086  \n",
      "1501             humn            gene    D005190      8086  \n"
     ]
    }
   ],
   "source": [
    "print(semmed_merged.loc[semmed_merged['PMID']==21565631])"
   ]
  },
  {
   "cell_type": "markdown",
   "metadata": {},
   "source": [
    "Gene 8086 appears, but Familial adrenal insufficiency (D000309) does not \"triad of familial adrenal insufficiency, achalasia, and alacrima\" marked as 3 different things in Pubtator but marked as only one thing in SemmedDB. Thus, D000309 is not present in this abstract in SemmedDB"
   ]
  },
  {
   "cell_type": "code",
   "execution_count": 35,
   "metadata": {
    "collapsed": false
   },
   "outputs": [
    {
     "name": "stdout",
     "output_type": "stream",
     "text": [
      "    SUBJECT_NAME      PREDICATE                               OBJECT_NAME  \\\n",
      "385     Alacrima  COEXISTS_WITH                             Rare Diseases   \n",
      "386     Mutation         CAUSES  Glucocorticoid deficiency with achalasia   \n",
      "\n",
      "         PMID SUBJECT_CUI SUBJECT_SEMTYPE OBJECT_CUI OBJECT_SEMTYPE  \\\n",
      "385  16938764    C0344505            cgab   C0678236           dsyn   \n",
      "386  16938764    C0026882            genf   C0271742           dsyn   \n",
      "\n",
      "     PREDICATION_ID  SENTENCE_ID  SUBJECT_NOVELTY  OBJECT_NOVELTY  \\\n",
      "385        45021136     78289651                1               1   \n",
      "386        45021186     78289800                1               1   \n",
      "\n",
      "    SUBJECT_M2C_TYPE OBJECT_M2C_TYPE SUBJECT_ID OBJECT_ID  \n",
      "385          disease         disease    C562827   D035583  \n",
      "386             genf         disease    D009154   C536008  \n"
     ]
    }
   ],
   "source": [
    "print(semmed_merged.loc[semmed_merged['PMID']==16938764].head(n=2))"
   ]
  },
  {
   "cell_type": "markdown",
   "metadata": {},
   "source": [
    "Similar to previous example where \"characterized by alacrima, achalasia, adrenal insufficiency\" marked as 3 things in Pubtator, but only one entity in SemmedDB"
   ]
  },
  {
   "cell_type": "markdown",
   "metadata": {},
   "source": [
    "### '8086_x_D009461' (AAAS gene x neurologic dysfunction)"
   ]
  },
  {
   "cell_type": "code",
   "execution_count": 36,
   "metadata": {
    "collapsed": false
   },
   "outputs": [
    {
     "name": "stdout",
     "output_type": "stream",
     "text": [
      "          pmid refid1   refid2 reltype    concept_pair  user_count  \\\n",
      "596   11914417   8086  D009461     g_d  8086_x_D009461          21   \n",
      "710   12429595   8086  D009461     g_d  8086_x_D009461          15   \n",
      "1165  16938764   8086  D009461     g_d  8086_x_D009461          15   \n",
      "1205  16970037   8086  D009461     g_d  8086_x_D009461          27   \n",
      "1404  18175081   8086  D009461     g_d  8086_x_D009461          17   \n",
      "1593  19172511   8086  D009461     g_d  8086_x_D009461          15   \n",
      "1756  20200814   8086  D009461     g_d  8086_x_D009461          15   \n",
      "1884  20931227   8086  D009461     g_d  8086_x_D009461          15   \n",
      "2198  22000320   8086  D009461     g_d  8086_x_D009461          15   \n",
      "2330  22538409   8086  D009461     g_d  8086_x_D009461          15   \n",
      "2502  23327820   8086  D009461     g_d  8086_x_D009461          15   \n",
      "\n",
      "                                               evtype  relation_count  \\\n",
      "596   gene mutation is/may be associated with disease              19   \n",
      "710   gene mutation is/may be associated with disease              13   \n",
      "1165  gene mutation is/may be associated with disease              13   \n",
      "1205  gene mutation is/may be associated with disease              19   \n",
      "1404  gene mutation is/may be associated with disease               7   \n",
      "1593  gene mutation is/may be associated with disease              14   \n",
      "1756                                       c_2_broken              14   \n",
      "1884  gene mutation is/may be associated with disease              15   \n",
      "2198  gene mutation is/may be associated with disease              13   \n",
      "2330  gene mutation is/may be associated with disease              14   \n",
      "2502  gene mutation is/may be associated with disease              13   \n",
      "\n",
      "      test_completions  true_responses  response_ratio refid1_type refid2_type  \n",
      "596                0.0              21        0.904762           g           d  \n",
      "710                0.0              15        0.866667           g           d  \n",
      "1165               1.0              14        0.928571           g           d  \n",
      "1205               3.0              24        0.791667           g           d  \n",
      "1404               0.0              17        0.411765           g           d  \n",
      "1593               0.0              15        0.933333           g           d  \n",
      "1756               0.0              15        0.933333           g           d  \n",
      "1884               0.0              15        1.000000           g           d  \n",
      "2198               0.0              15        0.866667           g           d  \n",
      "2330               0.0              15        0.933333           g           d  \n",
      "2502               1.0              14        0.928571           g           d  \n",
      "10    {16609705, 20051279}\n",
      "Name: sem_pmid_list, dtype: object\n"
     ]
    }
   ],
   "source": [
    "print(majority_result.loc[majority_result['concept_pair']=='8086_x_D009461'])\n",
    "print(semmed_cp_appear_df['sem_pmid_list'].loc[semmed_cp_appear_df['concept_pair']=='8086_x_D009461'])"
   ]
  },
  {
   "cell_type": "code",
   "execution_count": 39,
   "metadata": {
    "collapsed": false
   },
   "outputs": [
    {
     "name": "stdout",
     "output_type": "stream",
     "text": [
      "                   SUBJECT_NAME      PREDICATE    OBJECT_NAME      PMID  \\\n",
      "188  Adrenal gland hypofunction  COEXISTS_WITH  Rare Diseases  11914417   \n",
      "\n",
      "    SUBJECT_CUI SUBJECT_SEMTYPE OBJECT_CUI OBJECT_SEMTYPE  PREDICATION_ID  \\\n",
      "188    C0001623            dsyn   C0678236           dsyn        31768668   \n",
      "\n",
      "     SENTENCE_ID  SUBJECT_NOVELTY  OBJECT_NOVELTY SUBJECT_M2C_TYPE  \\\n",
      "188     54851079                1               1          disease   \n",
      "\n",
      "    OBJECT_M2C_TYPE SUBJECT_ID OBJECT_ID  \n",
      "188         disease    D000309   D035583  \n"
     ]
    }
   ],
   "source": [
    "print(semmed_merged.loc[semmed_merged['PMID']==11914417])"
   ]
  },
  {
   "cell_type": "code",
   "execution_count": 41,
   "metadata": {
    "collapsed": false
   },
   "outputs": [
    {
     "name": "stdout",
     "output_type": "stream",
     "text": [
      "                   SUBJECT_NAME      PREDICATE    OBJECT_NAME      PMID  \\\n",
      "168  Adrenal gland hypofunction  COEXISTS_WITH  Rare Diseases  11914417   \n",
      "\n",
      "    SUBJECT_CUI SUBJECT_SEMTYPE OBJECT_CUI OBJECT_SEMTYPE  PREDICATION_ID  \\\n",
      "168    C0001623            dsyn   C0678236           dsyn        31768668   \n",
      "\n",
      "     SENTENCE_ID  SUBJECT_NOVELTY  OBJECT_NOVELTY  \n",
      "168     54851079                1               1  \n"
     ]
    }
   ],
   "source": [
    "semmed_imported = read_csv(savepath+'all_completed_anns_semmed_triples.tsv', delimiter='\\t', header=0)\n",
    "semmed_imported.drop(\"Unnamed: 0\",axis=1,inplace=True)\n",
    "print(semmed_imported.loc[semmed_imported['PMID']==11914417])"
   ]
  },
  {
   "cell_type": "markdown",
   "metadata": {},
   "source": [
    "Neither the AAAS gene nor neurological dysfunctions were identified in SemmedDB for this abstract. This is true of the Semmed/Mark2Cure merged table and the original SemmedDB table received from Mike."
   ]
  },
  {
   "cell_type": "markdown",
   "metadata": {},
   "source": [
    "### 'D003981_x_D012640' (Diazoxide x Seizures)"
   ]
  },
  {
   "cell_type": "code",
   "execution_count": 42,
   "metadata": {
    "collapsed": false
   },
   "outputs": [
    {
     "name": "stdout",
     "output_type": "stream",
     "text": [
      "         pmid   refid1   refid2 reltype       concept_pair  user_count  \\\n",
      "604  11916319  D003981  D012640     c_d  D003981_x_D012640          15   \n",
      "\n",
      "                          evtype  relation_count  test_completions  \\\n",
      "604  drug (may) cause(s) disease               6               1.0   \n",
      "\n",
      "     true_responses  response_ratio refid1_type refid2_type  \n",
      "604              14        0.428571           c           d  \n",
      "41    {11916319}\n",
      "Name: sem_pmid_list, dtype: object\n"
     ]
    }
   ],
   "source": [
    "print(majority_result.loc[majority_result['concept_pair']=='D003981_x_D012640'])\n",
    "print(semmed_cp_appear_df['sem_pmid_list'].loc[semmed_cp_appear_df['concept_pair']=='D003981_x_D012640'])"
   ]
  },
  {
   "cell_type": "code",
   "execution_count": 43,
   "metadata": {
    "collapsed": false
   },
   "outputs": [
    {
     "name": "stdout",
     "output_type": "stream",
     "text": [
      "              SUBJECT_NAME        PREDICATE   OBJECT_NAME      PMID  \\\n",
      "248               Symptoms       PROCESS_OF      Patients  11916319   \n",
      "249  Therapeutic procedure             USES     Diazoxide  11916319   \n",
      "250           hypoglycemia       PROCESS_OF        Infant  11916319   \n",
      "251                  Water           CAUSES      Seizures  11916319   \n",
      "252     Phosphomannomutase  ASSOCIATED_WITH  hypoglycemia  11916319   \n",
      "253           hypoglycemia       PROCESS_OF      Patients  11916319   \n",
      "254     Phosphomannomutase          PART_OF      Patients  11916319   \n",
      "\n",
      "    SUBJECT_CUI SUBJECT_SEMTYPE OBJECT_CUI OBJECT_SEMTYPE  PREDICATION_ID  \\\n",
      "248    C1457887            sosy   C0030705           humn        37046802   \n",
      "249    C0087111            topp   C0012022           phsu        37046855   \n",
      "250    C0020615            dsyn   C0021270           humn        37046862   \n",
      "251    C0043047            inch   C0036572           sosy        37046902   \n",
      "252    C0070886            aapp   C0020615           dsyn        37047128   \n",
      "253    C0020615            dsyn   C0030705           humn        37047130   \n",
      "254    C0070886            aapp   C0030705           humn        37047141   \n",
      "\n",
      "     SENTENCE_ID  SUBJECT_NOVELTY  OBJECT_NOVELTY SUBJECT_M2C_TYPE  \\\n",
      "248     64010595                0               0          disease   \n",
      "249     64010723                0               1        treatment   \n",
      "250     64010723                1               1          disease   \n",
      "251     64010814                1               1        treatment   \n",
      "252     64011108                1               1             gene   \n",
      "253     64011108                1               0          disease   \n",
      "254     64011108                1               0             gene   \n",
      "\n",
      "    OBJECT_M2C_TYPE SUBJECT_ID OBJECT_ID  \n",
      "248            humn    D009461   D010361  \n",
      "249       treatment    D013812   D003981  \n",
      "250            humn    D007003   D007223  \n",
      "251         disease    D014867   D012640  \n",
      "252         disease    C052799   D007003  \n",
      "253            humn    D007003   D010361  \n",
      "254            humn    C052799   D010361  \n"
     ]
    }
   ],
   "source": [
    "print(semmed_merged.loc[semmed_merged['PMID']==11916319])"
   ]
  },
  {
   "cell_type": "markdown",
   "metadata": {},
   "source": [
    "Both Diazoxide and Seizures were picked up by SemmedDB in this case, but they are not paired as they occur in different sentences so the relationship between the two is not annotated in this abstract"
   ]
  },
  {
   "cell_type": "markdown",
   "metadata": {},
   "source": [
    "### '5443_x_D004931' (ACTH gene x Esophageal Achalasia)"
   ]
  },
  {
   "cell_type": "code",
   "execution_count": 46,
   "metadata": {
    "collapsed": false
   },
   "outputs": [
    {
     "name": "stdout",
     "output_type": "stream",
     "text": [
      "          pmid refid1   refid2 reltype    concept_pair  user_count  \\\n",
      "31     1325164   5443  D004931     g_d  5443_x_D004931          15   \n",
      "57     1659963   5443  D004931     g_d  5443_x_D004931          15   \n",
      "130    3014426   5443  D004931     g_d  5443_x_D004931          21   \n",
      "186    4075537   5443  D004931     g_d  5443_x_D004931          15   \n",
      "224    7945119   5443  D004931     g_d  5443_x_D004931          36   \n",
      "353   10068747   5443  D004931     g_d  5443_x_D004931          15   \n",
      "476   11084394   5443  D004931     g_d  5443_x_D004931          15   \n",
      "515   11353896   5443  D004931     g_d  5443_x_D004931          28   \n",
      "654   12150219   5443  D004931     g_d  5443_x_D004931          15   \n",
      "731   12530689   5443  D004931     g_d  5443_x_D004931          15   \n",
      "845   12793312   5443  D004931     g_d  5443_x_D004931          15   \n",
      "1729  20200814   5443  D004931     g_d  5443_x_D004931          15   \n",
      "2696  24139699   5443  D004931     g_d  5443_x_D004931          15   \n",
      "\n",
      "                                               evtype  relation_count  \\\n",
      "31                    gene has no relation to disease               8   \n",
      "57                            gene relates to disease              10   \n",
      "130                           gene relates to disease              12   \n",
      "186                           gene relates to disease               8   \n",
      "224                           gene relates to disease              13   \n",
      "353                                        c_2_broken               7   \n",
      "476   gene mutation is/may be associated with disease               9   \n",
      "515                           gene relates to disease              13   \n",
      "654                           gene relates to disease               8   \n",
      "731                           gene relates to disease               7   \n",
      "845                           gene relates to disease               8   \n",
      "1729                  gene has no relation to disease               7   \n",
      "2696                          gene relates to disease               7   \n",
      "\n",
      "      test_completions  true_responses  response_ratio refid1_type refid2_type  \n",
      "31                 0.0              15        0.533333           g           d  \n",
      "57                 1.0              14        0.714286           g           d  \n",
      "130                1.0              20        0.600000           g           d  \n",
      "186                0.0              15        0.533333           g           d  \n",
      "224                2.0              34        0.382353           g           d  \n",
      "353                0.0              15        0.466667           g           d  \n",
      "476                0.0              15        0.600000           g           d  \n",
      "515                0.0              28        0.464286           g           d  \n",
      "654                0.0              15        0.533333           g           d  \n",
      "731                0.0              15        0.466667           g           d  \n",
      "845                0.0              15        0.533333           g           d  \n",
      "1729               0.0              15        0.466667           g           d  \n",
      "2696               0.0              15        0.466667           g           d  \n",
      "8    {10068747}\n",
      "Name: sem_pmid_list, dtype: object\n"
     ]
    }
   ],
   "source": [
    "print(majority_result.loc[majority_result['concept_pair']=='5443_x_D004931'])\n",
    "print(semmed_cp_appear_df['sem_pmid_list'].loc[semmed_cp_appear_df['concept_pair']=='5443_x_D004931'])"
   ]
  },
  {
   "cell_type": "code",
   "execution_count": 47,
   "metadata": {
    "collapsed": false
   },
   "outputs": [
    {
     "name": "stdout",
     "output_type": "stream",
     "text": [
      "                                  SUBJECT_NAME   PREDICATE  \\\n",
      "132   Glucocorticoid deficiency with achalasia  PROCESS_OF   \n",
      "133                      Autonomic dysfunction  PROCESS_OF   \n",
      "134                                  endoscopy   DIAGNOSES   \n",
      "135                                  endoscopy   DIAGNOSES   \n",
      "136                                 Esophagram   DIAGNOSES   \n",
      "137                                 Esophagram   DIAGNOSES   \n",
      "138                                  Diagnosis        USES   \n",
      "139                                  Achalasia  PROCESS_OF   \n",
      "140                                  Achalasia  PROCESS_OF   \n",
      "141   Glucocorticoid deficiency with achalasia  PROCESS_OF   \n",
      "1417                     Stimulation procedure        USES   \n",
      "1418                     Stimulation procedure        USES   \n",
      "\n",
      "               OBJECT_NAME      PMID SUBJECT_CUI SUBJECT_SEMTYPE OBJECT_CUI  \\\n",
      "132               Patients  10068747    C0271742            dsyn   C0030705   \n",
      "133               Patients  10068747    C0741307            patf   C0030705   \n",
      "134              Achalasia  10068747    C0014245            diap   C1321756   \n",
      "135              Achalasia  10068747    C0014245            diap   C1321756   \n",
      "136              Achalasia  10068747    C1318509            diap   C1321756   \n",
      "137              Achalasia  10068747    C1318509            diap   C1321756   \n",
      "138   Esophageal manometry  10068747    C0011900            hlca   C0199873   \n",
      "139                  Child  10068747    C1321756            fndg   C0008059   \n",
      "140                  Child  10068747    C1321756            fndg   C0008059   \n",
      "141             Physicians  10068747    C0271742            dsyn   C0031831   \n",
      "1417         Corticotropin  10068747    C1292856            topp   C0001655   \n",
      "1418             POMC gene  10068747    C1292856            topp   C1337111   \n",
      "\n",
      "     OBJECT_SEMTYPE  PREDICATION_ID  SENTENCE_ID  SUBJECT_NOVELTY  \\\n",
      "132            humn        27703978     47947973                1   \n",
      "133            humn        27703985     47947973                1   \n",
      "134            fndg        27704375     47948652                1   \n",
      "135            fndg        27704375     47948652                1   \n",
      "136            fndg        27704388     47948652                1   \n",
      "137            fndg        27704388     47948652                1   \n",
      "138            diap        27704400     47948652                1   \n",
      "139            humn        27704531     47948967                1   \n",
      "140            humn        27704531     47948967                1   \n",
      "141            humn        27704541     47948967                1   \n",
      "1417           aapp        27704471     47948836                1   \n",
      "1418           aapp        27704471     47948836                1   \n",
      "\n",
      "      OBJECT_NOVELTY SUBJECT_M2C_TYPE OBJECT_M2C_TYPE SUBJECT_ID OBJECT_ID  \n",
      "132                0          disease            humn    C536008   D010361  \n",
      "133                0          disease            humn    D020361   D010361  \n",
      "134                1             diap         disease    D004724   D004931  \n",
      "135                1             diap         disease    D004724   C536009  \n",
      "136                1             diap         disease    D004941   D004931  \n",
      "137                1             diap         disease    D004941   C536009  \n",
      "138                1             hlca            diap    D003933   D004941  \n",
      "139                1          disease            humn    D004931   D002648  \n",
      "140                1          disease            humn    C536009   D002648  \n",
      "141                1          disease            humn    C536008   D010820  \n",
      "1417               1        treatment            gene   notfound   D000324  \n",
      "1418               1        treatment            gene   notfound      5443  \n"
     ]
    }
   ],
   "source": [
    "print(semmed_merged.loc[semmed_merged['PMID']==10068747])"
   ]
  },
  {
   "cell_type": "markdown",
   "metadata": {},
   "source": [
    "In Mark2Cure the relationship between ACTH gene and esophageal achalasia is not specified (because the specific options are not appropriate).  In SemmedDB, a treatment uses this gene/gene product. Unfortunately, the relationshp between the treatment and the disease is not available in SemmedDB, otherwise it could clarify the relationship between the two concepts in Mark2Cure."
   ]
  },
  {
   "cell_type": "markdown",
   "metadata": {},
   "source": [
    "### '5443_x_C536008' (ACTH and Triple A syndrome)"
   ]
  },
  {
   "cell_type": "code",
   "execution_count": 48,
   "metadata": {
    "collapsed": false
   },
   "outputs": [
    {
     "name": "stdout",
     "output_type": "stream",
     "text": [
      "          pmid refid1   refid2 reltype    concept_pair  user_count  \\\n",
      "21     1325164   5443  C536008     g_d  5443_x_C536008          15   \n",
      "48     1659963   5443  C536008     g_d  5443_x_C536008          15   \n",
      "127    3014426   5443  C536008     g_d  5443_x_C536008          27   \n",
      "216    7945119   5443  C536008     g_d  5443_x_C536008          28   \n",
      "245    8253654   5443  C536008     g_d  5443_x_C536008          15   \n",
      "332   10068747   5443  C536008     g_d  5443_x_C536008          15   \n",
      "463   11084394   5443  C536008     g_d  5443_x_C536008          15   \n",
      "507   11353896   5443  C536008     g_d  5443_x_C536008          29   \n",
      "647   12150219   5443  C536008     g_d  5443_x_C536008          15   \n",
      "716   12530689   5443  C536008     g_d  5443_x_C536008          20   \n",
      "833   12793312   5443  C536008     g_d  5443_x_C536008          17   \n",
      "1123  16937455   5443  C536008     g_d  5443_x_C536008          15   \n",
      "1318  17880786   5443  C536008     g_d  5443_x_C536008          15   \n",
      "1673  20051279   5443  C536008     g_d  5443_x_C536008          15   \n",
      "1810  20499090   5443  C536008     g_d  5443_x_C536008          15   \n",
      "2680  24139699   5443  C536008     g_d  5443_x_C536008          16   \n",
      "\n",
      "                                               evtype  relation_count  \\\n",
      "21                            gene relates to disease               6   \n",
      "48                            gene relates to disease               9   \n",
      "127                           gene relates to disease              14   \n",
      "216                           gene relates to disease              18   \n",
      "245                           gene relates to disease               6   \n",
      "332                   gene has no relation to disease               6   \n",
      "463   gene mutation is/may be associated with disease               5   \n",
      "507   gene mutation is/may be associated with disease              15   \n",
      "647                           gene relates to disease               6   \n",
      "716                           gene relates to disease              13   \n",
      "833                           gene relates to disease               9   \n",
      "1123                                       c_2_broken               4   \n",
      "1318                          gene relates to disease               5   \n",
      "1673                          gene relates to disease               5   \n",
      "1810                          gene relates to disease               6   \n",
      "2680                          gene relates to disease              13   \n",
      "\n",
      "      test_completions  true_responses  response_ratio refid1_type refid2_type  \n",
      "21                 0.0              15        0.400000           g           d  \n",
      "48                 1.0              14        0.642857           g           d  \n",
      "127                2.0              25        0.560000           g           d  \n",
      "216                3.0              25        0.720000           g           d  \n",
      "245                0.0              15        0.400000           g           d  \n",
      "332                0.0              15        0.400000           g           d  \n",
      "463                0.0              15        0.333333           g           d  \n",
      "507                0.0              29        0.517241           g           d  \n",
      "647                0.0              15        0.400000           g           d  \n",
      "716                0.0              20        0.650000           g           d  \n",
      "833                1.0              16        0.562500           g           d  \n",
      "1123               0.0              15        0.266667           g           d  \n",
      "1318               0.0              15        0.333333           g           d  \n",
      "1673               0.0              15        0.333333           g           d  \n",
      "1810               0.0              15        0.400000           g           d  \n",
      "2680               0.0              16        0.812500           g           d  \n",
      "6    {10068747}\n",
      "Name: sem_pmid_list, dtype: object\n"
     ]
    }
   ],
   "source": [
    "print(majority_result.loc[majority_result['concept_pair']=='5443_x_C536008'])\n",
    "print(semmed_cp_appear_df['sem_pmid_list'].loc[semmed_cp_appear_df['concept_pair']=='5443_x_C536008'])"
   ]
  },
  {
   "cell_type": "code",
   "execution_count": null,
   "metadata": {
    "collapsed": true
   },
   "outputs": [],
   "source": []
  }
 ],
 "metadata": {
  "kernelspec": {
   "display_name": "Python 3",
   "language": "python",
   "name": "python3"
  },
  "language_info": {
   "codemirror_mode": {
    "name": "ipython",
    "version": 3
   },
   "file_extension": ".py",
   "mimetype": "text/x-python",
   "name": "python",
   "nbconvert_exporter": "python",
   "pygments_lexer": "ipython3",
   "version": "3.4.5"
  }
 },
 "nbformat": 4,
 "nbformat_minor": 1
}
