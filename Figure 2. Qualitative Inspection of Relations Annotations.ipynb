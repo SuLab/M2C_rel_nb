{
 "cells": [
  {
   "cell_type": "markdown",
   "metadata": {},
   "source": [
    "# Qualitative Inspection for Missing Relationship types"
   ]
  },
  {
   "cell_type": "markdown",
   "metadata": {},
   "source": [
    "This notebook covers the visualization of a sample of qualitatively-inspected non-specific relationship annotations"
   ]
  },
  {
   "cell_type": "markdown",
   "metadata": {
    "collapsed": true
   },
   "source": [
    "## Import modules and load data"
   ]
  },
  {
   "cell_type": "code",
   "execution_count": 1,
   "metadata": {
    "collapsed": false
   },
   "outputs": [],
   "source": [
    "import pandas\n",
    "import matplotlib\n",
    "from matplotlib import pyplot as mplot\n",
    "from pandas import read_csv"
   ]
  },
  {
   "cell_type": "markdown",
   "metadata": {},
   "source": [
    "Import the qualitatively inspected sample relationship annotations and complete annotations"
   ]
  },
  {
   "cell_type": "code",
   "execution_count": 20,
   "metadata": {
    "collapsed": false
   },
   "outputs": [
    {
     "name": "stdout",
     "output_type": "stream",
     "text": [
      "concept_pair           object\n",
      "pmid                    int64\n",
      "reltype                object\n",
      "counts                  int64\n",
      "rand value              int64\n",
      "pair description       object\n",
      "actual relationship    object\n",
      "Type                   object\n",
      "Notes                  object\n",
      "Note Type              object\n",
      "meta_path              object\n",
      "directionality         object\n",
      "meta_path_length        int64\n",
      "dtype: object\n"
     ]
    }
   ],
   "source": [
    "savepath = 'data/'\n",
    "exppath = 'results/'\n",
    "QCdata = 'relates_QCd.txt'\n",
    "esample = read_csv(savepath+'QCd samples/'+QCdata, sep='\\t', header=0).fillna('none')\n",
    "esample.drop(\"Unnamed: 0\",axis=1,inplace=True)\n",
    "all_completed_anns = read_csv(exppath+'all_completed_anns.txt', delimiter='\\t', header=0)\n",
    "all_completed_anns.drop(\"Unnamed: 0\",axis=1,inplace=True)\n",
    "print(esample.dtypes)"
   ]
  },
  {
   "cell_type": "markdown",
   "metadata": {},
   "source": [
    "Import the missing relationship types and broad categorical mappings"
   ]
  },
  {
   "cell_type": "code",
   "execution_count": 21,
   "metadata": {
    "collapsed": false,
    "scrolled": true
   },
   "outputs": [],
   "source": [
    "broad_df = read_csv(savepath+'QCd samples/'+'missing_relation_mappings.txt', sep='\\t', header=0)\n",
    "broad_dict = broad_df.set_index('ID')['Broader class'].to_dict()"
   ]
  },
  {
   "cell_type": "markdown",
   "metadata": {},
   "source": [
    "### Clean up the imported data for visualization"
   ]
  },
  {
   "cell_type": "markdown",
   "metadata": {},
   "source": [
    "Add back details on the concepts from the complete annotations"
   ]
  },
  {
   "cell_type": "code",
   "execution_count": 22,
   "metadata": {
    "collapsed": false
   },
   "outputs": [],
   "source": [
    "cpmid_list = all_completed_anns.groupby(['concept_pair','pmid','refid1','refid2','refid1_type','refid2_type']).size().reset_index(name='user_counts')\n",
    "esample_df = esample.merge(cpmid_list,on=('concept_pair','pmid'),how='left')\n",
    "esample_df['broad_cats'] = esample['Type']\n",
    "esample_df.replace({'broad_cats':broad_dict}, inplace=True)"
   ]
  },
  {
   "cell_type": "markdown",
   "metadata": {},
   "source": [
    "Compare the annotations based on number of response types vs counts"
   ]
  },
  {
   "cell_type": "code",
   "execution_count": 23,
   "metadata": {
    "collapsed": false
   },
   "outputs": [
    {
     "name": "stdout",
     "output_type": "stream",
     "text": [
      "   counts  sample_size  type_variety  broad_counts\n",
      "0       1           25             9             8\n",
      "1       2           25             9             8\n"
     ]
    }
   ],
   "source": [
    "responses_vs_counts = esample_df.groupby(['counts','Type','broad_cats']).size().reset_index(name='type_counts')\n",
    "type_variety = responses_vs_counts.groupby('counts').size().reset_index(name='type_variety')\n",
    "sample_sizes = esample_df.groupby(['counts']).size().reset_index(name='sample_size')\n",
    "types_per_cat_count = responses_vs_counts.groupby(['counts','broad_cats']).size().reset_index(name='types_per_cat')\n",
    "broad_counts = types_per_cat_count.groupby('counts').size().reset_index(name='broad_counts')\n",
    "general_summary = sample_sizes.merge(type_variety.merge(broad_counts,on='counts',how='left'),on='counts',how='left')\n",
    "print(general_summary.head(n=2))"
   ]
  },
  {
   "cell_type": "markdown",
   "metadata": {},
   "source": [
    "## Visualize the results"
   ]
  },
  {
   "cell_type": "code",
   "execution_count": 24,
   "metadata": {
    "collapsed": false
   },
   "outputs": [
    {
     "data": {
      "image/png": "[encoded data removed]",
      "text/plain": [
       "<matplotlib.figure.Figure at 0x14615f98>"
      ]
     },
     "metadata": {},
     "output_type": "display_data"
    }
   ],
   "source": [
    "mplot.ylim((0, 30))\n",
    "mplot.plot(general_summary['counts'], general_summary['sample_size'], color='grey', label='sample size')\n",
    "mplot.plot(general_summary['counts'], general_summary['type_variety'], color='magenta', label='specific types')\n",
    "mplot.plot(general_summary['counts'], general_summary['broad_counts'], color='green', label='broad cats')\n",
    "mplot.xlabel('Voting Threshold (K) exact')\n",
    "mplot.ylabel('Number of Relation Types')\n",
    "mplot.legend()\n",
    "mplot.title('Number of relationship types at different Voting Thresholds (K)')\n",
    "mplot.show()"
   ]
  },
  {
   "cell_type": "markdown",
   "metadata": {},
   "source": [
    "#### Create an interactive visual of the qualitatively inspected non-specific relationship annotations for easier interpretation"
   ]
  },
  {
   "cell_type": "code",
   "execution_count": 31,
   "metadata": {
    "collapsed": false
   },
   "outputs": [
    {
     "name": "stderr",
     "output_type": "stream",
     "text": [
      "INFO:bokeh.core.state:Session output file 'results/has_relation_broad_categories.html' already exists, will be overwritten.\n",
      "C:\\Users\\ginger\\Anaconda3\\envs\\py3bioc\\lib\\site-packages\\bokeh\\core\\json_encoder.py:75: FutureWarning: Conversion of the second argument of issubdtype from `float` to `np.floating` is deprecated. In future, it will be treated as `np.float64 == np.dtype(float).type`.\n",
      "  elif np.issubdtype(type(obj), np.float):\n"
     ]
    }
   ],
   "source": [
    "## bokeh categorical heatmap of results\n",
    "from bokeh.plotting import figure, show, output_file, ColumnDataSource\n",
    "from bokeh.models import HoverTool\n",
    "from bokeh.palettes import Category20b,Category20,Greys9\n",
    "\n",
    "esample_viz = esample_df[['counts','Type','broad_cats','refid1','refid2','reltype','actual relationship']].copy()\n",
    "#broad_cm = m2c_txt_pandas_import(exppath+'broad_cat_color_map')\n",
    "colormap = {\"text explicitly mentions investigating relationship, but not an actual relationship\"\t:Category20[20][2],\n",
    "            \"text explicitly mentions an association/relationship, but is not more specific\":Category20[20][3],\n",
    "            \"concepts are vaguely related by shared biochemical pathway/mechanism/markers, but otherwise unrelated\":Category20b[20][0],\n",
    "            \"gene mutation causes disease misdiagnosed as mentioned\":Category20b[20][1],\n",
    "            \"chemical failed to treat a disease\":Category20b[20][2],\n",
    "            \"mentioned chemical does not affect/interfere with the treatment of the mentioned disease\":Category20b[20][3],\n",
    "            \"chemical is altered in the disease\":Category20b[20][4],\n",
    "            \"disease conveys resistance to drug\":Category20b[20][5],\n",
    "            \"gene resistance associated with disease\":Category20b[20][6],\n",
    "            \"gene resistance is the disease/symptom\":Category20b[20][7],\n",
    "            \"chem indirectly associated with disease\":Category20b[20][8],\n",
    "            \"gene mutation indirectly related to disease class\":Category20b[20][9],\n",
    "            \"chem is a pro-drug/precursor for treating disease\":Category20b[20][10],\n",
    "            \"chemical treats overarching disease of mention\":Category20b[20][11],\n",
    "            \"Case/clinical study shows partial or inconsistent relationship (eg- related in x out of y cases, not in m out of y cases)\":Category20b[20][12],\n",
    "            \"has relationship\":Category20b[20][13],\n",
    "            \"The concept does not appear in the text\":Category20b[20][14],\n",
    "            \"The concept does appear in the text, but is wrong/misidentified/incomplete/out-of-context\":Category20b[20][15],\n",
    "            \"gene is a marker used for inspecting samples\":Category20b[20][16],\n",
    "            \"chemical is reagent for diagnostic test\":Category20b[20][17],\n",
    "            \"chemical is a reagent for testing gene associated with disease\":Category20b[20][18],\n",
    "            \"chemical is a byproduct of testing something associated with disease\":Category20b[20][19]}\n",
    "\n",
    "esample_viz['colors']=esample_df['broad_cats']\n",
    "esample_viz['colors'].replace(colormap, inplace=True)\n",
    "\n",
    "## Account for uneven sample numbers\n",
    "k=1\n",
    "for_heat_map = pandas.DataFrame(columns=('counts','Type','broad_cats','refid1',\n",
    "                                         'refid2','reltype','colors','dummy','sample_no'))\n",
    "\n",
    "while k<19:\n",
    "    try:\n",
    "        tmpdf = esample_viz.loc[esample_viz['counts']==k].copy()\n",
    "        avail_entries= len(tmpdf)\n",
    "        tmpdf.sort_values(['colors'],ascending=True,inplace=True)\n",
    "        tmpdf['dummy']='no'\n",
    "        tmpdf.reset_index(drop=True,inplace=True)\n",
    "        tmpdf['sample_no']=tmpdf.index.copy()\n",
    "        if avail_entries==25:\n",
    "            for_heat_map = pandas.concat((for_heat_map,tmpdf))       \n",
    "        else:\n",
    "            dummydata = []\n",
    "            while avail_entries <= 24:\n",
    "                tmpdict = {'counts':k,'Type':'dummy','broad_cats':'dummy','refid1':'dummy','refid2':'dummy',\n",
    "                           'dummy':'yes'+str(avail_entries),'colors':Greys9[8],'sample_no':avail_entries}\n",
    "                dummydata.append(tmpdict)\n",
    "                avail_entries = avail_entries+1\n",
    "            dummydf = pandas.DataFrame(dummydata)\n",
    "            for_heat_map = pandas.concat((for_heat_map,tmpdf,dummydf))\n",
    "        k=k+1\n",
    "    except:\n",
    "        print('no no-relations for that k')\n",
    "        \n",
    "source = ColumnDataSource(for_heat_map)\n",
    "\n",
    "TOOLS = \"hover,save,pan,box_zoom,reset,wheel_zoom\"\n",
    "\n",
    "p = figure(title = \"types of relations marked as has relationship\", tools=[\"pan,wheel_zoom,box_zoom,reset\"])\n",
    "p.xaxis.axis_label = 'sample #'\n",
    "p.yaxis.axis_label = 'Total Users Marked'\n",
    "\n",
    "p.rect(source=source, x='sample_no', y='counts', width=1, height=1,\n",
    "       fill_color='colors',\n",
    "       line_color=None)\n",
    "\n",
    "p.add_tools(HoverTool(tooltips=[    \n",
    "    (\"count\", \"@counts\"),\n",
    "    (\"sample #\", \"@sample_no\"),\n",
    "    (\"broad_cat\", \"@broad_cats\"),\n",
    "    (\"concept 1\",\"@refid1\"),\n",
    "    (\"concept 2\", \"@refid2\"),\n",
    "    (\"reltype\",\"@reltype\"),\n",
    "    (\"colors\",\"@colors\"),\n",
    "    (\"relationship\",\"@{actual relationship}\")\n",
    "    ]))\n",
    "\n",
    "output_file(exppath+\"has_relation_broad_categories.html\", title=\"categories_of_has_relation\")\n",
    "\n",
    "show(p)"
   ]
  },
  {
   "cell_type": "code",
   "execution_count": 50,
   "metadata": {
    "collapsed": false
   },
   "outputs": [
    {
     "name": "stderr",
     "output_type": "stream",
     "text": [
      "C:\\Users\\ginger\\Anaconda3\\envs\\py3bioc\\lib\\site-packages\\pandas\\core\\generic.py:3416: UserWarning: the \"axis\" argument is deprecated and will be removed inv0.13; this argument has no effect\n",
      "  warn('the \"axis\" argument is deprecated and will be removed in'\n",
      "INFO:bokeh.core.state:Session output file 'results/has_relation_broad_categories_legend.html' already exists, will be overwritten.\n",
      "C:\\Users\\ginger\\Anaconda3\\envs\\py3bioc\\lib\\site-packages\\bokeh\\core\\json_encoder.py:75: FutureWarning: Conversion of the second argument of issubdtype from `float` to `np.floating` is deprecated. In future, it will be treated as `np.float64 == np.dtype(float).type`.\n",
      "  elif np.issubdtype(type(obj), np.float):\n"
     ]
    }
   ],
   "source": [
    "### The legend is too big to automatically generate and include as part of the plot, so we'll generate it separately\n",
    "### Additionally, the figure is interactive, rendering the legend unnecessary except for print format\n",
    "\n",
    "### convert Broad Categories to shorter text for use in legend\n",
    "legend_dict = {Category20[20][2]:\"relation investigation in text\",\n",
    "            Category20[20][3]:\"nonspecific relation in text\",\n",
    "            Category20b[20][0]:\"concepts vaguely related\",\n",
    "            Category20b[20][1]:\"relation with misdiagnosis\",\n",
    "            Category20b[20][2]:\"drug failed\",\n",
    "            Category20b[20][3]:\"drug doesn't interfere in treating\",\n",
    "            Category20b[20][4]:\"drug is altered in disease\",\n",
    "            Category20b[20][5]:\"diseases conveys resistance to drug\",\n",
    "            Category20b[20][6]:\"gene resistance association\",\n",
    "            Category20b[20][7]:\"gene resistance is disease\",\n",
    "            Category20b[20][8]:\"chem indirect relation to disease\",\n",
    "            Category20b[20][9]:\"mutation indirect relation\",\n",
    "            Category20b[20][10]:\"chem is prodrug/precursor to treatment\",\n",
    "            Category20b[20][11]:\"drug treats overarching disease\",\n",
    "            Category20b[20][12]:\"partial relationship\",\n",
    "            Category20b[20][13]:\"has available specific relationship\",\n",
    "            Category20b[20][14]:\"concept missing\",\n",
    "            Category20b[20][15]:\"concept wrong\",\n",
    "            Category20b[20][16]:\"gene is marker\",\n",
    "            Category20b[20][17]:\"drug is diagnostic reagent\",\n",
    "            Category20b[20][18]:\"drug test for gene linked to disease\",\n",
    "            Category20b[20][19]:\"chem is byproduct of testing for disease\"}\n",
    "\n",
    "\n",
    "### Add legend column\n",
    "for_heat_map['legend_cat'] = for_heat_map['colors']\n",
    "for_heat_map['legend_cat'].replace(legend_dict, axis=1, inplace=True)\n",
    "       \n",
    "source = ColumnDataSource(for_heat_map)\n",
    "\n",
    "TOOLS = \"hover,save,pan,box_zoom,reset,wheel_zoom\"\n",
    "\n",
    "p = figure(title = \"types of relations marked as has relationship\", tools=[\"pan,wheel_zoom,box_zoom,reset\"])\n",
    "p.xaxis.axis_label = 'sample #'\n",
    "p.yaxis.axis_label = 'Total Users Marked'\n",
    "\n",
    "p.rect(source=source, x='sample_no', y='counts', width=1, height=1,legend='legend_cat',\n",
    "       fill_color='colors',\n",
    "       line_color=None)\n",
    "\n",
    "#p.legend.orientation = \"horizontal\"\n",
    "p.legend.location = \"top_right\"\n",
    "\n",
    "output_file(exppath+\"has_relation_broad_categories_legend.html\", title=\"has_relation_legend\")\n",
    "\n",
    "show(p)"
   ]
  },
  {
   "cell_type": "markdown",
   "metadata": {},
   "source": [
    "### Compare response types vs concepts to see concept variety compared to relationship variety"
   ]
  },
  {
   "cell_type": "code",
   "execution_count": 8,
   "metadata": {
    "collapsed": false
   },
   "outputs": [
    {
     "name": "stdout",
     "output_type": "stream",
     "text": [
      "   counts                                         broad_cats  cp1s_per_cat  \\\n",
      "0       1  The concept does appear in the text, but is wr...             4   \n",
      "1       1                                   has relationship             3   \n",
      "\n",
      "   cp2s_per_cat  \n",
      "0             4  \n",
      "1             6  \n"
     ]
    }
   ],
   "source": [
    "cp1_no_dups_per_k = esample_df.groupby(['counts','refid1','broad_cats']).size().reset_index(name='cp1_counts')\n",
    "cp1_variety = cp1_no_dups_per_k.groupby(['counts','refid1']).size().reset_index(name='cats_per_cp1')\n",
    "cp1_variety2 = cp1_no_dups_per_k.groupby(['counts','broad_cats']).size().reset_index(name='cp1s_per_cat')\n",
    "cp1_variety2.sort_values(['counts','cp1s_per_cat'], ascending=[True,False],inplace=True)\n",
    "\n",
    "cp2_no_dups_per_k = esample_df.groupby(['counts','refid2','broad_cats']).size().reset_index(name='cp2_counts')\n",
    "cp2_variety = cp2_no_dups_per_k.groupby(['counts','refid2']).size().reset_index(name='cats_per_cp2')\n",
    "cp2_variety2 = cp2_no_dups_per_k.groupby(['counts','broad_cats']).size().reset_index(name='cp2s_per_cat')\n",
    "cp2_variety2.sort_values(['counts','cp2s_per_cat'], ascending=[True,False],inplace=True)\n",
    "\n",
    "concept_variety = cp1_variety2.merge(cp2_variety2, on=['counts','broad_cats'],how='outer').fillna(0)\n",
    "print(concept_variety.head(n=2))"
   ]
  },
  {
   "cell_type": "code",
   "execution_count": null,
   "metadata": {
    "collapsed": true
   },
   "outputs": [],
   "source": []
  }
 ],
 "metadata": {
  "kernelspec": {
   "display_name": "Python 3",
   "language": "python",
   "name": "python3"
  },
  "language_info": {
   "codemirror_mode": {
    "name": "ipython",
    "version": 3
   },
   "file_extension": ".py",
   "mimetype": "text/x-python",
   "name": "python",
   "nbconvert_exporter": "python",
   "pygments_lexer": "ipython3",
   "version": "3.4.5"
  }
 },
 "nbformat": 4,
 "nbformat_minor": 1
}
